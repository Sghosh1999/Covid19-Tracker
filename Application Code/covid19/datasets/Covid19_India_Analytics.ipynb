{
 "cells": [
  {
   "cell_type": "markdown",
   "metadata": {},
   "source": [
    "# Covid19_India Analysis"
   ]
  },
  {
   "cell_type": "code",
   "execution_count": 2,
   "metadata": {},
   "outputs": [],
   "source": [
    "import json\n",
    "from datetime import timedelta\n",
    "from urllib.request import urlopen"
   ]
  },
  {
   "cell_type": "code",
   "execution_count": 3,
   "metadata": {},
   "outputs": [],
   "source": [
    "import numpy as np\n",
    "import pandas as pd\n"
   ]
  },
  {
   "cell_type": "code",
   "execution_count": 11,
   "metadata": {},
   "outputs": [],
   "source": [
    "# visualization\n",
    "import matplotlib.pyplot as plt\n",
    "import seaborn as sns\n",
    "import plotly.express as px\n",
    "import plotly.graph_objects as go\n",
    "from plotly.subplots import make_subplots\n",
    "import folium"
   ]
  },
  {
   "cell_type": "code",
   "execution_count": 4,
   "metadata": {},
   "outputs": [],
   "source": [
    "# color pallette\n",
    "cnf = '#393e46' # confirmed - grey\n",
    "dth = '#ff2e63' # death - red\n",
    "rec = '#21bf73' # recovered - cyan\n",
    "act = '#fe9801' # active case - yellow\n",
    "\n",
    "from pandas.plotting import register_matplotlib_converters\n",
    "register_matplotlib_converters()"
   ]
  },
  {
   "cell_type": "code",
   "execution_count": 5,
   "metadata": {},
   "outputs": [
    {
     "data": {
      "text/html": [
       "        <script type=\"text/javascript\">\n",
       "        window.PlotlyConfig = {MathJaxConfig: 'local'};\n",
       "        if (window.MathJax) {MathJax.Hub.Config({SVG: {font: \"STIX-Web\"}});}\n",
       "        if (typeof require !== 'undefined') {\n",
       "        require.undef(\"plotly\");\n",
       "        requirejs.config({\n",
       "            paths: {\n",
       "                'plotly': ['https://cdn.plot.ly/plotly-latest.min']\n",
       "            }\n",
       "        });\n",
       "        require(['plotly'], function(Plotly) {\n",
       "            window._Plotly = Plotly;\n",
       "        });\n",
       "        }\n",
       "        </script>\n",
       "        "
      ]
     },
     "metadata": {},
     "output_type": "display_data"
    }
   ],
   "source": [
    "from plotly.offline import plot, iplot, init_notebook_mode\n",
    "init_notebook_mode(connected=True)"
   ]
  },
  {
   "cell_type": "code",
   "execution_count": 6,
   "metadata": {},
   "outputs": [
    {
     "data": {
      "text/html": [
       "<div>\n",
       "<style scoped>\n",
       "    .dataframe tbody tr th:only-of-type {\n",
       "        vertical-align: middle;\n",
       "    }\n",
       "\n",
       "    .dataframe tbody tr th {\n",
       "        vertical-align: top;\n",
       "    }\n",
       "\n",
       "    .dataframe thead th {\n",
       "        text-align: right;\n",
       "    }\n",
       "</style>\n",
       "<table border=\"1\" class=\"dataframe\">\n",
       "  <thead>\n",
       "    <tr style=\"text-align: right;\">\n",
       "      <th></th>\n",
       "      <th>Date</th>\n",
       "      <th>Name of State / UT</th>\n",
       "      <th>Total Confirmed cases (Indian National)</th>\n",
       "      <th>Total Confirmed cases ( Foreign National )</th>\n",
       "      <th>Cured/Discharged/Migrated</th>\n",
       "      <th>Latitude</th>\n",
       "      <th>Longitude</th>\n",
       "      <th>Death</th>\n",
       "      <th>Total Confirmed cases</th>\n",
       "    </tr>\n",
       "  </thead>\n",
       "  <tbody>\n",
       "    <tr>\n",
       "      <th>0</th>\n",
       "      <td>2020-01-30</td>\n",
       "      <td>Kerala</td>\n",
       "      <td>1</td>\n",
       "      <td>0</td>\n",
       "      <td>0</td>\n",
       "      <td>10.8505</td>\n",
       "      <td>76.2711</td>\n",
       "      <td>0</td>\n",
       "      <td>1</td>\n",
       "    </tr>\n",
       "    <tr>\n",
       "      <th>1</th>\n",
       "      <td>2020-01-31</td>\n",
       "      <td>Kerala</td>\n",
       "      <td>1</td>\n",
       "      <td>0</td>\n",
       "      <td>0</td>\n",
       "      <td>10.8505</td>\n",
       "      <td>76.2711</td>\n",
       "      <td>0</td>\n",
       "      <td>1</td>\n",
       "    </tr>\n",
       "    <tr>\n",
       "      <th>2</th>\n",
       "      <td>2020-02-01</td>\n",
       "      <td>Kerala</td>\n",
       "      <td>2</td>\n",
       "      <td>0</td>\n",
       "      <td>0</td>\n",
       "      <td>10.8505</td>\n",
       "      <td>76.2711</td>\n",
       "      <td>0</td>\n",
       "      <td>2</td>\n",
       "    </tr>\n",
       "    <tr>\n",
       "      <th>3</th>\n",
       "      <td>2020-02-02</td>\n",
       "      <td>Kerala</td>\n",
       "      <td>3</td>\n",
       "      <td>0</td>\n",
       "      <td>0</td>\n",
       "      <td>10.8505</td>\n",
       "      <td>76.2711</td>\n",
       "      <td>0</td>\n",
       "      <td>3</td>\n",
       "    </tr>\n",
       "    <tr>\n",
       "      <th>4</th>\n",
       "      <td>2020-02-03</td>\n",
       "      <td>Kerala</td>\n",
       "      <td>3</td>\n",
       "      <td>0</td>\n",
       "      <td>0</td>\n",
       "      <td>10.8505</td>\n",
       "      <td>76.2711</td>\n",
       "      <td>0</td>\n",
       "      <td>3</td>\n",
       "    </tr>\n",
       "  </tbody>\n",
       "</table>\n",
       "</div>"
      ],
      "text/plain": [
       "        Date Name of State / UT  Total Confirmed cases (Indian National)  \\\n",
       "0 2020-01-30             Kerala                                        1   \n",
       "1 2020-01-31             Kerala                                        1   \n",
       "2 2020-02-01             Kerala                                        2   \n",
       "3 2020-02-02             Kerala                                        3   \n",
       "4 2020-02-03             Kerala                                        3   \n",
       "\n",
       "   Total Confirmed cases ( Foreign National )  Cured/Discharged/Migrated  \\\n",
       "0                                           0                          0   \n",
       "1                                           0                          0   \n",
       "2                                           0                          0   \n",
       "3                                           0                          0   \n",
       "4                                           0                          0   \n",
       "\n",
       "   Latitude  Longitude  Death  Total Confirmed cases  \n",
       "0   10.8505    76.2711      0                      1  \n",
       "1   10.8505    76.2711      0                      1  \n",
       "2   10.8505    76.2711      0                      2  \n",
       "3   10.8505    76.2711      0                      3  \n",
       "4   10.8505    76.2711      0                      3  "
      ]
     },
     "execution_count": 6,
     "metadata": {},
     "output_type": "execute_result"
    }
   ],
   "source": [
    "# importing datasets\n",
    "df = pd.read_csv('complete.csv', parse_dates=['Date'])\n",
    "df['Name of State / UT'] = df['Name of State / UT'].str.replace('Union Territory of ', '')\n",
    "df.head()"
   ]
  },
  {
   "cell_type": "code",
   "execution_count": 7,
   "metadata": {},
   "outputs": [
    {
     "data": {
      "text/html": [
       "<div>\n",
       "<style scoped>\n",
       "    .dataframe tbody tr th:only-of-type {\n",
       "        vertical-align: middle;\n",
       "    }\n",
       "\n",
       "    .dataframe tbody tr th {\n",
       "        vertical-align: top;\n",
       "    }\n",
       "\n",
       "    .dataframe thead th {\n",
       "        text-align: right;\n",
       "    }\n",
       "</style>\n",
       "<table border=\"1\" class=\"dataframe\">\n",
       "  <thead>\n",
       "    <tr style=\"text-align: right;\">\n",
       "      <th></th>\n",
       "      <th>Date</th>\n",
       "      <th>State/UT</th>\n",
       "      <th>Latitude</th>\n",
       "      <th>Longitude</th>\n",
       "      <th>Confirmed</th>\n",
       "      <th>Active</th>\n",
       "      <th>Deaths</th>\n",
       "      <th>Mortality rate</th>\n",
       "      <th>Cured</th>\n",
       "      <th>Recovery rate</th>\n",
       "    </tr>\n",
       "  </thead>\n",
       "  <tbody>\n",
       "    <tr>\n",
       "      <th>0</th>\n",
       "      <td>2020-01-30</td>\n",
       "      <td>Kerala</td>\n",
       "      <td>10.8505</td>\n",
       "      <td>76.2711</td>\n",
       "      <td>1</td>\n",
       "      <td>1</td>\n",
       "      <td>0</td>\n",
       "      <td>0.0</td>\n",
       "      <td>0</td>\n",
       "      <td>0.0</td>\n",
       "    </tr>\n",
       "    <tr>\n",
       "      <th>1</th>\n",
       "      <td>2020-01-31</td>\n",
       "      <td>Kerala</td>\n",
       "      <td>10.8505</td>\n",
       "      <td>76.2711</td>\n",
       "      <td>1</td>\n",
       "      <td>1</td>\n",
       "      <td>0</td>\n",
       "      <td>0.0</td>\n",
       "      <td>0</td>\n",
       "      <td>0.0</td>\n",
       "    </tr>\n",
       "    <tr>\n",
       "      <th>2</th>\n",
       "      <td>2020-02-01</td>\n",
       "      <td>Kerala</td>\n",
       "      <td>10.8505</td>\n",
       "      <td>76.2711</td>\n",
       "      <td>2</td>\n",
       "      <td>2</td>\n",
       "      <td>0</td>\n",
       "      <td>0.0</td>\n",
       "      <td>0</td>\n",
       "      <td>0.0</td>\n",
       "    </tr>\n",
       "    <tr>\n",
       "      <th>3</th>\n",
       "      <td>2020-02-02</td>\n",
       "      <td>Kerala</td>\n",
       "      <td>10.8505</td>\n",
       "      <td>76.2711</td>\n",
       "      <td>3</td>\n",
       "      <td>3</td>\n",
       "      <td>0</td>\n",
       "      <td>0.0</td>\n",
       "      <td>0</td>\n",
       "      <td>0.0</td>\n",
       "    </tr>\n",
       "    <tr>\n",
       "      <th>4</th>\n",
       "      <td>2020-02-03</td>\n",
       "      <td>Kerala</td>\n",
       "      <td>10.8505</td>\n",
       "      <td>76.2711</td>\n",
       "      <td>3</td>\n",
       "      <td>3</td>\n",
       "      <td>0</td>\n",
       "      <td>0.0</td>\n",
       "      <td>0</td>\n",
       "      <td>0.0</td>\n",
       "    </tr>\n",
       "  </tbody>\n",
       "</table>\n",
       "</div>"
      ],
      "text/plain": [
       "        Date State/UT  Latitude  Longitude  Confirmed  Active  Deaths  \\\n",
       "0 2020-01-30   Kerala   10.8505    76.2711          1       1       0   \n",
       "1 2020-01-31   Kerala   10.8505    76.2711          1       1       0   \n",
       "2 2020-02-01   Kerala   10.8505    76.2711          2       2       0   \n",
       "3 2020-02-02   Kerala   10.8505    76.2711          3       3       0   \n",
       "4 2020-02-03   Kerala   10.8505    76.2711          3       3       0   \n",
       "\n",
       "   Mortality rate  Cured  Recovery rate  \n",
       "0             0.0      0            0.0  \n",
       "1             0.0      0            0.0  \n",
       "2             0.0      0            0.0  \n",
       "3             0.0      0            0.0  \n",
       "4             0.0      0            0.0  "
      ]
     },
     "execution_count": 7,
     "metadata": {},
     "output_type": "execute_result"
    }
   ],
   "source": [
    "df = df[['Date', 'Name of State / UT', 'Latitude', 'Longitude', 'Total Confirmed cases', 'Death', 'Cured/Discharged/Migrated']]\n",
    "df.columns = ['Date', 'State/UT', 'Latitude', 'Longitude', 'Confirmed', 'Deaths', 'Cured']\n",
    "\n",
    "for i in ['Confirmed', 'Deaths', 'Cured']:\n",
    "    df[i] = df[i].astype('int')\n",
    "    \n",
    "df['Active'] = df['Confirmed'] - df['Deaths'] - df['Cured']\n",
    "df['Mortality rate'] = df['Deaths']/df['Confirmed']\n",
    "df['Recovery rate'] = df['Cured']/df['Confirmed']\n",
    "\n",
    "df = df[['Date', 'State/UT', 'Latitude', 'Longitude', 'Confirmed', 'Active', 'Deaths', 'Mortality rate', 'Cured', 'Recovery rate']]\n",
    "\n",
    "df.head()"
   ]
  },
  {
   "cell_type": "code",
   "execution_count": 8,
   "metadata": {},
   "outputs": [],
   "source": [
    "latest = df[df['Date']==max(df['Date'])]\n",
    "\n",
    "# days\n",
    "latest_day = max(df['Date'])\n",
    "day_before = latest_day - timedelta(days = 1)\n",
    "\n",
    "# state and total cases \n",
    "latest_day_df = df[df['Date']==latest_day].set_index('State/UT')\n",
    "day_before_df = df[df['Date']==day_before].set_index('State/UT')\n",
    "\n",
    "temp = pd.merge(left = latest_day_df, right = day_before_df, on='State/UT', suffixes=('_lat', '_bfr'), how='outer')\n",
    "latest_day_df['New cases'] = temp['Confirmed_lat'] - temp['Confirmed_bfr']\n",
    "latest = latest_day_df.reset_index()\n",
    "latest.fillna(1, inplace=True)"
   ]
  },
  {
   "cell_type": "code",
   "execution_count": 9,
   "metadata": {},
   "outputs": [
    {
     "data": {
      "text/html": [
       "<style  type=\"text/css\" >\n",
       "    #T_b701acd8_7762_11ea_8a77_a0afbd74f418row0_col1 {\n",
       "            background-color:  #08306b;\n",
       "            color:  #f1f1f1;\n",
       "        }    #T_b701acd8_7762_11ea_8a77_a0afbd74f418row0_col2 {\n",
       "            background-color:  #08468b;\n",
       "            color:  #f1f1f1;\n",
       "        }    #T_b701acd8_7762_11ea_8a77_a0afbd74f418row0_col3 {\n",
       "            background-color:  #f7fbff;\n",
       "            color:  #000000;\n",
       "        }    #T_b701acd8_7762_11ea_8a77_a0afbd74f418row0_col4 {\n",
       "            background-color:  #67000d;\n",
       "            color:  #f1f1f1;\n",
       "        }    #T_b701acd8_7762_11ea_8a77_a0afbd74f418row0_col5 {\n",
       "            background-color:  #fcaf93;\n",
       "            color:  #000000;\n",
       "        }    #T_b701acd8_7762_11ea_8a77_a0afbd74f418row0_col6 {\n",
       "            background-color:  #00441b;\n",
       "            color:  #f1f1f1;\n",
       "        }    #T_b701acd8_7762_11ea_8a77_a0afbd74f418row0_col7 {\n",
       "            background-color:  #c6e8bf;\n",
       "            color:  #000000;\n",
       "        }    #T_b701acd8_7762_11ea_8a77_a0afbd74f418row1_col1 {\n",
       "            background-color:  #084488;\n",
       "            color:  #f1f1f1;\n",
       "        }    #T_b701acd8_7762_11ea_8a77_a0afbd74f418row1_col2 {\n",
       "            background-color:  #08306b;\n",
       "            color:  #f1f1f1;\n",
       "        }    #T_b701acd8_7762_11ea_8a77_a0afbd74f418row1_col3 {\n",
       "            background-color:  #08306b;\n",
       "            color:  #f1f1f1;\n",
       "        }    #T_b701acd8_7762_11ea_8a77_a0afbd74f418row1_col4 {\n",
       "            background-color:  #feeae1;\n",
       "            color:  #000000;\n",
       "        }    #T_b701acd8_7762_11ea_8a77_a0afbd74f418row1_col5 {\n",
       "            background-color:  #fff2ec;\n",
       "            color:  #000000;\n",
       "        }    #T_b701acd8_7762_11ea_8a77_a0afbd74f418row1_col6 {\n",
       "            background-color:  #e1f3dc;\n",
       "            color:  #000000;\n",
       "        }    #T_b701acd8_7762_11ea_8a77_a0afbd74f418row1_col7 {\n",
       "            background-color:  #f1faee;\n",
       "            color:  #000000;\n",
       "        }    #T_b701acd8_7762_11ea_8a77_a0afbd74f418row2_col1 {\n",
       "            background-color:  #0c56a0;\n",
       "            color:  #f1f1f1;\n",
       "        }    #T_b701acd8_7762_11ea_8a77_a0afbd74f418row2_col2 {\n",
       "            background-color:  #0d57a1;\n",
       "            color:  #f1f1f1;\n",
       "        }    #T_b701acd8_7762_11ea_8a77_a0afbd74f418row2_col3 {\n",
       "            background-color:  #bdd7ec;\n",
       "            color:  #000000;\n",
       "        }    #T_b701acd8_7762_11ea_8a77_a0afbd74f418row2_col4 {\n",
       "            background-color:  #fee0d2;\n",
       "            color:  #000000;\n",
       "        }    #T_b701acd8_7762_11ea_8a77_a0afbd74f418row2_col5 {\n",
       "            background-color:  #ffeee7;\n",
       "            color:  #000000;\n",
       "        }    #T_b701acd8_7762_11ea_8a77_a0afbd74f418row2_col6 {\n",
       "            background-color:  #3da65a;\n",
       "            color:  #000000;\n",
       "        }    #T_b701acd8_7762_11ea_8a77_a0afbd74f418row2_col7 {\n",
       "            background-color:  #d5efcf;\n",
       "            color:  #000000;\n",
       "        }    #T_b701acd8_7762_11ea_8a77_a0afbd74f418row3_col1 {\n",
       "            background-color:  #3a8ac2;\n",
       "            color:  #000000;\n",
       "        }    #T_b701acd8_7762_11ea_8a77_a0afbd74f418row3_col2 {\n",
       "            background-color:  #3282be;\n",
       "            color:  #000000;\n",
       "        }    #T_b701acd8_7762_11ea_8a77_a0afbd74f418row3_col3 {\n",
       "            background-color:  #084c95;\n",
       "            color:  #f1f1f1;\n",
       "        }    #T_b701acd8_7762_11ea_8a77_a0afbd74f418row3_col4 {\n",
       "            background-color:  #fcbba1;\n",
       "            color:  #000000;\n",
       "        }    #T_b701acd8_7762_11ea_8a77_a0afbd74f418row3_col5 {\n",
       "            background-color:  #fee3d6;\n",
       "            color:  #000000;\n",
       "        }    #T_b701acd8_7762_11ea_8a77_a0afbd74f418row3_col6 {\n",
       "            background-color:  #d6efd0;\n",
       "            color:  #000000;\n",
       "        }    #T_b701acd8_7762_11ea_8a77_a0afbd74f418row3_col7 {\n",
       "            background-color:  #ecf8e8;\n",
       "            color:  #000000;\n",
       "        }    #T_b701acd8_7762_11ea_8a77_a0afbd74f418row4_col1 {\n",
       "            background-color:  #95c5df;\n",
       "            color:  #000000;\n",
       "        }    #T_b701acd8_7762_11ea_8a77_a0afbd74f418row4_col2 {\n",
       "            background-color:  #89bedc;\n",
       "            color:  #000000;\n",
       "        }    #T_b701acd8_7762_11ea_8a77_a0afbd74f418row4_col3 {\n",
       "            background-color:  #abd0e6;\n",
       "            color:  #000000;\n",
       "        }    #T_b701acd8_7762_11ea_8a77_a0afbd74f418row4_col4 {\n",
       "            background-color:  #fff5f0;\n",
       "            color:  #000000;\n",
       "        }    #T_b701acd8_7762_11ea_8a77_a0afbd74f418row4_col5 {\n",
       "            background-color:  #fff5f0;\n",
       "            color:  #000000;\n",
       "        }    #T_b701acd8_7762_11ea_8a77_a0afbd74f418row4_col6 {\n",
       "            background-color:  #edf8e9;\n",
       "            color:  #000000;\n",
       "        }    #T_b701acd8_7762_11ea_8a77_a0afbd74f418row4_col7 {\n",
       "            background-color:  #f1faee;\n",
       "            color:  #000000;\n",
       "        }    #T_b701acd8_7762_11ea_8a77_a0afbd74f418row5_col1 {\n",
       "            background-color:  #97c6df;\n",
       "            color:  #000000;\n",
       "        }    #T_b701acd8_7762_11ea_8a77_a0afbd74f418row5_col2 {\n",
       "            background-color:  #89bedc;\n",
       "            color:  #000000;\n",
       "        }    #T_b701acd8_7762_11ea_8a77_a0afbd74f418row5_col3 {\n",
       "            background-color:  #4594c7;\n",
       "            color:  #000000;\n",
       "        }    #T_b701acd8_7762_11ea_8a77_a0afbd74f418row5_col4 {\n",
       "            background-color:  #feeae1;\n",
       "            color:  #000000;\n",
       "        }    #T_b701acd8_7762_11ea_8a77_a0afbd74f418row5_col5 {\n",
       "            background-color:  #ffeee6;\n",
       "            color:  #000000;\n",
       "        }    #T_b701acd8_7762_11ea_8a77_a0afbd74f418row5_col6 {\n",
       "            background-color:  #f4fbf1;\n",
       "            color:  #000000;\n",
       "        }    #T_b701acd8_7762_11ea_8a77_a0afbd74f418row5_col7 {\n",
       "            background-color:  #f5fbf3;\n",
       "            color:  #000000;\n",
       "        }    #T_b701acd8_7762_11ea_8a77_a0afbd74f418row6_col1 {\n",
       "            background-color:  #a0cbe2;\n",
       "            color:  #000000;\n",
       "        }    #T_b701acd8_7762_11ea_8a77_a0afbd74f418row6_col2 {\n",
       "            background-color:  #a1cbe2;\n",
       "            color:  #000000;\n",
       "        }    #T_b701acd8_7762_11ea_8a77_a0afbd74f418row6_col3 {\n",
       "            background-color:  #d3e3f3;\n",
       "            color:  #000000;\n",
       "        }    #T_b701acd8_7762_11ea_8a77_a0afbd74f418row6_col4 {\n",
       "            background-color:  #fdcdb9;\n",
       "            color:  #000000;\n",
       "        }    #T_b701acd8_7762_11ea_8a77_a0afbd74f418row6_col5 {\n",
       "            background-color:  #fedaca;\n",
       "            color:  #000000;\n",
       "        }    #T_b701acd8_7762_11ea_8a77_a0afbd74f418row6_col6 {\n",
       "            background-color:  #cbeac4;\n",
       "            color:  #000000;\n",
       "        }    #T_b701acd8_7762_11ea_8a77_a0afbd74f418row6_col7 {\n",
       "            background-color:  #dbf1d6;\n",
       "            color:  #000000;\n",
       "        }    #T_b701acd8_7762_11ea_8a77_a0afbd74f418row7_col1 {\n",
       "            background-color:  #abd0e6;\n",
       "            color:  #000000;\n",
       "        }    #T_b701acd8_7762_11ea_8a77_a0afbd74f418row7_col2 {\n",
       "            background-color:  #b0d2e7;\n",
       "            color:  #000000;\n",
       "        }    #T_b701acd8_7762_11ea_8a77_a0afbd74f418row7_col3 {\n",
       "            background-color:  #f7fbff;\n",
       "            color:  #000000;\n",
       "        }    #T_b701acd8_7762_11ea_8a77_a0afbd74f418row7_col4 {\n",
       "            background-color:  #fee0d2;\n",
       "            color:  #000000;\n",
       "        }    #T_b701acd8_7762_11ea_8a77_a0afbd74f418row7_col5 {\n",
       "            background-color:  #fee3d7;\n",
       "            color:  #000000;\n",
       "        }    #T_b701acd8_7762_11ea_8a77_a0afbd74f418row7_col6 {\n",
       "            background-color:  #aedea7;\n",
       "            color:  #000000;\n",
       "        }    #T_b701acd8_7762_11ea_8a77_a0afbd74f418row7_col7 {\n",
       "            background-color:  #c7e9c0;\n",
       "            color:  #000000;\n",
       "        }    #T_b701acd8_7762_11ea_8a77_a0afbd74f418row8_col1 {\n",
       "            background-color:  #b0d2e7;\n",
       "            color:  #000000;\n",
       "        }    #T_b701acd8_7762_11ea_8a77_a0afbd74f418row8_col2 {\n",
       "            background-color:  #aacfe5;\n",
       "            color:  #000000;\n",
       "        }    #T_b701acd8_7762_11ea_8a77_a0afbd74f418row8_col3 {\n",
       "            background-color:  #dae8f6;\n",
       "            color:  #000000;\n",
       "        }    #T_b701acd8_7762_11ea_8a77_a0afbd74f418row8_col4 {\n",
       "            background-color:  #fdcdb9;\n",
       "            color:  #000000;\n",
       "        }    #T_b701acd8_7762_11ea_8a77_a0afbd74f418row8_col5 {\n",
       "            background-color:  #fdd3c1;\n",
       "            color:  #000000;\n",
       "        }    #T_b701acd8_7762_11ea_8a77_a0afbd74f418row8_col6 {\n",
       "            background-color:  #f4fbf1;\n",
       "            color:  #000000;\n",
       "        }    #T_b701acd8_7762_11ea_8a77_a0afbd74f418row8_col7 {\n",
       "            background-color:  #f5fbf2;\n",
       "            color:  #000000;\n",
       "        }    #T_b701acd8_7762_11ea_8a77_a0afbd74f418row9_col1 {\n",
       "            background-color:  #b8d5ea;\n",
       "            color:  #000000;\n",
       "        }    #T_b701acd8_7762_11ea_8a77_a0afbd74f418row9_col2 {\n",
       "            background-color:  #b4d3e9;\n",
       "            color:  #000000;\n",
       "        }    #T_b701acd8_7762_11ea_8a77_a0afbd74f418row9_col3 {\n",
       "            background-color:  #f7fbff;\n",
       "            color:  #000000;\n",
       "        }    #T_b701acd8_7762_11ea_8a77_a0afbd74f418row9_col4 {\n",
       "            background-color:  #fc9272;\n",
       "            color:  #000000;\n",
       "        }    #T_b701acd8_7762_11ea_8a77_a0afbd74f418row9_col5 {\n",
       "            background-color:  #fc9576;\n",
       "            color:  #000000;\n",
       "        }    #T_b701acd8_7762_11ea_8a77_a0afbd74f418row9_col6 {\n",
       "            background-color:  #f7fcf5;\n",
       "            color:  #000000;\n",
       "        }    #T_b701acd8_7762_11ea_8a77_a0afbd74f418row9_col7 {\n",
       "            background-color:  #f7fcf5;\n",
       "            color:  #000000;\n",
       "        }    #T_b701acd8_7762_11ea_8a77_a0afbd74f418row10_col1 {\n",
       "            background-color:  #c4daee;\n",
       "            color:  #000000;\n",
       "        }    #T_b701acd8_7762_11ea_8a77_a0afbd74f418row10_col2 {\n",
       "            background-color:  #c9ddf0;\n",
       "            color:  #000000;\n",
       "        }    #T_b701acd8_7762_11ea_8a77_a0afbd74f418row10_col3 {\n",
       "            background-color:  #eaf2fb;\n",
       "            color:  #000000;\n",
       "        }    #T_b701acd8_7762_11ea_8a77_a0afbd74f418row10_col4 {\n",
       "            background-color:  #fb7d5d;\n",
       "            color:  #000000;\n",
       "        }    #T_b701acd8_7762_11ea_8a77_a0afbd74f418row10_col5 {\n",
       "            background-color:  #fb7050;\n",
       "            color:  #000000;\n",
       "        }    #T_b701acd8_7762_11ea_8a77_a0afbd74f418row10_col6 {\n",
       "            background-color:  #d6efd0;\n",
       "            color:  #000000;\n",
       "        }    #T_b701acd8_7762_11ea_8a77_a0afbd74f418row10_col7 {\n",
       "            background-color:  #d6efd0;\n",
       "            color:  #000000;\n",
       "        }    #T_b701acd8_7762_11ea_8a77_a0afbd74f418row11_col1 {\n",
       "            background-color:  #cfe1f2;\n",
       "            color:  #000000;\n",
       "        }    #T_b701acd8_7762_11ea_8a77_a0afbd74f418row11_col2 {\n",
       "            background-color:  #cde0f1;\n",
       "            color:  #000000;\n",
       "        }    #T_b701acd8_7762_11ea_8a77_a0afbd74f418row11_col3 {\n",
       "            background-color:  #e2edf8;\n",
       "            color:  #000000;\n",
       "        }    #T_b701acd8_7762_11ea_8a77_a0afbd74f418row11_col4 {\n",
       "            background-color:  #fee0d2;\n",
       "            color:  #000000;\n",
       "        }    #T_b701acd8_7762_11ea_8a77_a0afbd74f418row11_col5 {\n",
       "            background-color:  #fdd3c1;\n",
       "            color:  #000000;\n",
       "        }    #T_b701acd8_7762_11ea_8a77_a0afbd74f418row11_col6 {\n",
       "            background-color:  #edf8e9;\n",
       "            color:  #000000;\n",
       "        }    #T_b701acd8_7762_11ea_8a77_a0afbd74f418row11_col7 {\n",
       "            background-color:  #ebf7e7;\n",
       "            color:  #000000;\n",
       "        }    #T_b701acd8_7762_11ea_8a77_a0afbd74f418row12_col1 {\n",
       "            background-color:  #d9e7f5;\n",
       "            color:  #000000;\n",
       "        }    #T_b701acd8_7762_11ea_8a77_a0afbd74f418row12_col2 {\n",
       "            background-color:  #d9e7f5;\n",
       "            color:  #000000;\n",
       "        }    #T_b701acd8_7762_11ea_8a77_a0afbd74f418row12_col3 {\n",
       "            background-color:  #f5f9fe;\n",
       "            color:  #000000;\n",
       "        }    #T_b701acd8_7762_11ea_8a77_a0afbd74f418row12_col4 {\n",
       "            background-color:  #fdcdb9;\n",
       "            color:  #000000;\n",
       "        }    #T_b701acd8_7762_11ea_8a77_a0afbd74f418row12_col5 {\n",
       "            background-color:  #fc9e80;\n",
       "            color:  #000000;\n",
       "        }    #T_b701acd8_7762_11ea_8a77_a0afbd74f418row12_col6 {\n",
       "            background-color:  #edf8e9;\n",
       "            color:  #000000;\n",
       "        }    #T_b701acd8_7762_11ea_8a77_a0afbd74f418row12_col7 {\n",
       "            background-color:  #e7f6e2;\n",
       "            color:  #000000;\n",
       "        }    #T_b701acd8_7762_11ea_8a77_a0afbd74f418row13_col1 {\n",
       "            background-color:  #dceaf6;\n",
       "            color:  #000000;\n",
       "        }    #T_b701acd8_7762_11ea_8a77_a0afbd74f418row13_col2 {\n",
       "            background-color:  #dceaf6;\n",
       "            color:  #000000;\n",
       "        }    #T_b701acd8_7762_11ea_8a77_a0afbd74f418row13_col3 {\n",
       "            background-color:  #f7fbff;\n",
       "            color:  #000000;\n",
       "        }    #T_b701acd8_7762_11ea_8a77_a0afbd74f418row13_col4 {\n",
       "            background-color:  #fcbba1;\n",
       "            color:  #000000;\n",
       "        }    #T_b701acd8_7762_11ea_8a77_a0afbd74f418row13_col5 {\n",
       "            background-color:  #f96245;\n",
       "            color:  #000000;\n",
       "        }    #T_b701acd8_7762_11ea_8a77_a0afbd74f418row13_col6 {\n",
       "            background-color:  #f4fbf1;\n",
       "            color:  #000000;\n",
       "        }    #T_b701acd8_7762_11ea_8a77_a0afbd74f418row13_col7 {\n",
       "            background-color:  #f1faee;\n",
       "            color:  #000000;\n",
       "        }    #T_b701acd8_7762_11ea_8a77_a0afbd74f418row14_col1 {\n",
       "            background-color:  #deebf7;\n",
       "            color:  #000000;\n",
       "        }    #T_b701acd8_7762_11ea_8a77_a0afbd74f418row14_col2 {\n",
       "            background-color:  #eaf2fb;\n",
       "            color:  #000000;\n",
       "        }    #T_b701acd8_7762_11ea_8a77_a0afbd74f418row14_col3 {\n",
       "            background-color:  #f7fbff;\n",
       "            color:  #000000;\n",
       "        }    #T_b701acd8_7762_11ea_8a77_a0afbd74f418row14_col4 {\n",
       "            background-color:  #fff5f0;\n",
       "            color:  #000000;\n",
       "        }    #T_b701acd8_7762_11ea_8a77_a0afbd74f418row14_col5 {\n",
       "            background-color:  #fff5f0;\n",
       "            color:  #000000;\n",
       "        }    #T_b701acd8_7762_11ea_8a77_a0afbd74f418row14_col6 {\n",
       "            background-color:  #73c476;\n",
       "            color:  #000000;\n",
       "        }    #T_b701acd8_7762_11ea_8a77_a0afbd74f418row14_col7 {\n",
       "            background-color:  #00441b;\n",
       "            color:  #f1f1f1;\n",
       "        }    #T_b701acd8_7762_11ea_8a77_a0afbd74f418row15_col1 {\n",
       "            background-color:  #eaf2fb;\n",
       "            color:  #000000;\n",
       "        }    #T_b701acd8_7762_11ea_8a77_a0afbd74f418row15_col2 {\n",
       "            background-color:  #e9f2fa;\n",
       "            color:  #000000;\n",
       "        }    #T_b701acd8_7762_11ea_8a77_a0afbd74f418row15_col3 {\n",
       "            background-color:  #f5f9fe;\n",
       "            color:  #000000;\n",
       "        }    #T_b701acd8_7762_11ea_8a77_a0afbd74f418row15_col4 {\n",
       "            background-color:  #feeae1;\n",
       "            color:  #000000;\n",
       "        }    #T_b701acd8_7762_11ea_8a77_a0afbd74f418row15_col5 {\n",
       "            background-color:  #fcbba1;\n",
       "            color:  #000000;\n",
       "        }    #T_b701acd8_7762_11ea_8a77_a0afbd74f418row15_col6 {\n",
       "            background-color:  #f7fcf5;\n",
       "            color:  #000000;\n",
       "        }    #T_b701acd8_7762_11ea_8a77_a0afbd74f418row15_col7 {\n",
       "            background-color:  #f7fcf5;\n",
       "            color:  #000000;\n",
       "        }    #T_b701acd8_7762_11ea_8a77_a0afbd74f418row16_col1 {\n",
       "            background-color:  #edf4fc;\n",
       "            color:  #000000;\n",
       "        }    #T_b701acd8_7762_11ea_8a77_a0afbd74f418row16_col2 {\n",
       "            background-color:  #ecf4fb;\n",
       "            color:  #000000;\n",
       "        }    #T_b701acd8_7762_11ea_8a77_a0afbd74f418row16_col3 {\n",
       "            background-color:  #f2f8fd;\n",
       "            color:  #000000;\n",
       "        }    #T_b701acd8_7762_11ea_8a77_a0afbd74f418row16_col4 {\n",
       "            background-color:  #fff5f0;\n",
       "            color:  #000000;\n",
       "        }    #T_b701acd8_7762_11ea_8a77_a0afbd74f418row16_col5 {\n",
       "            background-color:  #fff5f0;\n",
       "            color:  #000000;\n",
       "        }    #T_b701acd8_7762_11ea_8a77_a0afbd74f418row16_col6 {\n",
       "            background-color:  #f7fcf5;\n",
       "            color:  #000000;\n",
       "        }    #T_b701acd8_7762_11ea_8a77_a0afbd74f418row16_col7 {\n",
       "            background-color:  #f7fcf5;\n",
       "            color:  #000000;\n",
       "        }    #T_b701acd8_7762_11ea_8a77_a0afbd74f418row17_col1 {\n",
       "            background-color:  #eef5fc;\n",
       "            color:  #000000;\n",
       "        }    #T_b701acd8_7762_11ea_8a77_a0afbd74f418row17_col2 {\n",
       "            background-color:  #eef5fc;\n",
       "            color:  #000000;\n",
       "        }    #T_b701acd8_7762_11ea_8a77_a0afbd74f418row17_col3 {\n",
       "            background-color:  #d0e1f2;\n",
       "            color:  #000000;\n",
       "        }    #T_b701acd8_7762_11ea_8a77_a0afbd74f418row17_col4 {\n",
       "            background-color:  #fff5f0;\n",
       "            color:  #000000;\n",
       "        }    #T_b701acd8_7762_11ea_8a77_a0afbd74f418row17_col5 {\n",
       "            background-color:  #fff5f0;\n",
       "            color:  #000000;\n",
       "        }    #T_b701acd8_7762_11ea_8a77_a0afbd74f418row17_col6 {\n",
       "            background-color:  #f7fcf5;\n",
       "            color:  #000000;\n",
       "        }    #T_b701acd8_7762_11ea_8a77_a0afbd74f418row17_col7 {\n",
       "            background-color:  #f7fcf5;\n",
       "            color:  #000000;\n",
       "        }    #T_b701acd8_7762_11ea_8a77_a0afbd74f418row18_col1 {\n",
       "            background-color:  #f0f6fd;\n",
       "            color:  #000000;\n",
       "        }    #T_b701acd8_7762_11ea_8a77_a0afbd74f418row18_col2 {\n",
       "            background-color:  #f1f7fd;\n",
       "            color:  #000000;\n",
       "        }    #T_b701acd8_7762_11ea_8a77_a0afbd74f418row18_col3 {\n",
       "            background-color:  #f5f9fe;\n",
       "            color:  #000000;\n",
       "        }    #T_b701acd8_7762_11ea_8a77_a0afbd74f418row18_col4 {\n",
       "            background-color:  #fff5f0;\n",
       "            color:  #000000;\n",
       "        }    #T_b701acd8_7762_11ea_8a77_a0afbd74f418row18_col5 {\n",
       "            background-color:  #fff5f0;\n",
       "            color:  #000000;\n",
       "        }    #T_b701acd8_7762_11ea_8a77_a0afbd74f418row18_col6 {\n",
       "            background-color:  #edf8e9;\n",
       "            color:  #000000;\n",
       "        }    #T_b701acd8_7762_11ea_8a77_a0afbd74f418row18_col7 {\n",
       "            background-color:  #8ace88;\n",
       "            color:  #000000;\n",
       "        }    #T_b701acd8_7762_11ea_8a77_a0afbd74f418row19_col1 {\n",
       "            background-color:  #f2f8fd;\n",
       "            color:  #000000;\n",
       "        }    #T_b701acd8_7762_11ea_8a77_a0afbd74f418row19_col2 {\n",
       "            background-color:  #f2f7fd;\n",
       "            color:  #000000;\n",
       "        }    #T_b701acd8_7762_11ea_8a77_a0afbd74f418row19_col3 {\n",
       "            background-color:  #f7fbff;\n",
       "            color:  #000000;\n",
       "        }    #T_b701acd8_7762_11ea_8a77_a0afbd74f418row19_col4 {\n",
       "            background-color:  #fff5f0;\n",
       "            color:  #000000;\n",
       "        }    #T_b701acd8_7762_11ea_8a77_a0afbd74f418row19_col5 {\n",
       "            background-color:  #fff5f0;\n",
       "            color:  #000000;\n",
       "        }    #T_b701acd8_7762_11ea_8a77_a0afbd74f418row19_col6 {\n",
       "            background-color:  #f7fcf5;\n",
       "            color:  #000000;\n",
       "        }    #T_b701acd8_7762_11ea_8a77_a0afbd74f418row19_col7 {\n",
       "            background-color:  #f7fcf5;\n",
       "            color:  #000000;\n",
       "        }    #T_b701acd8_7762_11ea_8a77_a0afbd74f418row20_col1 {\n",
       "            background-color:  #f2f8fd;\n",
       "            color:  #000000;\n",
       "        }    #T_b701acd8_7762_11ea_8a77_a0afbd74f418row20_col2 {\n",
       "            background-color:  #f3f8fe;\n",
       "            color:  #000000;\n",
       "        }    #T_b701acd8_7762_11ea_8a77_a0afbd74f418row20_col3 {\n",
       "            background-color:  #eff6fc;\n",
       "            color:  #000000;\n",
       "        }    #T_b701acd8_7762_11ea_8a77_a0afbd74f418row20_col4 {\n",
       "            background-color:  #fff5f0;\n",
       "            color:  #000000;\n",
       "        }    #T_b701acd8_7762_11ea_8a77_a0afbd74f418row20_col5 {\n",
       "            background-color:  #fff5f0;\n",
       "            color:  #000000;\n",
       "        }    #T_b701acd8_7762_11ea_8a77_a0afbd74f418row20_col6 {\n",
       "            background-color:  #f0f9ed;\n",
       "            color:  #000000;\n",
       "        }    #T_b701acd8_7762_11ea_8a77_a0afbd74f418row20_col7 {\n",
       "            background-color:  #95d391;\n",
       "            color:  #000000;\n",
       "        }    #T_b701acd8_7762_11ea_8a77_a0afbd74f418row21_col1 {\n",
       "            background-color:  #f2f8fd;\n",
       "            color:  #000000;\n",
       "        }    #T_b701acd8_7762_11ea_8a77_a0afbd74f418row21_col2 {\n",
       "            background-color:  #f3f8fe;\n",
       "            color:  #000000;\n",
       "        }    #T_b701acd8_7762_11ea_8a77_a0afbd74f418row21_col3 {\n",
       "            background-color:  #f7fbff;\n",
       "            color:  #000000;\n",
       "        }    #T_b701acd8_7762_11ea_8a77_a0afbd74f418row21_col4 {\n",
       "            background-color:  #fff5f0;\n",
       "            color:  #000000;\n",
       "        }    #T_b701acd8_7762_11ea_8a77_a0afbd74f418row21_col5 {\n",
       "            background-color:  #fff5f0;\n",
       "            color:  #000000;\n",
       "        }    #T_b701acd8_7762_11ea_8a77_a0afbd74f418row21_col6 {\n",
       "            background-color:  #f0f9ed;\n",
       "            color:  #000000;\n",
       "        }    #T_b701acd8_7762_11ea_8a77_a0afbd74f418row21_col7 {\n",
       "            background-color:  #84cc83;\n",
       "            color:  #000000;\n",
       "        }    #T_b701acd8_7762_11ea_8a77_a0afbd74f418row22_col1 {\n",
       "            background-color:  #f5f9fe;\n",
       "            color:  #000000;\n",
       "        }    #T_b701acd8_7762_11ea_8a77_a0afbd74f418row22_col2 {\n",
       "            background-color:  #f4f9fe;\n",
       "            color:  #000000;\n",
       "        }    #T_b701acd8_7762_11ea_8a77_a0afbd74f418row22_col3 {\n",
       "            background-color:  #f5f9fe;\n",
       "            color:  #000000;\n",
       "        }    #T_b701acd8_7762_11ea_8a77_a0afbd74f418row22_col4 {\n",
       "            background-color:  #fff5f0;\n",
       "            color:  #000000;\n",
       "        }    #T_b701acd8_7762_11ea_8a77_a0afbd74f418row22_col5 {\n",
       "            background-color:  #fff5f0;\n",
       "            color:  #000000;\n",
       "        }    #T_b701acd8_7762_11ea_8a77_a0afbd74f418row22_col6 {\n",
       "            background-color:  #f7fcf5;\n",
       "            color:  #000000;\n",
       "        }    #T_b701acd8_7762_11ea_8a77_a0afbd74f418row22_col7 {\n",
       "            background-color:  #f7fcf5;\n",
       "            color:  #000000;\n",
       "        }    #T_b701acd8_7762_11ea_8a77_a0afbd74f418row23_col1 {\n",
       "            background-color:  #f5f9fe;\n",
       "            color:  #000000;\n",
       "        }    #T_b701acd8_7762_11ea_8a77_a0afbd74f418row23_col2 {\n",
       "            background-color:  #f5fafe;\n",
       "            color:  #000000;\n",
       "        }    #T_b701acd8_7762_11ea_8a77_a0afbd74f418row23_col3 {\n",
       "            background-color:  #eff6fc;\n",
       "            color:  #000000;\n",
       "        }    #T_b701acd8_7762_11ea_8a77_a0afbd74f418row23_col4 {\n",
       "            background-color:  #feeae1;\n",
       "            color:  #000000;\n",
       "        }    #T_b701acd8_7762_11ea_8a77_a0afbd74f418row23_col5 {\n",
       "            background-color:  #67000d;\n",
       "            color:  #f1f1f1;\n",
       "        }    #T_b701acd8_7762_11ea_8a77_a0afbd74f418row23_col6 {\n",
       "            background-color:  #f4fbf1;\n",
       "            color:  #000000;\n",
       "        }    #T_b701acd8_7762_11ea_8a77_a0afbd74f418row23_col7 {\n",
       "            background-color:  #abdda5;\n",
       "            color:  #000000;\n",
       "        }    #T_b701acd8_7762_11ea_8a77_a0afbd74f418row24_col1 {\n",
       "            background-color:  #f5f9fe;\n",
       "            color:  #000000;\n",
       "        }    #T_b701acd8_7762_11ea_8a77_a0afbd74f418row24_col2 {\n",
       "            background-color:  #f5f9fe;\n",
       "            color:  #000000;\n",
       "        }    #T_b701acd8_7762_11ea_8a77_a0afbd74f418row24_col3 {\n",
       "            background-color:  #f5f9fe;\n",
       "            color:  #000000;\n",
       "        }    #T_b701acd8_7762_11ea_8a77_a0afbd74f418row24_col4 {\n",
       "            background-color:  #fff5f0;\n",
       "            color:  #000000;\n",
       "        }    #T_b701acd8_7762_11ea_8a77_a0afbd74f418row24_col5 {\n",
       "            background-color:  #fff5f0;\n",
       "            color:  #000000;\n",
       "        }    #T_b701acd8_7762_11ea_8a77_a0afbd74f418row24_col6 {\n",
       "            background-color:  #f7fcf5;\n",
       "            color:  #000000;\n",
       "        }    #T_b701acd8_7762_11ea_8a77_a0afbd74f418row24_col7 {\n",
       "            background-color:  #f7fcf5;\n",
       "            color:  #000000;\n",
       "        }    #T_b701acd8_7762_11ea_8a77_a0afbd74f418row25_col1 {\n",
       "            background-color:  #f6faff;\n",
       "            color:  #000000;\n",
       "        }    #T_b701acd8_7762_11ea_8a77_a0afbd74f418row25_col2 {\n",
       "            background-color:  #f7fbff;\n",
       "            color:  #000000;\n",
       "        }    #T_b701acd8_7762_11ea_8a77_a0afbd74f418row25_col3 {\n",
       "            background-color:  #f7fbff;\n",
       "            color:  #000000;\n",
       "        }    #T_b701acd8_7762_11ea_8a77_a0afbd74f418row25_col4 {\n",
       "            background-color:  #fff5f0;\n",
       "            color:  #000000;\n",
       "        }    #T_b701acd8_7762_11ea_8a77_a0afbd74f418row25_col5 {\n",
       "            background-color:  #fff5f0;\n",
       "            color:  #000000;\n",
       "        }    #T_b701acd8_7762_11ea_8a77_a0afbd74f418row25_col6 {\n",
       "            background-color:  #f4fbf1;\n",
       "            color:  #000000;\n",
       "        }    #T_b701acd8_7762_11ea_8a77_a0afbd74f418row25_col7 {\n",
       "            background-color:  #339c52;\n",
       "            color:  #000000;\n",
       "        }    #T_b701acd8_7762_11ea_8a77_a0afbd74f418row26_col1 {\n",
       "            background-color:  #f7fbff;\n",
       "            color:  #000000;\n",
       "        }    #T_b701acd8_7762_11ea_8a77_a0afbd74f418row26_col2 {\n",
       "            background-color:  #f7fbff;\n",
       "            color:  #000000;\n",
       "        }    #T_b701acd8_7762_11ea_8a77_a0afbd74f418row26_col3 {\n",
       "            background-color:  #f5f9fe;\n",
       "            color:  #000000;\n",
       "        }    #T_b701acd8_7762_11ea_8a77_a0afbd74f418row26_col4 {\n",
       "            background-color:  #fff5f0;\n",
       "            color:  #000000;\n",
       "        }    #T_b701acd8_7762_11ea_8a77_a0afbd74f418row26_col5 {\n",
       "            background-color:  #fff5f0;\n",
       "            color:  #000000;\n",
       "        }    #T_b701acd8_7762_11ea_8a77_a0afbd74f418row26_col6 {\n",
       "            background-color:  #f7fcf5;\n",
       "            color:  #000000;\n",
       "        }    #T_b701acd8_7762_11ea_8a77_a0afbd74f418row26_col7 {\n",
       "            background-color:  #f7fcf5;\n",
       "            color:  #000000;\n",
       "        }    #T_b701acd8_7762_11ea_8a77_a0afbd74f418row27_col1 {\n",
       "            background-color:  #f7fbff;\n",
       "            color:  #000000;\n",
       "        }    #T_b701acd8_7762_11ea_8a77_a0afbd74f418row27_col2 {\n",
       "            background-color:  #f7fbff;\n",
       "            color:  #000000;\n",
       "        }    #T_b701acd8_7762_11ea_8a77_a0afbd74f418row27_col3 {\n",
       "            background-color:  #f5f9fe;\n",
       "            color:  #000000;\n",
       "        }    #T_b701acd8_7762_11ea_8a77_a0afbd74f418row27_col4 {\n",
       "            background-color:  #fff5f0;\n",
       "            color:  #000000;\n",
       "        }    #T_b701acd8_7762_11ea_8a77_a0afbd74f418row27_col5 {\n",
       "            background-color:  #fff5f0;\n",
       "            color:  #000000;\n",
       "        }    #T_b701acd8_7762_11ea_8a77_a0afbd74f418row27_col6 {\n",
       "            background-color:  #f7fcf5;\n",
       "            color:  #000000;\n",
       "        }    #T_b701acd8_7762_11ea_8a77_a0afbd74f418row27_col7 {\n",
       "            background-color:  #f7fcf5;\n",
       "            color:  #000000;\n",
       "        }    #T_b701acd8_7762_11ea_8a77_a0afbd74f418row28_col1 {\n",
       "            background-color:  #f7fbff;\n",
       "            color:  #000000;\n",
       "        }    #T_b701acd8_7762_11ea_8a77_a0afbd74f418row28_col2 {\n",
       "            background-color:  #f7fbff;\n",
       "            color:  #000000;\n",
       "        }    #T_b701acd8_7762_11ea_8a77_a0afbd74f418row28_col3 {\n",
       "            background-color:  #f7fbff;\n",
       "            color:  #000000;\n",
       "        }    #T_b701acd8_7762_11ea_8a77_a0afbd74f418row28_col4 {\n",
       "            background-color:  #fff5f0;\n",
       "            color:  #000000;\n",
       "        }    #T_b701acd8_7762_11ea_8a77_a0afbd74f418row28_col5 {\n",
       "            background-color:  #fff5f0;\n",
       "            color:  #000000;\n",
       "        }    #T_b701acd8_7762_11ea_8a77_a0afbd74f418row28_col6 {\n",
       "            background-color:  #f7fcf5;\n",
       "            color:  #000000;\n",
       "        }    #T_b701acd8_7762_11ea_8a77_a0afbd74f418row28_col7 {\n",
       "            background-color:  #f7fcf5;\n",
       "            color:  #000000;\n",
       "        }    #T_b701acd8_7762_11ea_8a77_a0afbd74f418row29_col1 {\n",
       "            background-color:  #f7fbff;\n",
       "            color:  #000000;\n",
       "        }    #T_b701acd8_7762_11ea_8a77_a0afbd74f418row29_col2 {\n",
       "            background-color:  #f7fbff;\n",
       "            color:  #000000;\n",
       "        }    #T_b701acd8_7762_11ea_8a77_a0afbd74f418row29_col3 {\n",
       "            background-color:  #f5f9fe;\n",
       "            color:  #000000;\n",
       "        }    #T_b701acd8_7762_11ea_8a77_a0afbd74f418row29_col4 {\n",
       "            background-color:  #fff5f0;\n",
       "            color:  #000000;\n",
       "        }    #T_b701acd8_7762_11ea_8a77_a0afbd74f418row29_col5 {\n",
       "            background-color:  #fff5f0;\n",
       "            color:  #000000;\n",
       "        }    #T_b701acd8_7762_11ea_8a77_a0afbd74f418row29_col6 {\n",
       "            background-color:  #f7fcf5;\n",
       "            color:  #000000;\n",
       "        }    #T_b701acd8_7762_11ea_8a77_a0afbd74f418row29_col7 {\n",
       "            background-color:  #f7fcf5;\n",
       "            color:  #000000;\n",
       "        }</style><table id=\"T_b701acd8_7762_11ea_8a77_a0afbd74f418\" ><thead>    <tr>        <th class=\"blank level0\" ></th>        <th class=\"col_heading level0 col0\" >State/UT</th>        <th class=\"col_heading level0 col1\" >Confirmed</th>        <th class=\"col_heading level0 col2\" >Active</th>        <th class=\"col_heading level0 col3\" >New cases</th>        <th class=\"col_heading level0 col4\" >Deaths</th>        <th class=\"col_heading level0 col5\" >Mortality rate</th>        <th class=\"col_heading level0 col6\" >Cured</th>        <th class=\"col_heading level0 col7\" >Recovery rate</th>    </tr></thead><tbody>\n",
       "                <tr>\n",
       "                        <th id=\"T_b701acd8_7762_11ea_8a77_a0afbd74f418level0_row0\" class=\"row_heading level0 row0\" >0</th>\n",
       "                        <td id=\"T_b701acd8_7762_11ea_8a77_a0afbd74f418row0_col0\" class=\"data row0 col0\" >Maharashtra</td>\n",
       "                        <td id=\"T_b701acd8_7762_11ea_8a77_a0afbd74f418row0_col1\" class=\"data row0 col1\" >335</td>\n",
       "                        <td id=\"T_b701acd8_7762_11ea_8a77_a0afbd74f418row0_col2\" class=\"data row0 col2\" >277</td>\n",
       "                        <td id=\"T_b701acd8_7762_11ea_8a77_a0afbd74f418row0_col3\" class=\"data row0 col3\" >0.000000</td>\n",
       "                        <td id=\"T_b701acd8_7762_11ea_8a77_a0afbd74f418row0_col4\" class=\"data row0 col4\" >16</td>\n",
       "                        <td id=\"T_b701acd8_7762_11ea_8a77_a0afbd74f418row0_col5\" class=\"data row0 col5\" >0.047761</td>\n",
       "                        <td id=\"T_b701acd8_7762_11ea_8a77_a0afbd74f418row0_col6\" class=\"data row0 col6\" >42</td>\n",
       "                        <td id=\"T_b701acd8_7762_11ea_8a77_a0afbd74f418row0_col7\" class=\"data row0 col7\" >0.125373</td>\n",
       "            </tr>\n",
       "            <tr>\n",
       "                        <th id=\"T_b701acd8_7762_11ea_8a77_a0afbd74f418level0_row1\" class=\"row_heading level0 row1\" >1</th>\n",
       "                        <td id=\"T_b701acd8_7762_11ea_8a77_a0afbd74f418row1_col0\" class=\"data row1 col0\" >Tamil Nadu</td>\n",
       "                        <td id=\"T_b701acd8_7762_11ea_8a77_a0afbd74f418row1_col1\" class=\"data row1 col1\" >309</td>\n",
       "                        <td id=\"T_b701acd8_7762_11ea_8a77_a0afbd74f418row1_col2\" class=\"data row1 col2\" >302</td>\n",
       "                        <td id=\"T_b701acd8_7762_11ea_8a77_a0afbd74f418row1_col3\" class=\"data row1 col3\" >75.000000</td>\n",
       "                        <td id=\"T_b701acd8_7762_11ea_8a77_a0afbd74f418row1_col4\" class=\"data row1 col4\" >1</td>\n",
       "                        <td id=\"T_b701acd8_7762_11ea_8a77_a0afbd74f418row1_col5\" class=\"data row1 col5\" >0.003236</td>\n",
       "                        <td id=\"T_b701acd8_7762_11ea_8a77_a0afbd74f418row1_col6\" class=\"data row1 col6\" >6</td>\n",
       "                        <td id=\"T_b701acd8_7762_11ea_8a77_a0afbd74f418row1_col7\" class=\"data row1 col7\" >0.019417</td>\n",
       "            </tr>\n",
       "            <tr>\n",
       "                        <th id=\"T_b701acd8_7762_11ea_8a77_a0afbd74f418level0_row2\" class=\"row_heading level0 row2\" >2</th>\n",
       "                        <td id=\"T_b701acd8_7762_11ea_8a77_a0afbd74f418row2_col0\" class=\"data row2 col0\" >Kerala</td>\n",
       "                        <td id=\"T_b701acd8_7762_11ea_8a77_a0afbd74f418row2_col1\" class=\"data row2 col1\" >286</td>\n",
       "                        <td id=\"T_b701acd8_7762_11ea_8a77_a0afbd74f418row2_col2\" class=\"data row2 col2\" >257</td>\n",
       "                        <td id=\"T_b701acd8_7762_11ea_8a77_a0afbd74f418row2_col3\" class=\"data row2 col3\" >21.000000</td>\n",
       "                        <td id=\"T_b701acd8_7762_11ea_8a77_a0afbd74f418row2_col4\" class=\"data row2 col4\" >2</td>\n",
       "                        <td id=\"T_b701acd8_7762_11ea_8a77_a0afbd74f418row2_col5\" class=\"data row2 col5\" >0.006993</td>\n",
       "                        <td id=\"T_b701acd8_7762_11ea_8a77_a0afbd74f418row2_col6\" class=\"data row2 col6\" >27</td>\n",
       "                        <td id=\"T_b701acd8_7762_11ea_8a77_a0afbd74f418row2_col7\" class=\"data row2 col7\" >0.094406</td>\n",
       "            </tr>\n",
       "            <tr>\n",
       "                        <th id=\"T_b701acd8_7762_11ea_8a77_a0afbd74f418level0_row3\" class=\"row_heading level0 row3\" >3</th>\n",
       "                        <td id=\"T_b701acd8_7762_11ea_8a77_a0afbd74f418row3_col0\" class=\"data row3 col0\" >Delhi</td>\n",
       "                        <td id=\"T_b701acd8_7762_11ea_8a77_a0afbd74f418row3_col1\" class=\"data row3 col1\" >219</td>\n",
       "                        <td id=\"T_b701acd8_7762_11ea_8a77_a0afbd74f418row3_col2\" class=\"data row3 col2\" >207</td>\n",
       "                        <td id=\"T_b701acd8_7762_11ea_8a77_a0afbd74f418row3_col3\" class=\"data row3 col3\" >67.000000</td>\n",
       "                        <td id=\"T_b701acd8_7762_11ea_8a77_a0afbd74f418row3_col4\" class=\"data row3 col4\" >4</td>\n",
       "                        <td id=\"T_b701acd8_7762_11ea_8a77_a0afbd74f418row3_col5\" class=\"data row3 col5\" >0.018265</td>\n",
       "                        <td id=\"T_b701acd8_7762_11ea_8a77_a0afbd74f418row3_col6\" class=\"data row3 col6\" >8</td>\n",
       "                        <td id=\"T_b701acd8_7762_11ea_8a77_a0afbd74f418row3_col7\" class=\"data row3 col7\" >0.036530</td>\n",
       "            </tr>\n",
       "            <tr>\n",
       "                        <th id=\"T_b701acd8_7762_11ea_8a77_a0afbd74f418level0_row4\" class=\"row_heading level0 row4\" >4</th>\n",
       "                        <td id=\"T_b701acd8_7762_11ea_8a77_a0afbd74f418row4_col0\" class=\"data row4 col0\" >Rajasthan</td>\n",
       "                        <td id=\"T_b701acd8_7762_11ea_8a77_a0afbd74f418row4_col1\" class=\"data row4 col1\" >133</td>\n",
       "                        <td id=\"T_b701acd8_7762_11ea_8a77_a0afbd74f418row4_col2\" class=\"data row4 col2\" >130</td>\n",
       "                        <td id=\"T_b701acd8_7762_11ea_8a77_a0afbd74f418row4_col3\" class=\"data row4 col3\" >25.000000</td>\n",
       "                        <td id=\"T_b701acd8_7762_11ea_8a77_a0afbd74f418row4_col4\" class=\"data row4 col4\" >0</td>\n",
       "                        <td id=\"T_b701acd8_7762_11ea_8a77_a0afbd74f418row4_col5\" class=\"data row4 col5\" >0.000000</td>\n",
       "                        <td id=\"T_b701acd8_7762_11ea_8a77_a0afbd74f418row4_col6\" class=\"data row4 col6\" >3</td>\n",
       "                        <td id=\"T_b701acd8_7762_11ea_8a77_a0afbd74f418row4_col7\" class=\"data row4 col7\" >0.022556</td>\n",
       "            </tr>\n",
       "            <tr>\n",
       "                        <th id=\"T_b701acd8_7762_11ea_8a77_a0afbd74f418level0_row5\" class=\"row_heading level0 row5\" >5</th>\n",
       "                        <td id=\"T_b701acd8_7762_11ea_8a77_a0afbd74f418row5_col0\" class=\"data row5 col0\" >Andhra Pradesh</td>\n",
       "                        <td id=\"T_b701acd8_7762_11ea_8a77_a0afbd74f418row5_col1\" class=\"data row5 col1\" >132</td>\n",
       "                        <td id=\"T_b701acd8_7762_11ea_8a77_a0afbd74f418row5_col2\" class=\"data row5 col2\" >130</td>\n",
       "                        <td id=\"T_b701acd8_7762_11ea_8a77_a0afbd74f418row5_col3\" class=\"data row5 col3\" >46.000000</td>\n",
       "                        <td id=\"T_b701acd8_7762_11ea_8a77_a0afbd74f418row5_col4\" class=\"data row5 col4\" >1</td>\n",
       "                        <td id=\"T_b701acd8_7762_11ea_8a77_a0afbd74f418row5_col5\" class=\"data row5 col5\" >0.007576</td>\n",
       "                        <td id=\"T_b701acd8_7762_11ea_8a77_a0afbd74f418row5_col6\" class=\"data row5 col6\" >1</td>\n",
       "                        <td id=\"T_b701acd8_7762_11ea_8a77_a0afbd74f418row5_col7\" class=\"data row5 col7\" >0.007576</td>\n",
       "            </tr>\n",
       "            <tr>\n",
       "                        <th id=\"T_b701acd8_7762_11ea_8a77_a0afbd74f418level0_row6\" class=\"row_heading level0 row6\" >6</th>\n",
       "                        <td id=\"T_b701acd8_7762_11ea_8a77_a0afbd74f418row6_col0\" class=\"data row6 col0\" >Karnataka</td>\n",
       "                        <td id=\"T_b701acd8_7762_11ea_8a77_a0afbd74f418row6_col1\" class=\"data row6 col1\" >124</td>\n",
       "                        <td id=\"T_b701acd8_7762_11ea_8a77_a0afbd74f418row6_col2\" class=\"data row6 col2\" >111</td>\n",
       "                        <td id=\"T_b701acd8_7762_11ea_8a77_a0afbd74f418row6_col3\" class=\"data row6 col3\" >14.000000</td>\n",
       "                        <td id=\"T_b701acd8_7762_11ea_8a77_a0afbd74f418row6_col4\" class=\"data row6 col4\" >3</td>\n",
       "                        <td id=\"T_b701acd8_7762_11ea_8a77_a0afbd74f418row6_col5\" class=\"data row6 col5\" >0.024194</td>\n",
       "                        <td id=\"T_b701acd8_7762_11ea_8a77_a0afbd74f418row6_col6\" class=\"data row6 col6\" >10</td>\n",
       "                        <td id=\"T_b701acd8_7762_11ea_8a77_a0afbd74f418row6_col7\" class=\"data row6 col7\" >0.080645</td>\n",
       "            </tr>\n",
       "            <tr>\n",
       "                        <th id=\"T_b701acd8_7762_11ea_8a77_a0afbd74f418level0_row7\" class=\"row_heading level0 row7\" >7</th>\n",
       "                        <td id=\"T_b701acd8_7762_11ea_8a77_a0afbd74f418row7_col0\" class=\"data row7 col0\" >Uttar Pradesh</td>\n",
       "                        <td id=\"T_b701acd8_7762_11ea_8a77_a0afbd74f418row7_col1\" class=\"data row7 col1\" >113</td>\n",
       "                        <td id=\"T_b701acd8_7762_11ea_8a77_a0afbd74f418row7_col2\" class=\"data row7 col2\" >97</td>\n",
       "                        <td id=\"T_b701acd8_7762_11ea_8a77_a0afbd74f418row7_col3\" class=\"data row7 col3\" >0.000000</td>\n",
       "                        <td id=\"T_b701acd8_7762_11ea_8a77_a0afbd74f418row7_col4\" class=\"data row7 col4\" >2</td>\n",
       "                        <td id=\"T_b701acd8_7762_11ea_8a77_a0afbd74f418row7_col5\" class=\"data row7 col5\" >0.017699</td>\n",
       "                        <td id=\"T_b701acd8_7762_11ea_8a77_a0afbd74f418row7_col6\" class=\"data row7 col6\" >14</td>\n",
       "                        <td id=\"T_b701acd8_7762_11ea_8a77_a0afbd74f418row7_col7\" class=\"data row7 col7\" >0.123894</td>\n",
       "            </tr>\n",
       "            <tr>\n",
       "                        <th id=\"T_b701acd8_7762_11ea_8a77_a0afbd74f418level0_row8\" class=\"row_heading level0 row8\" >8</th>\n",
       "                        <td id=\"T_b701acd8_7762_11ea_8a77_a0afbd74f418row8_col0\" class=\"data row8 col0\" >Telengana</td>\n",
       "                        <td id=\"T_b701acd8_7762_11ea_8a77_a0afbd74f418row8_col1\" class=\"data row8 col1\" >107</td>\n",
       "                        <td id=\"T_b701acd8_7762_11ea_8a77_a0afbd74f418row8_col2\" class=\"data row8 col2\" >103</td>\n",
       "                        <td id=\"T_b701acd8_7762_11ea_8a77_a0afbd74f418row8_col3\" class=\"data row8 col3\" >11.000000</td>\n",
       "                        <td id=\"T_b701acd8_7762_11ea_8a77_a0afbd74f418row8_col4\" class=\"data row8 col4\" >3</td>\n",
       "                        <td id=\"T_b701acd8_7762_11ea_8a77_a0afbd74f418row8_col5\" class=\"data row8 col5\" >0.028037</td>\n",
       "                        <td id=\"T_b701acd8_7762_11ea_8a77_a0afbd74f418row8_col6\" class=\"data row8 col6\" >1</td>\n",
       "                        <td id=\"T_b701acd8_7762_11ea_8a77_a0afbd74f418row8_col7\" class=\"data row8 col7\" >0.009346</td>\n",
       "            </tr>\n",
       "            <tr>\n",
       "                        <th id=\"T_b701acd8_7762_11ea_8a77_a0afbd74f418level0_row9\" class=\"row_heading level0 row9\" >9</th>\n",
       "                        <td id=\"T_b701acd8_7762_11ea_8a77_a0afbd74f418row9_col0\" class=\"data row9 col0\" >Madhya Pradesh</td>\n",
       "                        <td id=\"T_b701acd8_7762_11ea_8a77_a0afbd74f418row9_col1\" class=\"data row9 col1\" >99</td>\n",
       "                        <td id=\"T_b701acd8_7762_11ea_8a77_a0afbd74f418row9_col2\" class=\"data row9 col2\" >93</td>\n",
       "                        <td id=\"T_b701acd8_7762_11ea_8a77_a0afbd74f418row9_col3\" class=\"data row9 col3\" >0.000000</td>\n",
       "                        <td id=\"T_b701acd8_7762_11ea_8a77_a0afbd74f418row9_col4\" class=\"data row9 col4\" >6</td>\n",
       "                        <td id=\"T_b701acd8_7762_11ea_8a77_a0afbd74f418row9_col5\" class=\"data row9 col5\" >0.060606</td>\n",
       "                        <td id=\"T_b701acd8_7762_11ea_8a77_a0afbd74f418row9_col6\" class=\"data row9 col6\" >0</td>\n",
       "                        <td id=\"T_b701acd8_7762_11ea_8a77_a0afbd74f418row9_col7\" class=\"data row9 col7\" >0.000000</td>\n",
       "            </tr>\n",
       "            <tr>\n",
       "                        <th id=\"T_b701acd8_7762_11ea_8a77_a0afbd74f418level0_row10\" class=\"row_heading level0 row10\" >10</th>\n",
       "                        <td id=\"T_b701acd8_7762_11ea_8a77_a0afbd74f418row10_col0\" class=\"data row10 col0\" >Gujarat</td>\n",
       "                        <td id=\"T_b701acd8_7762_11ea_8a77_a0afbd74f418row10_col1\" class=\"data row10 col1\" >87</td>\n",
       "                        <td id=\"T_b701acd8_7762_11ea_8a77_a0afbd74f418row10_col2\" class=\"data row10 col2\" >72</td>\n",
       "                        <td id=\"T_b701acd8_7762_11ea_8a77_a0afbd74f418row10_col3\" class=\"data row10 col3\" >5.000000</td>\n",
       "                        <td id=\"T_b701acd8_7762_11ea_8a77_a0afbd74f418row10_col4\" class=\"data row10 col4\" >7</td>\n",
       "                        <td id=\"T_b701acd8_7762_11ea_8a77_a0afbd74f418row10_col5\" class=\"data row10 col5\" >0.080460</td>\n",
       "                        <td id=\"T_b701acd8_7762_11ea_8a77_a0afbd74f418row10_col6\" class=\"data row10 col6\" >8</td>\n",
       "                        <td id=\"T_b701acd8_7762_11ea_8a77_a0afbd74f418row10_col7\" class=\"data row10 col7\" >0.091954</td>\n",
       "            </tr>\n",
       "            <tr>\n",
       "                        <th id=\"T_b701acd8_7762_11ea_8a77_a0afbd74f418level0_row11\" class=\"row_heading level0 row11\" >11</th>\n",
       "                        <td id=\"T_b701acd8_7762_11ea_8a77_a0afbd74f418row11_col0\" class=\"data row11 col0\" >Jammu and Kashmir</td>\n",
       "                        <td id=\"T_b701acd8_7762_11ea_8a77_a0afbd74f418row11_col1\" class=\"data row11 col1\" >70</td>\n",
       "                        <td id=\"T_b701acd8_7762_11ea_8a77_a0afbd74f418row11_col2\" class=\"data row11 col2\" >65</td>\n",
       "                        <td id=\"T_b701acd8_7762_11ea_8a77_a0afbd74f418row11_col3\" class=\"data row11 col3\" >8.000000</td>\n",
       "                        <td id=\"T_b701acd8_7762_11ea_8a77_a0afbd74f418row11_col4\" class=\"data row11 col4\" >2</td>\n",
       "                        <td id=\"T_b701acd8_7762_11ea_8a77_a0afbd74f418row11_col5\" class=\"data row11 col5\" >0.028571</td>\n",
       "                        <td id=\"T_b701acd8_7762_11ea_8a77_a0afbd74f418row11_col6\" class=\"data row11 col6\" >3</td>\n",
       "                        <td id=\"T_b701acd8_7762_11ea_8a77_a0afbd74f418row11_col7\" class=\"data row11 col7\" >0.042857</td>\n",
       "            </tr>\n",
       "            <tr>\n",
       "                        <th id=\"T_b701acd8_7762_11ea_8a77_a0afbd74f418level0_row12\" class=\"row_heading level0 row12\" >12</th>\n",
       "                        <td id=\"T_b701acd8_7762_11ea_8a77_a0afbd74f418row12_col0\" class=\"data row12 col0\" >West Bengal</td>\n",
       "                        <td id=\"T_b701acd8_7762_11ea_8a77_a0afbd74f418row12_col1\" class=\"data row12 col1\" >53</td>\n",
       "                        <td id=\"T_b701acd8_7762_11ea_8a77_a0afbd74f418row12_col2\" class=\"data row12 col2\" >47</td>\n",
       "                        <td id=\"T_b701acd8_7762_11ea_8a77_a0afbd74f418row12_col3\" class=\"data row12 col3\" >1.000000</td>\n",
       "                        <td id=\"T_b701acd8_7762_11ea_8a77_a0afbd74f418row12_col4\" class=\"data row12 col4\" >3</td>\n",
       "                        <td id=\"T_b701acd8_7762_11ea_8a77_a0afbd74f418row12_col5\" class=\"data row12 col5\" >0.056604</td>\n",
       "                        <td id=\"T_b701acd8_7762_11ea_8a77_a0afbd74f418row12_col6\" class=\"data row12 col6\" >3</td>\n",
       "                        <td id=\"T_b701acd8_7762_11ea_8a77_a0afbd74f418row12_col7\" class=\"data row12 col7\" >0.056604</td>\n",
       "            </tr>\n",
       "            <tr>\n",
       "                        <th id=\"T_b701acd8_7762_11ea_8a77_a0afbd74f418level0_row13\" class=\"row_heading level0 row13\" >13</th>\n",
       "                        <td id=\"T_b701acd8_7762_11ea_8a77_a0afbd74f418row13_col0\" class=\"data row13 col0\" >Punjab</td>\n",
       "                        <td id=\"T_b701acd8_7762_11ea_8a77_a0afbd74f418row13_col1\" class=\"data row13 col1\" >46</td>\n",
       "                        <td id=\"T_b701acd8_7762_11ea_8a77_a0afbd74f418row13_col2\" class=\"data row13 col2\" >41</td>\n",
       "                        <td id=\"T_b701acd8_7762_11ea_8a77_a0afbd74f418row13_col3\" class=\"data row13 col3\" >0.000000</td>\n",
       "                        <td id=\"T_b701acd8_7762_11ea_8a77_a0afbd74f418row13_col4\" class=\"data row13 col4\" >4</td>\n",
       "                        <td id=\"T_b701acd8_7762_11ea_8a77_a0afbd74f418row13_col5\" class=\"data row13 col5\" >0.086957</td>\n",
       "                        <td id=\"T_b701acd8_7762_11ea_8a77_a0afbd74f418row13_col6\" class=\"data row13 col6\" >1</td>\n",
       "                        <td id=\"T_b701acd8_7762_11ea_8a77_a0afbd74f418row13_col7\" class=\"data row13 col7\" >0.021739</td>\n",
       "            </tr>\n",
       "            <tr>\n",
       "                        <th id=\"T_b701acd8_7762_11ea_8a77_a0afbd74f418level0_row14\" class=\"row_heading level0 row14\" >14</th>\n",
       "                        <td id=\"T_b701acd8_7762_11ea_8a77_a0afbd74f418row14_col0\" class=\"data row14 col0\" >Haryana</td>\n",
       "                        <td id=\"T_b701acd8_7762_11ea_8a77_a0afbd74f418row14_col1\" class=\"data row14 col1\" >43</td>\n",
       "                        <td id=\"T_b701acd8_7762_11ea_8a77_a0afbd74f418row14_col2\" class=\"data row14 col2\" >22</td>\n",
       "                        <td id=\"T_b701acd8_7762_11ea_8a77_a0afbd74f418row14_col3\" class=\"data row14 col3\" >0.000000</td>\n",
       "                        <td id=\"T_b701acd8_7762_11ea_8a77_a0afbd74f418row14_col4\" class=\"data row14 col4\" >0</td>\n",
       "                        <td id=\"T_b701acd8_7762_11ea_8a77_a0afbd74f418row14_col5\" class=\"data row14 col5\" >0.000000</td>\n",
       "                        <td id=\"T_b701acd8_7762_11ea_8a77_a0afbd74f418row14_col6\" class=\"data row14 col6\" >21</td>\n",
       "                        <td id=\"T_b701acd8_7762_11ea_8a77_a0afbd74f418row14_col7\" class=\"data row14 col7\" >0.488372</td>\n",
       "            </tr>\n",
       "            <tr>\n",
       "                        <th id=\"T_b701acd8_7762_11ea_8a77_a0afbd74f418level0_row15\" class=\"row_heading level0 row15\" >15</th>\n",
       "                        <td id=\"T_b701acd8_7762_11ea_8a77_a0afbd74f418row15_col0\" class=\"data row15 col0\" >Bihar</td>\n",
       "                        <td id=\"T_b701acd8_7762_11ea_8a77_a0afbd74f418row15_col1\" class=\"data row15 col1\" >24</td>\n",
       "                        <td id=\"T_b701acd8_7762_11ea_8a77_a0afbd74f418row15_col2\" class=\"data row15 col2\" >23</td>\n",
       "                        <td id=\"T_b701acd8_7762_11ea_8a77_a0afbd74f418row15_col3\" class=\"data row15 col3\" >1.000000</td>\n",
       "                        <td id=\"T_b701acd8_7762_11ea_8a77_a0afbd74f418row15_col4\" class=\"data row15 col4\" >1</td>\n",
       "                        <td id=\"T_b701acd8_7762_11ea_8a77_a0afbd74f418row15_col5\" class=\"data row15 col5\" >0.041667</td>\n",
       "                        <td id=\"T_b701acd8_7762_11ea_8a77_a0afbd74f418row15_col6\" class=\"data row15 col6\" >0</td>\n",
       "                        <td id=\"T_b701acd8_7762_11ea_8a77_a0afbd74f418row15_col7\" class=\"data row15 col7\" >0.000000</td>\n",
       "            </tr>\n",
       "            <tr>\n",
       "                        <th id=\"T_b701acd8_7762_11ea_8a77_a0afbd74f418level0_row16\" class=\"row_heading level0 row16\" >16</th>\n",
       "                        <td id=\"T_b701acd8_7762_11ea_8a77_a0afbd74f418row16_col0\" class=\"data row16 col0\" >Chandigarh</td>\n",
       "                        <td id=\"T_b701acd8_7762_11ea_8a77_a0afbd74f418row16_col1\" class=\"data row16 col1\" >18</td>\n",
       "                        <td id=\"T_b701acd8_7762_11ea_8a77_a0afbd74f418row16_col2\" class=\"data row16 col2\" >18</td>\n",
       "                        <td id=\"T_b701acd8_7762_11ea_8a77_a0afbd74f418row16_col3\" class=\"data row16 col3\" >2.000000</td>\n",
       "                        <td id=\"T_b701acd8_7762_11ea_8a77_a0afbd74f418row16_col4\" class=\"data row16 col4\" >0</td>\n",
       "                        <td id=\"T_b701acd8_7762_11ea_8a77_a0afbd74f418row16_col5\" class=\"data row16 col5\" >0.000000</td>\n",
       "                        <td id=\"T_b701acd8_7762_11ea_8a77_a0afbd74f418row16_col6\" class=\"data row16 col6\" >0</td>\n",
       "                        <td id=\"T_b701acd8_7762_11ea_8a77_a0afbd74f418row16_col7\" class=\"data row16 col7\" >0.000000</td>\n",
       "            </tr>\n",
       "            <tr>\n",
       "                        <th id=\"T_b701acd8_7762_11ea_8a77_a0afbd74f418level0_row17\" class=\"row_heading level0 row17\" >17</th>\n",
       "                        <td id=\"T_b701acd8_7762_11ea_8a77_a0afbd74f418row17_col0\" class=\"data row17 col0\" >Assam</td>\n",
       "                        <td id=\"T_b701acd8_7762_11ea_8a77_a0afbd74f418row17_col1\" class=\"data row17 col1\" >16</td>\n",
       "                        <td id=\"T_b701acd8_7762_11ea_8a77_a0afbd74f418row17_col2\" class=\"data row17 col2\" >16</td>\n",
       "                        <td id=\"T_b701acd8_7762_11ea_8a77_a0afbd74f418row17_col3\" class=\"data row17 col3\" >15.000000</td>\n",
       "                        <td id=\"T_b701acd8_7762_11ea_8a77_a0afbd74f418row17_col4\" class=\"data row17 col4\" >0</td>\n",
       "                        <td id=\"T_b701acd8_7762_11ea_8a77_a0afbd74f418row17_col5\" class=\"data row17 col5\" >0.000000</td>\n",
       "                        <td id=\"T_b701acd8_7762_11ea_8a77_a0afbd74f418row17_col6\" class=\"data row17 col6\" >0</td>\n",
       "                        <td id=\"T_b701acd8_7762_11ea_8a77_a0afbd74f418row17_col7\" class=\"data row17 col7\" >0.000000</td>\n",
       "            </tr>\n",
       "            <tr>\n",
       "                        <th id=\"T_b701acd8_7762_11ea_8a77_a0afbd74f418level0_row18\" class=\"row_heading level0 row18\" >18</th>\n",
       "                        <td id=\"T_b701acd8_7762_11ea_8a77_a0afbd74f418row18_col0\" class=\"data row18 col0\" >Ladakh</td>\n",
       "                        <td id=\"T_b701acd8_7762_11ea_8a77_a0afbd74f418row18_col1\" class=\"data row18 col1\" >14</td>\n",
       "                        <td id=\"T_b701acd8_7762_11ea_8a77_a0afbd74f418row18_col2\" class=\"data row18 col2\" >11</td>\n",
       "                        <td id=\"T_b701acd8_7762_11ea_8a77_a0afbd74f418row18_col3\" class=\"data row18 col3\" >1.000000</td>\n",
       "                        <td id=\"T_b701acd8_7762_11ea_8a77_a0afbd74f418row18_col4\" class=\"data row18 col4\" >0</td>\n",
       "                        <td id=\"T_b701acd8_7762_11ea_8a77_a0afbd74f418row18_col5\" class=\"data row18 col5\" >0.000000</td>\n",
       "                        <td id=\"T_b701acd8_7762_11ea_8a77_a0afbd74f418row18_col6\" class=\"data row18 col6\" >3</td>\n",
       "                        <td id=\"T_b701acd8_7762_11ea_8a77_a0afbd74f418row18_col7\" class=\"data row18 col7\" >0.214286</td>\n",
       "            </tr>\n",
       "            <tr>\n",
       "                        <th id=\"T_b701acd8_7762_11ea_8a77_a0afbd74f418level0_row19\" class=\"row_heading level0 row19\" >19</th>\n",
       "                        <td id=\"T_b701acd8_7762_11ea_8a77_a0afbd74f418row19_col0\" class=\"data row19 col0\" >Andaman and Nicobar Islands</td>\n",
       "                        <td id=\"T_b701acd8_7762_11ea_8a77_a0afbd74f418row19_col1\" class=\"data row19 col1\" >10</td>\n",
       "                        <td id=\"T_b701acd8_7762_11ea_8a77_a0afbd74f418row19_col2\" class=\"data row19 col2\" >10</td>\n",
       "                        <td id=\"T_b701acd8_7762_11ea_8a77_a0afbd74f418row19_col3\" class=\"data row19 col3\" >0.000000</td>\n",
       "                        <td id=\"T_b701acd8_7762_11ea_8a77_a0afbd74f418row19_col4\" class=\"data row19 col4\" >0</td>\n",
       "                        <td id=\"T_b701acd8_7762_11ea_8a77_a0afbd74f418row19_col5\" class=\"data row19 col5\" >0.000000</td>\n",
       "                        <td id=\"T_b701acd8_7762_11ea_8a77_a0afbd74f418row19_col6\" class=\"data row19 col6\" >0</td>\n",
       "                        <td id=\"T_b701acd8_7762_11ea_8a77_a0afbd74f418row19_col7\" class=\"data row19 col7\" >0.000000</td>\n",
       "            </tr>\n",
       "            <tr>\n",
       "                        <th id=\"T_b701acd8_7762_11ea_8a77_a0afbd74f418level0_row20\" class=\"row_heading level0 row20\" >20</th>\n",
       "                        <td id=\"T_b701acd8_7762_11ea_8a77_a0afbd74f418row20_col0\" class=\"data row20 col0\" >Uttarakhand</td>\n",
       "                        <td id=\"T_b701acd8_7762_11ea_8a77_a0afbd74f418row20_col1\" class=\"data row20 col1\" >10</td>\n",
       "                        <td id=\"T_b701acd8_7762_11ea_8a77_a0afbd74f418row20_col2\" class=\"data row20 col2\" >8</td>\n",
       "                        <td id=\"T_b701acd8_7762_11ea_8a77_a0afbd74f418row20_col3\" class=\"data row20 col3\" >3.000000</td>\n",
       "                        <td id=\"T_b701acd8_7762_11ea_8a77_a0afbd74f418row20_col4\" class=\"data row20 col4\" >0</td>\n",
       "                        <td id=\"T_b701acd8_7762_11ea_8a77_a0afbd74f418row20_col5\" class=\"data row20 col5\" >0.000000</td>\n",
       "                        <td id=\"T_b701acd8_7762_11ea_8a77_a0afbd74f418row20_col6\" class=\"data row20 col6\" >2</td>\n",
       "                        <td id=\"T_b701acd8_7762_11ea_8a77_a0afbd74f418row20_col7\" class=\"data row20 col7\" >0.200000</td>\n",
       "            </tr>\n",
       "            <tr>\n",
       "                        <th id=\"T_b701acd8_7762_11ea_8a77_a0afbd74f418level0_row21\" class=\"row_heading level0 row21\" >21</th>\n",
       "                        <td id=\"T_b701acd8_7762_11ea_8a77_a0afbd74f418row21_col0\" class=\"data row21 col0\" >Chhattisgarh</td>\n",
       "                        <td id=\"T_b701acd8_7762_11ea_8a77_a0afbd74f418row21_col1\" class=\"data row21 col1\" >9</td>\n",
       "                        <td id=\"T_b701acd8_7762_11ea_8a77_a0afbd74f418row21_col2\" class=\"data row21 col2\" >7</td>\n",
       "                        <td id=\"T_b701acd8_7762_11ea_8a77_a0afbd74f418row21_col3\" class=\"data row21 col3\" >0.000000</td>\n",
       "                        <td id=\"T_b701acd8_7762_11ea_8a77_a0afbd74f418row21_col4\" class=\"data row21 col4\" >0</td>\n",
       "                        <td id=\"T_b701acd8_7762_11ea_8a77_a0afbd74f418row21_col5\" class=\"data row21 col5\" >0.000000</td>\n",
       "                        <td id=\"T_b701acd8_7762_11ea_8a77_a0afbd74f418row21_col6\" class=\"data row21 col6\" >2</td>\n",
       "                        <td id=\"T_b701acd8_7762_11ea_8a77_a0afbd74f418row21_col7\" class=\"data row21 col7\" >0.222222</td>\n",
       "            </tr>\n",
       "            <tr>\n",
       "                        <th id=\"T_b701acd8_7762_11ea_8a77_a0afbd74f418level0_row22\" class=\"row_heading level0 row22\" >22</th>\n",
       "                        <td id=\"T_b701acd8_7762_11ea_8a77_a0afbd74f418row22_col0\" class=\"data row22 col0\" >Goa</td>\n",
       "                        <td id=\"T_b701acd8_7762_11ea_8a77_a0afbd74f418row22_col1\" class=\"data row22 col1\" >6</td>\n",
       "                        <td id=\"T_b701acd8_7762_11ea_8a77_a0afbd74f418row22_col2\" class=\"data row22 col2\" >6</td>\n",
       "                        <td id=\"T_b701acd8_7762_11ea_8a77_a0afbd74f418row22_col3\" class=\"data row22 col3\" >1.000000</td>\n",
       "                        <td id=\"T_b701acd8_7762_11ea_8a77_a0afbd74f418row22_col4\" class=\"data row22 col4\" >0</td>\n",
       "                        <td id=\"T_b701acd8_7762_11ea_8a77_a0afbd74f418row22_col5\" class=\"data row22 col5\" >0.000000</td>\n",
       "                        <td id=\"T_b701acd8_7762_11ea_8a77_a0afbd74f418row22_col6\" class=\"data row22 col6\" >0</td>\n",
       "                        <td id=\"T_b701acd8_7762_11ea_8a77_a0afbd74f418row22_col7\" class=\"data row22 col7\" >0.000000</td>\n",
       "            </tr>\n",
       "            <tr>\n",
       "                        <th id=\"T_b701acd8_7762_11ea_8a77_a0afbd74f418level0_row23\" class=\"row_heading level0 row23\" >23</th>\n",
       "                        <td id=\"T_b701acd8_7762_11ea_8a77_a0afbd74f418row23_col0\" class=\"data row23 col0\" >Himachal Pradesh</td>\n",
       "                        <td id=\"T_b701acd8_7762_11ea_8a77_a0afbd74f418row23_col1\" class=\"data row23 col1\" >6</td>\n",
       "                        <td id=\"T_b701acd8_7762_11ea_8a77_a0afbd74f418row23_col2\" class=\"data row23 col2\" >4</td>\n",
       "                        <td id=\"T_b701acd8_7762_11ea_8a77_a0afbd74f418row23_col3\" class=\"data row23 col3\" >3.000000</td>\n",
       "                        <td id=\"T_b701acd8_7762_11ea_8a77_a0afbd74f418row23_col4\" class=\"data row23 col4\" >1</td>\n",
       "                        <td id=\"T_b701acd8_7762_11ea_8a77_a0afbd74f418row23_col5\" class=\"data row23 col5\" >0.166667</td>\n",
       "                        <td id=\"T_b701acd8_7762_11ea_8a77_a0afbd74f418row23_col6\" class=\"data row23 col6\" >1</td>\n",
       "                        <td id=\"T_b701acd8_7762_11ea_8a77_a0afbd74f418row23_col7\" class=\"data row23 col7\" >0.166667</td>\n",
       "            </tr>\n",
       "            <tr>\n",
       "                        <th id=\"T_b701acd8_7762_11ea_8a77_a0afbd74f418level0_row24\" class=\"row_heading level0 row24\" >24</th>\n",
       "                        <td id=\"T_b701acd8_7762_11ea_8a77_a0afbd74f418row24_col0\" class=\"data row24 col0\" >Odisha</td>\n",
       "                        <td id=\"T_b701acd8_7762_11ea_8a77_a0afbd74f418row24_col1\" class=\"data row24 col1\" >5</td>\n",
       "                        <td id=\"T_b701acd8_7762_11ea_8a77_a0afbd74f418row24_col2\" class=\"data row24 col2\" >5</td>\n",
       "                        <td id=\"T_b701acd8_7762_11ea_8a77_a0afbd74f418row24_col3\" class=\"data row24 col3\" >1.000000</td>\n",
       "                        <td id=\"T_b701acd8_7762_11ea_8a77_a0afbd74f418row24_col4\" class=\"data row24 col4\" >0</td>\n",
       "                        <td id=\"T_b701acd8_7762_11ea_8a77_a0afbd74f418row24_col5\" class=\"data row24 col5\" >0.000000</td>\n",
       "                        <td id=\"T_b701acd8_7762_11ea_8a77_a0afbd74f418row24_col6\" class=\"data row24 col6\" >0</td>\n",
       "                        <td id=\"T_b701acd8_7762_11ea_8a77_a0afbd74f418row24_col7\" class=\"data row24 col7\" >0.000000</td>\n",
       "            </tr>\n",
       "            <tr>\n",
       "                        <th id=\"T_b701acd8_7762_11ea_8a77_a0afbd74f418level0_row25\" class=\"row_heading level0 row25\" >25</th>\n",
       "                        <td id=\"T_b701acd8_7762_11ea_8a77_a0afbd74f418row25_col0\" class=\"data row25 col0\" >Puducherry</td>\n",
       "                        <td id=\"T_b701acd8_7762_11ea_8a77_a0afbd74f418row25_col1\" class=\"data row25 col1\" >3</td>\n",
       "                        <td id=\"T_b701acd8_7762_11ea_8a77_a0afbd74f418row25_col2\" class=\"data row25 col2\" >2</td>\n",
       "                        <td id=\"T_b701acd8_7762_11ea_8a77_a0afbd74f418row25_col3\" class=\"data row25 col3\" >0.000000</td>\n",
       "                        <td id=\"T_b701acd8_7762_11ea_8a77_a0afbd74f418row25_col4\" class=\"data row25 col4\" >0</td>\n",
       "                        <td id=\"T_b701acd8_7762_11ea_8a77_a0afbd74f418row25_col5\" class=\"data row25 col5\" >0.000000</td>\n",
       "                        <td id=\"T_b701acd8_7762_11ea_8a77_a0afbd74f418row25_col6\" class=\"data row25 col6\" >1</td>\n",
       "                        <td id=\"T_b701acd8_7762_11ea_8a77_a0afbd74f418row25_col7\" class=\"data row25 col7\" >0.333333</td>\n",
       "            </tr>\n",
       "            <tr>\n",
       "                        <th id=\"T_b701acd8_7762_11ea_8a77_a0afbd74f418level0_row26\" class=\"row_heading level0 row26\" >26</th>\n",
       "                        <td id=\"T_b701acd8_7762_11ea_8a77_a0afbd74f418row26_col0\" class=\"data row26 col0\" >Manipur</td>\n",
       "                        <td id=\"T_b701acd8_7762_11ea_8a77_a0afbd74f418row26_col1\" class=\"data row26 col1\" >2</td>\n",
       "                        <td id=\"T_b701acd8_7762_11ea_8a77_a0afbd74f418row26_col2\" class=\"data row26 col2\" >2</td>\n",
       "                        <td id=\"T_b701acd8_7762_11ea_8a77_a0afbd74f418row26_col3\" class=\"data row26 col3\" >1.000000</td>\n",
       "                        <td id=\"T_b701acd8_7762_11ea_8a77_a0afbd74f418row26_col4\" class=\"data row26 col4\" >0</td>\n",
       "                        <td id=\"T_b701acd8_7762_11ea_8a77_a0afbd74f418row26_col5\" class=\"data row26 col5\" >0.000000</td>\n",
       "                        <td id=\"T_b701acd8_7762_11ea_8a77_a0afbd74f418row26_col6\" class=\"data row26 col6\" >0</td>\n",
       "                        <td id=\"T_b701acd8_7762_11ea_8a77_a0afbd74f418row26_col7\" class=\"data row26 col7\" >0.000000</td>\n",
       "            </tr>\n",
       "            <tr>\n",
       "                        <th id=\"T_b701acd8_7762_11ea_8a77_a0afbd74f418level0_row27\" class=\"row_heading level0 row27\" >27</th>\n",
       "                        <td id=\"T_b701acd8_7762_11ea_8a77_a0afbd74f418row27_col0\" class=\"data row27 col0\" >Jharkhand</td>\n",
       "                        <td id=\"T_b701acd8_7762_11ea_8a77_a0afbd74f418row27_col1\" class=\"data row27 col1\" >2</td>\n",
       "                        <td id=\"T_b701acd8_7762_11ea_8a77_a0afbd74f418row27_col2\" class=\"data row27 col2\" >2</td>\n",
       "                        <td id=\"T_b701acd8_7762_11ea_8a77_a0afbd74f418row27_col3\" class=\"data row27 col3\" >1.000000</td>\n",
       "                        <td id=\"T_b701acd8_7762_11ea_8a77_a0afbd74f418row27_col4\" class=\"data row27 col4\" >0</td>\n",
       "                        <td id=\"T_b701acd8_7762_11ea_8a77_a0afbd74f418row27_col5\" class=\"data row27 col5\" >0.000000</td>\n",
       "                        <td id=\"T_b701acd8_7762_11ea_8a77_a0afbd74f418row27_col6\" class=\"data row27 col6\" >0</td>\n",
       "                        <td id=\"T_b701acd8_7762_11ea_8a77_a0afbd74f418row27_col7\" class=\"data row27 col7\" >0.000000</td>\n",
       "            </tr>\n",
       "            <tr>\n",
       "                        <th id=\"T_b701acd8_7762_11ea_8a77_a0afbd74f418level0_row28\" class=\"row_heading level0 row28\" >28</th>\n",
       "                        <td id=\"T_b701acd8_7762_11ea_8a77_a0afbd74f418row28_col0\" class=\"data row28 col0\" >Mizoram</td>\n",
       "                        <td id=\"T_b701acd8_7762_11ea_8a77_a0afbd74f418row28_col1\" class=\"data row28 col1\" >1</td>\n",
       "                        <td id=\"T_b701acd8_7762_11ea_8a77_a0afbd74f418row28_col2\" class=\"data row28 col2\" >1</td>\n",
       "                        <td id=\"T_b701acd8_7762_11ea_8a77_a0afbd74f418row28_col3\" class=\"data row28 col3\" >0.000000</td>\n",
       "                        <td id=\"T_b701acd8_7762_11ea_8a77_a0afbd74f418row28_col4\" class=\"data row28 col4\" >0</td>\n",
       "                        <td id=\"T_b701acd8_7762_11ea_8a77_a0afbd74f418row28_col5\" class=\"data row28 col5\" >0.000000</td>\n",
       "                        <td id=\"T_b701acd8_7762_11ea_8a77_a0afbd74f418row28_col6\" class=\"data row28 col6\" >0</td>\n",
       "                        <td id=\"T_b701acd8_7762_11ea_8a77_a0afbd74f418row28_col7\" class=\"data row28 col7\" >0.000000</td>\n",
       "            </tr>\n",
       "            <tr>\n",
       "                        <th id=\"T_b701acd8_7762_11ea_8a77_a0afbd74f418level0_row29\" class=\"row_heading level0 row29\" >29</th>\n",
       "                        <td id=\"T_b701acd8_7762_11ea_8a77_a0afbd74f418row29_col0\" class=\"data row29 col0\" >Arunachal Pradesh</td>\n",
       "                        <td id=\"T_b701acd8_7762_11ea_8a77_a0afbd74f418row29_col1\" class=\"data row29 col1\" >1</td>\n",
       "                        <td id=\"T_b701acd8_7762_11ea_8a77_a0afbd74f418row29_col2\" class=\"data row29 col2\" >1</td>\n",
       "                        <td id=\"T_b701acd8_7762_11ea_8a77_a0afbd74f418row29_col3\" class=\"data row29 col3\" >1.000000</td>\n",
       "                        <td id=\"T_b701acd8_7762_11ea_8a77_a0afbd74f418row29_col4\" class=\"data row29 col4\" >0</td>\n",
       "                        <td id=\"T_b701acd8_7762_11ea_8a77_a0afbd74f418row29_col5\" class=\"data row29 col5\" >0.000000</td>\n",
       "                        <td id=\"T_b701acd8_7762_11ea_8a77_a0afbd74f418row29_col6\" class=\"data row29 col6\" >0</td>\n",
       "                        <td id=\"T_b701acd8_7762_11ea_8a77_a0afbd74f418row29_col7\" class=\"data row29 col7\" >0.000000</td>\n",
       "            </tr>\n",
       "    </tbody></table>"
      ],
      "text/plain": [
       "<pandas.io.formats.style.Styler at 0x1527830fd30>"
      ]
     },
     "execution_count": 9,
     "metadata": {},
     "output_type": "execute_result"
    }
   ],
   "source": [
    "temp = latest[['State/UT', 'Confirmed', 'Active', 'New cases', 'Deaths', 'Mortality rate', 'Cured', 'Recovery rate']]\n",
    "temp = temp.sort_values('Confirmed', ascending=False).reset_index(drop=True)\n",
    "\n",
    "temp.style\\\n",
    "    .background_gradient(cmap=\"Blues\", subset=['Confirmed', 'Active', 'New cases'])\\\n",
    "    .background_gradient(cmap=\"Greens\", subset=['Cured', 'Recovery rate'])\\\n",
    "    .background_gradient(cmap=\"Reds\", subset=['Deaths', 'Mortality rate'])"
   ]
  },
  {
   "cell_type": "code",
   "execution_count": 12,
   "metadata": {},
   "outputs": [
    {
     "data": {
      "text/html": [
       "<div style=\"width:100%;\"><div style=\"position:relative;width:100%;height:0;padding-bottom:60%;\"><iframe src=\"about:blank\" style=\"position:absolute;width:100%;height:100%;left:0;top:0;border:none !important;\" data-html=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 onload=\"this.contentDocument.open();this.contentDocument.write(atob(this.getAttribute('data-html')));this.contentDocument.close();\" allowfullscreen webkitallowfullscreen mozallowfullscreen></iframe></div></div>"
      ],
      "text/plain": [
       "<folium.folium.Map at 0x1527900cf60>"
      ]
     },
     "execution_count": 12,
     "metadata": {},
     "output_type": "execute_result"
    }
   ],
   "source": [
    "m = folium.Map(location=[20.5937, 78.9629], tiles='cartodbpositron',\n",
    "               min_zoom=4, max_zoom=6, zoom_start=4)\n",
    "\n",
    "for i in range(0, len(latest)):\n",
    "    if latest.iloc[i]['Confirmed']>0:\n",
    "        folium.Circle(\n",
    "            location=[latest.iloc[i]['Latitude'], latest.iloc[i]['Longitude']],\n",
    "            color='#e84545', \n",
    "            fill='#e84545',\n",
    "            tooltip =   '<li><bold>Name of State / UT : '+str(latest.iloc[i]['State/UT'])+\n",
    "                        '<li><bold>Confirmed cases  : '+str(latest.iloc[i]['Confirmed'])+\n",
    "                        '<li><bold>Cured cases  : '+str(latest.iloc[i]['Cured'])+\n",
    "                        '<li><bold>Death cases  : '+str(latest.iloc[i]['Deaths']),\n",
    "            radius=int(latest.iloc[i]['Confirmed'])*300).add_to(m)\n",
    "m"
   ]
  },
  {
   "cell_type": "code",
   "execution_count": 13,
   "metadata": {},
   "outputs": [],
   "source": [
    "m.save('index.html')"
   ]
  },
  {
   "cell_type": "code",
   "execution_count": 15,
   "metadata": {},
   "outputs": [
    {
     "data": {
      "application/vnd.plotly.v1+json": {
       "config": {
        "plotlyServerURL": "https://plot.ly"
       },
       "data": [
        {
         "name": "Confirmed",
         "type": "bar",
         "x": [
          "Maharashtra",
          "Tamil Nadu",
          "Kerala",
          "Delhi",
          "Rajasthan",
          "Andhra Pradesh",
          "Karnataka",
          "Uttar Pradesh",
          "Telengana",
          "Madhya Pradesh",
          "Gujarat",
          "Jammu and Kashmir",
          "West Bengal",
          "Punjab",
          "Haryana",
          "Bihar",
          "Chandigarh",
          "Assam",
          "Ladakh",
          "Andaman and Nicobar Islands",
          "Uttarakhand",
          "Chhattisgarh",
          "Goa",
          "Himachal Pradesh",
          "Odisha",
          "Puducherry",
          "Manipur",
          "Jharkhand",
          "Mizoram",
          "Arunachal Pradesh"
         ],
         "y": [
          335,
          309,
          286,
          219,
          133,
          132,
          124,
          113,
          107,
          99,
          87,
          70,
          53,
          46,
          43,
          24,
          18,
          16,
          14,
          10,
          10,
          9,
          6,
          6,
          5,
          3,
          2,
          2,
          1,
          1
         ]
        },
        {
         "name": "Recovered",
         "type": "bar",
         "x": [
          "Maharashtra",
          "Tamil Nadu",
          "Kerala",
          "Delhi",
          "Rajasthan",
          "Andhra Pradesh",
          "Karnataka",
          "Uttar Pradesh",
          "Telengana",
          "Madhya Pradesh",
          "Gujarat",
          "Jammu and Kashmir",
          "West Bengal",
          "Punjab",
          "Haryana",
          "Bihar",
          "Chandigarh",
          "Assam",
          "Ladakh",
          "Andaman and Nicobar Islands",
          "Uttarakhand",
          "Chhattisgarh",
          "Goa",
          "Himachal Pradesh",
          "Odisha",
          "Puducherry",
          "Manipur",
          "Jharkhand",
          "Mizoram",
          "Arunachal Pradesh"
         ],
         "y": [
          42,
          6,
          27,
          8,
          3,
          1,
          10,
          14,
          1,
          0,
          8,
          3,
          3,
          1,
          21,
          0,
          0,
          0,
          3,
          0,
          2,
          2,
          0,
          1,
          0,
          1,
          0,
          0,
          0,
          0
         ]
        },
        {
         "name": "Deaths",
         "type": "bar",
         "x": [
          "Maharashtra",
          "Tamil Nadu",
          "Kerala",
          "Delhi",
          "Rajasthan",
          "Andhra Pradesh",
          "Karnataka",
          "Uttar Pradesh",
          "Telengana",
          "Madhya Pradesh",
          "Gujarat",
          "Jammu and Kashmir",
          "West Bengal",
          "Punjab",
          "Haryana",
          "Bihar",
          "Chandigarh",
          "Assam",
          "Ladakh",
          "Andaman and Nicobar Islands",
          "Uttarakhand",
          "Chhattisgarh",
          "Goa",
          "Himachal Pradesh",
          "Odisha",
          "Puducherry",
          "Manipur",
          "Jharkhand",
          "Mizoram",
          "Arunachal Pradesh"
         ],
         "y": [
          16,
          1,
          2,
          4,
          0,
          1,
          3,
          2,
          3,
          6,
          7,
          2,
          3,
          4,
          0,
          1,
          0,
          0,
          0,
          0,
          0,
          0,
          0,
          1,
          0,
          0,
          0,
          0,
          0,
          0
         ]
        }
       ],
       "layout": {
        "barmode": "group",
        "template": {
         "data": {
          "bar": [
           {
            "error_x": {
             "color": "#2a3f5f"
            },
            "error_y": {
             "color": "#2a3f5f"
            },
            "marker": {
             "line": {
              "color": "#E5ECF6",
              "width": 0.5
             }
            },
            "type": "bar"
           }
          ],
          "barpolar": [
           {
            "marker": {
             "line": {
              "color": "#E5ECF6",
              "width": 0.5
             }
            },
            "type": "barpolar"
           }
          ],
          "carpet": [
           {
            "aaxis": {
             "endlinecolor": "#2a3f5f",
             "gridcolor": "white",
             "linecolor": "white",
             "minorgridcolor": "white",
             "startlinecolor": "#2a3f5f"
            },
            "baxis": {
             "endlinecolor": "#2a3f5f",
             "gridcolor": "white",
             "linecolor": "white",
             "minorgridcolor": "white",
             "startlinecolor": "#2a3f5f"
            },
            "type": "carpet"
           }
          ],
          "choropleth": [
           {
            "colorbar": {
             "outlinewidth": 0,
             "ticks": ""
            },
            "type": "choropleth"
           }
          ],
          "contour": [
           {
            "colorbar": {
             "outlinewidth": 0,
             "ticks": ""
            },
            "colorscale": [
             [
              0,
              "#0d0887"
             ],
             [
              0.1111111111111111,
              "#46039f"
             ],
             [
              0.2222222222222222,
              "#7201a8"
             ],
             [
              0.3333333333333333,
              "#9c179e"
             ],
             [
              0.4444444444444444,
              "#bd3786"
             ],
             [
              0.5555555555555556,
              "#d8576b"
             ],
             [
              0.6666666666666666,
              "#ed7953"
             ],
             [
              0.7777777777777778,
              "#fb9f3a"
             ],
             [
              0.8888888888888888,
              "#fdca26"
             ],
             [
              1,
              "#f0f921"
             ]
            ],
            "type": "contour"
           }
          ],
          "contourcarpet": [
           {
            "colorbar": {
             "outlinewidth": 0,
             "ticks": ""
            },
            "type": "contourcarpet"
           }
          ],
          "heatmap": [
           {
            "colorbar": {
             "outlinewidth": 0,
             "ticks": ""
            },
            "colorscale": [
             [
              0,
              "#0d0887"
             ],
             [
              0.1111111111111111,
              "#46039f"
             ],
             [
              0.2222222222222222,
              "#7201a8"
             ],
             [
              0.3333333333333333,
              "#9c179e"
             ],
             [
              0.4444444444444444,
              "#bd3786"
             ],
             [
              0.5555555555555556,
              "#d8576b"
             ],
             [
              0.6666666666666666,
              "#ed7953"
             ],
             [
              0.7777777777777778,
              "#fb9f3a"
             ],
             [
              0.8888888888888888,
              "#fdca26"
             ],
             [
              1,
              "#f0f921"
             ]
            ],
            "type": "heatmap"
           }
          ],
          "heatmapgl": [
           {
            "colorbar": {
             "outlinewidth": 0,
             "ticks": ""
            },
            "colorscale": [
             [
              0,
              "#0d0887"
             ],
             [
              0.1111111111111111,
              "#46039f"
             ],
             [
              0.2222222222222222,
              "#7201a8"
             ],
             [
              0.3333333333333333,
              "#9c179e"
             ],
             [
              0.4444444444444444,
              "#bd3786"
             ],
             [
              0.5555555555555556,
              "#d8576b"
             ],
             [
              0.6666666666666666,
              "#ed7953"
             ],
             [
              0.7777777777777778,
              "#fb9f3a"
             ],
             [
              0.8888888888888888,
              "#fdca26"
             ],
             [
              1,
              "#f0f921"
             ]
            ],
            "type": "heatmapgl"
           }
          ],
          "histogram": [
           {
            "marker": {
             "colorbar": {
              "outlinewidth": 0,
              "ticks": ""
             }
            },
            "type": "histogram"
           }
          ],
          "histogram2d": [
           {
            "colorbar": {
             "outlinewidth": 0,
             "ticks": ""
            },
            "colorscale": [
             [
              0,
              "#0d0887"
             ],
             [
              0.1111111111111111,
              "#46039f"
             ],
             [
              0.2222222222222222,
              "#7201a8"
             ],
             [
              0.3333333333333333,
              "#9c179e"
             ],
             [
              0.4444444444444444,
              "#bd3786"
             ],
             [
              0.5555555555555556,
              "#d8576b"
             ],
             [
              0.6666666666666666,
              "#ed7953"
             ],
             [
              0.7777777777777778,
              "#fb9f3a"
             ],
             [
              0.8888888888888888,
              "#fdca26"
             ],
             [
              1,
              "#f0f921"
             ]
            ],
            "type": "histogram2d"
           }
          ],
          "histogram2dcontour": [
           {
            "colorbar": {
             "outlinewidth": 0,
             "ticks": ""
            },
            "colorscale": [
             [
              0,
              "#0d0887"
             ],
             [
              0.1111111111111111,
              "#46039f"
             ],
             [
              0.2222222222222222,
              "#7201a8"
             ],
             [
              0.3333333333333333,
              "#9c179e"
             ],
             [
              0.4444444444444444,
              "#bd3786"
             ],
             [
              0.5555555555555556,
              "#d8576b"
             ],
             [
              0.6666666666666666,
              "#ed7953"
             ],
             [
              0.7777777777777778,
              "#fb9f3a"
             ],
             [
              0.8888888888888888,
              "#fdca26"
             ],
             [
              1,
              "#f0f921"
             ]
            ],
            "type": "histogram2dcontour"
           }
          ],
          "mesh3d": [
           {
            "colorbar": {
             "outlinewidth": 0,
             "ticks": ""
            },
            "type": "mesh3d"
           }
          ],
          "parcoords": [
           {
            "line": {
             "colorbar": {
              "outlinewidth": 0,
              "ticks": ""
             }
            },
            "type": "parcoords"
           }
          ],
          "pie": [
           {
            "automargin": true,
            "type": "pie"
           }
          ],
          "scatter": [
           {
            "marker": {
             "colorbar": {
              "outlinewidth": 0,
              "ticks": ""
             }
            },
            "type": "scatter"
           }
          ],
          "scatter3d": [
           {
            "line": {
             "colorbar": {
              "outlinewidth": 0,
              "ticks": ""
             }
            },
            "marker": {
             "colorbar": {
              "outlinewidth": 0,
              "ticks": ""
             }
            },
            "type": "scatter3d"
           }
          ],
          "scattercarpet": [
           {
            "marker": {
             "colorbar": {
              "outlinewidth": 0,
              "ticks": ""
             }
            },
            "type": "scattercarpet"
           }
          ],
          "scattergeo": [
           {
            "marker": {
             "colorbar": {
              "outlinewidth": 0,
              "ticks": ""
             }
            },
            "type": "scattergeo"
           }
          ],
          "scattergl": [
           {
            "marker": {
             "colorbar": {
              "outlinewidth": 0,
              "ticks": ""
             }
            },
            "type": "scattergl"
           }
          ],
          "scattermapbox": [
           {
            "marker": {
             "colorbar": {
              "outlinewidth": 0,
              "ticks": ""
             }
            },
            "type": "scattermapbox"
           }
          ],
          "scatterpolar": [
           {
            "marker": {
             "colorbar": {
              "outlinewidth": 0,
              "ticks": ""
             }
            },
            "type": "scatterpolar"
           }
          ],
          "scatterpolargl": [
           {
            "marker": {
             "colorbar": {
              "outlinewidth": 0,
              "ticks": ""
             }
            },
            "type": "scatterpolargl"
           }
          ],
          "scatterternary": [
           {
            "marker": {
             "colorbar": {
              "outlinewidth": 0,
              "ticks": ""
             }
            },
            "type": "scatterternary"
           }
          ],
          "surface": [
           {
            "colorbar": {
             "outlinewidth": 0,
             "ticks": ""
            },
            "colorscale": [
             [
              0,
              "#0d0887"
             ],
             [
              0.1111111111111111,
              "#46039f"
             ],
             [
              0.2222222222222222,
              "#7201a8"
             ],
             [
              0.3333333333333333,
              "#9c179e"
             ],
             [
              0.4444444444444444,
              "#bd3786"
             ],
             [
              0.5555555555555556,
              "#d8576b"
             ],
             [
              0.6666666666666666,
              "#ed7953"
             ],
             [
              0.7777777777777778,
              "#fb9f3a"
             ],
             [
              0.8888888888888888,
              "#fdca26"
             ],
             [
              1,
              "#f0f921"
             ]
            ],
            "type": "surface"
           }
          ],
          "table": [
           {
            "cells": {
             "fill": {
              "color": "#EBF0F8"
             },
             "line": {
              "color": "white"
             }
            },
            "header": {
             "fill": {
              "color": "#C8D4E3"
             },
             "line": {
              "color": "white"
             }
            },
            "type": "table"
           }
          ]
         },
         "layout": {
          "annotationdefaults": {
           "arrowcolor": "#2a3f5f",
           "arrowhead": 0,
           "arrowwidth": 1
          },
          "coloraxis": {
           "colorbar": {
            "outlinewidth": 0,
            "ticks": ""
           }
          },
          "colorscale": {
           "diverging": [
            [
             0,
             "#8e0152"
            ],
            [
             0.1,
             "#c51b7d"
            ],
            [
             0.2,
             "#de77ae"
            ],
            [
             0.3,
             "#f1b6da"
            ],
            [
             0.4,
             "#fde0ef"
            ],
            [
             0.5,
             "#f7f7f7"
            ],
            [
             0.6,
             "#e6f5d0"
            ],
            [
             0.7,
             "#b8e186"
            ],
            [
             0.8,
             "#7fbc41"
            ],
            [
             0.9,
             "#4d9221"
            ],
            [
             1,
             "#276419"
            ]
           ],
           "sequential": [
            [
             0,
             "#0d0887"
            ],
            [
             0.1111111111111111,
             "#46039f"
            ],
            [
             0.2222222222222222,
             "#7201a8"
            ],
            [
             0.3333333333333333,
             "#9c179e"
            ],
            [
             0.4444444444444444,
             "#bd3786"
            ],
            [
             0.5555555555555556,
             "#d8576b"
            ],
            [
             0.6666666666666666,
             "#ed7953"
            ],
            [
             0.7777777777777778,
             "#fb9f3a"
            ],
            [
             0.8888888888888888,
             "#fdca26"
            ],
            [
             1,
             "#f0f921"
            ]
           ],
           "sequentialminus": [
            [
             0,
             "#0d0887"
            ],
            [
             0.1111111111111111,
             "#46039f"
            ],
            [
             0.2222222222222222,
             "#7201a8"
            ],
            [
             0.3333333333333333,
             "#9c179e"
            ],
            [
             0.4444444444444444,
             "#bd3786"
            ],
            [
             0.5555555555555556,
             "#d8576b"
            ],
            [
             0.6666666666666666,
             "#ed7953"
            ],
            [
             0.7777777777777778,
             "#fb9f3a"
            ],
            [
             0.8888888888888888,
             "#fdca26"
            ],
            [
             1,
             "#f0f921"
            ]
           ]
          },
          "colorway": [
           "#636efa",
           "#EF553B",
           "#00cc96",
           "#ab63fa",
           "#FFA15A",
           "#19d3f3",
           "#FF6692",
           "#B6E880",
           "#FF97FF",
           "#FECB52"
          ],
          "font": {
           "color": "#2a3f5f"
          },
          "geo": {
           "bgcolor": "white",
           "lakecolor": "white",
           "landcolor": "#E5ECF6",
           "showlakes": true,
           "showland": true,
           "subunitcolor": "white"
          },
          "hoverlabel": {
           "align": "left"
          },
          "hovermode": "closest",
          "mapbox": {
           "style": "light"
          },
          "paper_bgcolor": "white",
          "plot_bgcolor": "#E5ECF6",
          "polar": {
           "angularaxis": {
            "gridcolor": "white",
            "linecolor": "white",
            "ticks": ""
           },
           "bgcolor": "#E5ECF6",
           "radialaxis": {
            "gridcolor": "white",
            "linecolor": "white",
            "ticks": ""
           }
          },
          "scene": {
           "xaxis": {
            "backgroundcolor": "#E5ECF6",
            "gridcolor": "white",
            "gridwidth": 2,
            "linecolor": "white",
            "showbackground": true,
            "ticks": "",
            "zerolinecolor": "white"
           },
           "yaxis": {
            "backgroundcolor": "#E5ECF6",
            "gridcolor": "white",
            "gridwidth": 2,
            "linecolor": "white",
            "showbackground": true,
            "ticks": "",
            "zerolinecolor": "white"
           },
           "zaxis": {
            "backgroundcolor": "#E5ECF6",
            "gridcolor": "white",
            "gridwidth": 2,
            "linecolor": "white",
            "showbackground": true,
            "ticks": "",
            "zerolinecolor": "white"
           }
          },
          "shapedefaults": {
           "line": {
            "color": "#2a3f5f"
           }
          },
          "ternary": {
           "aaxis": {
            "gridcolor": "white",
            "linecolor": "white",
            "ticks": ""
           },
           "baxis": {
            "gridcolor": "white",
            "linecolor": "white",
            "ticks": ""
           },
           "bgcolor": "#E5ECF6",
           "caxis": {
            "gridcolor": "white",
            "linecolor": "white",
            "ticks": ""
           }
          },
          "title": {
           "x": 0.05
          },
          "xaxis": {
           "automargin": true,
           "gridcolor": "white",
           "linecolor": "white",
           "ticks": "",
           "title": {
            "standoff": 15
           },
           "zerolinecolor": "white",
           "zerolinewidth": 2
          },
          "yaxis": {
           "automargin": true,
           "gridcolor": "white",
           "linecolor": "white",
           "ticks": "",
           "title": {
            "standoff": 15
           },
           "zerolinecolor": "white",
           "zerolinewidth": 2
          }
         }
        }
       }
      },
      "text/html": [
       "<div>\n",
       "        \n",
       "        \n",
       "            <div id=\"f8e11559-8af9-408f-8faf-45f069450c6f\" class=\"plotly-graph-div\" style=\"height:525px; width:100%;\"></div>\n",
       "            <script type=\"text/javascript\">\n",
       "                require([\"plotly\"], function(Plotly) {\n",
       "                    window.PLOTLYENV=window.PLOTLYENV || {};\n",
       "                    \n",
       "                if (document.getElementById(\"f8e11559-8af9-408f-8faf-45f069450c6f\")) {\n",
       "                    Plotly.newPlot(\n",
       "                        'f8e11559-8af9-408f-8faf-45f069450c6f',\n",
       "                        [{\"name\": \"Confirmed\", \"type\": \"bar\", \"x\": [\"Maharashtra\", \"Tamil Nadu\", \"Kerala\", \"Delhi\", \"Rajasthan\", \"Andhra Pradesh\", \"Karnataka\", \"Uttar Pradesh\", \"Telengana\", \"Madhya Pradesh\", \"Gujarat\", \"Jammu and Kashmir\", \"West Bengal\", \"Punjab\", \"Haryana\", \"Bihar\", \"Chandigarh\", \"Assam\", \"Ladakh\", \"Andaman and Nicobar Islands\", \"Uttarakhand\", \"Chhattisgarh\", \"Goa\", \"Himachal Pradesh\", \"Odisha\", \"Puducherry\", \"Manipur\", \"Jharkhand\", \"Mizoram\", \"Arunachal Pradesh\"], \"y\": [335, 309, 286, 219, 133, 132, 124, 113, 107, 99, 87, 70, 53, 46, 43, 24, 18, 16, 14, 10, 10, 9, 6, 6, 5, 3, 2, 2, 1, 1]}, {\"name\": \"Recovered\", \"type\": \"bar\", \"x\": [\"Maharashtra\", \"Tamil Nadu\", \"Kerala\", \"Delhi\", \"Rajasthan\", \"Andhra Pradesh\", \"Karnataka\", \"Uttar Pradesh\", \"Telengana\", \"Madhya Pradesh\", \"Gujarat\", \"Jammu and Kashmir\", \"West Bengal\", \"Punjab\", \"Haryana\", \"Bihar\", \"Chandigarh\", \"Assam\", \"Ladakh\", \"Andaman and Nicobar Islands\", \"Uttarakhand\", \"Chhattisgarh\", \"Goa\", \"Himachal Pradesh\", \"Odisha\", \"Puducherry\", \"Manipur\", \"Jharkhand\", \"Mizoram\", \"Arunachal Pradesh\"], \"y\": [42, 6, 27, 8, 3, 1, 10, 14, 1, 0, 8, 3, 3, 1, 21, 0, 0, 0, 3, 0, 2, 2, 0, 1, 0, 1, 0, 0, 0, 0]}, {\"name\": \"Deaths\", \"type\": \"bar\", \"x\": [\"Maharashtra\", \"Tamil Nadu\", \"Kerala\", \"Delhi\", \"Rajasthan\", \"Andhra Pradesh\", \"Karnataka\", \"Uttar Pradesh\", \"Telengana\", \"Madhya Pradesh\", \"Gujarat\", \"Jammu and Kashmir\", \"West Bengal\", \"Punjab\", \"Haryana\", \"Bihar\", \"Chandigarh\", \"Assam\", \"Ladakh\", \"Andaman and Nicobar Islands\", \"Uttarakhand\", \"Chhattisgarh\", \"Goa\", \"Himachal Pradesh\", \"Odisha\", \"Puducherry\", \"Manipur\", \"Jharkhand\", \"Mizoram\", \"Arunachal Pradesh\"], \"y\": [16, 1, 2, 4, 0, 1, 3, 2, 3, 6, 7, 2, 3, 4, 0, 1, 0, 0, 0, 0, 0, 0, 0, 1, 0, 0, 0, 0, 0, 0]}],\n",
       "                        {\"barmode\": \"group\", \"template\": {\"data\": {\"bar\": [{\"error_x\": {\"color\": \"#2a3f5f\"}, \"error_y\": {\"color\": \"#2a3f5f\"}, \"marker\": {\"line\": {\"color\": \"#E5ECF6\", \"width\": 0.5}}, \"type\": \"bar\"}], \"barpolar\": [{\"marker\": {\"line\": {\"color\": \"#E5ECF6\", \"width\": 0.5}}, \"type\": \"barpolar\"}], \"carpet\": [{\"aaxis\": {\"endlinecolor\": \"#2a3f5f\", \"gridcolor\": \"white\", \"linecolor\": \"white\", \"minorgridcolor\": \"white\", \"startlinecolor\": \"#2a3f5f\"}, \"baxis\": {\"endlinecolor\": \"#2a3f5f\", \"gridcolor\": \"white\", \"linecolor\": \"white\", \"minorgridcolor\": \"white\", \"startlinecolor\": \"#2a3f5f\"}, \"type\": \"carpet\"}], \"choropleth\": [{\"colorbar\": {\"outlinewidth\": 0, \"ticks\": \"\"}, \"type\": \"choropleth\"}], \"contour\": [{\"colorbar\": {\"outlinewidth\": 0, \"ticks\": \"\"}, \"colorscale\": [[0.0, \"#0d0887\"], [0.1111111111111111, \"#46039f\"], [0.2222222222222222, \"#7201a8\"], [0.3333333333333333, \"#9c179e\"], [0.4444444444444444, \"#bd3786\"], [0.5555555555555556, \"#d8576b\"], [0.6666666666666666, \"#ed7953\"], [0.7777777777777778, \"#fb9f3a\"], [0.8888888888888888, \"#fdca26\"], [1.0, \"#f0f921\"]], \"type\": \"contour\"}], \"contourcarpet\": [{\"colorbar\": {\"outlinewidth\": 0, \"ticks\": \"\"}, \"type\": \"contourcarpet\"}], \"heatmap\": [{\"colorbar\": {\"outlinewidth\": 0, \"ticks\": \"\"}, \"colorscale\": [[0.0, \"#0d0887\"], [0.1111111111111111, \"#46039f\"], [0.2222222222222222, \"#7201a8\"], [0.3333333333333333, \"#9c179e\"], [0.4444444444444444, \"#bd3786\"], [0.5555555555555556, \"#d8576b\"], [0.6666666666666666, \"#ed7953\"], [0.7777777777777778, \"#fb9f3a\"], [0.8888888888888888, \"#fdca26\"], [1.0, \"#f0f921\"]], \"type\": \"heatmap\"}], \"heatmapgl\": [{\"colorbar\": {\"outlinewidth\": 0, \"ticks\": \"\"}, \"colorscale\": [[0.0, \"#0d0887\"], [0.1111111111111111, \"#46039f\"], [0.2222222222222222, \"#7201a8\"], [0.3333333333333333, \"#9c179e\"], [0.4444444444444444, \"#bd3786\"], [0.5555555555555556, \"#d8576b\"], [0.6666666666666666, \"#ed7953\"], [0.7777777777777778, \"#fb9f3a\"], [0.8888888888888888, \"#fdca26\"], [1.0, \"#f0f921\"]], \"type\": \"heatmapgl\"}], \"histogram\": [{\"marker\": {\"colorbar\": {\"outlinewidth\": 0, \"ticks\": \"\"}}, \"type\": \"histogram\"}], \"histogram2d\": [{\"colorbar\": {\"outlinewidth\": 0, \"ticks\": \"\"}, \"colorscale\": [[0.0, \"#0d0887\"], [0.1111111111111111, \"#46039f\"], [0.2222222222222222, \"#7201a8\"], [0.3333333333333333, \"#9c179e\"], [0.4444444444444444, \"#bd3786\"], [0.5555555555555556, \"#d8576b\"], [0.6666666666666666, \"#ed7953\"], [0.7777777777777778, \"#fb9f3a\"], [0.8888888888888888, \"#fdca26\"], [1.0, \"#f0f921\"]], \"type\": \"histogram2d\"}], \"histogram2dcontour\": [{\"colorbar\": {\"outlinewidth\": 0, \"ticks\": \"\"}, \"colorscale\": [[0.0, \"#0d0887\"], [0.1111111111111111, \"#46039f\"], [0.2222222222222222, \"#7201a8\"], [0.3333333333333333, \"#9c179e\"], [0.4444444444444444, \"#bd3786\"], [0.5555555555555556, \"#d8576b\"], [0.6666666666666666, \"#ed7953\"], [0.7777777777777778, \"#fb9f3a\"], [0.8888888888888888, \"#fdca26\"], [1.0, \"#f0f921\"]], \"type\": \"histogram2dcontour\"}], \"mesh3d\": [{\"colorbar\": {\"outlinewidth\": 0, \"ticks\": \"\"}, \"type\": \"mesh3d\"}], \"parcoords\": [{\"line\": {\"colorbar\": {\"outlinewidth\": 0, \"ticks\": \"\"}}, \"type\": \"parcoords\"}], \"pie\": [{\"automargin\": true, \"type\": \"pie\"}], \"scatter\": [{\"marker\": {\"colorbar\": {\"outlinewidth\": 0, \"ticks\": \"\"}}, \"type\": \"scatter\"}], \"scatter3d\": [{\"line\": {\"colorbar\": {\"outlinewidth\": 0, \"ticks\": \"\"}}, \"marker\": {\"colorbar\": {\"outlinewidth\": 0, \"ticks\": \"\"}}, \"type\": \"scatter3d\"}], \"scattercarpet\": [{\"marker\": {\"colorbar\": {\"outlinewidth\": 0, \"ticks\": \"\"}}, \"type\": \"scattercarpet\"}], \"scattergeo\": [{\"marker\": {\"colorbar\": {\"outlinewidth\": 0, \"ticks\": \"\"}}, \"type\": \"scattergeo\"}], \"scattergl\": [{\"marker\": {\"colorbar\": {\"outlinewidth\": 0, \"ticks\": \"\"}}, \"type\": \"scattergl\"}], \"scattermapbox\": [{\"marker\": {\"colorbar\": {\"outlinewidth\": 0, \"ticks\": \"\"}}, \"type\": \"scattermapbox\"}], \"scatterpolar\": [{\"marker\": {\"colorbar\": {\"outlinewidth\": 0, \"ticks\": \"\"}}, \"type\": \"scatterpolar\"}], \"scatterpolargl\": [{\"marker\": {\"colorbar\": {\"outlinewidth\": 0, \"ticks\": \"\"}}, \"type\": \"scatterpolargl\"}], \"scatterternary\": [{\"marker\": {\"colorbar\": {\"outlinewidth\": 0, \"ticks\": \"\"}}, \"type\": \"scatterternary\"}], \"surface\": [{\"colorbar\": {\"outlinewidth\": 0, \"ticks\": \"\"}, \"colorscale\": [[0.0, \"#0d0887\"], [0.1111111111111111, \"#46039f\"], [0.2222222222222222, \"#7201a8\"], [0.3333333333333333, \"#9c179e\"], [0.4444444444444444, \"#bd3786\"], [0.5555555555555556, \"#d8576b\"], [0.6666666666666666, \"#ed7953\"], [0.7777777777777778, \"#fb9f3a\"], [0.8888888888888888, \"#fdca26\"], [1.0, \"#f0f921\"]], \"type\": \"surface\"}], \"table\": [{\"cells\": {\"fill\": {\"color\": \"#EBF0F8\"}, \"line\": {\"color\": \"white\"}}, \"header\": {\"fill\": {\"color\": \"#C8D4E3\"}, \"line\": {\"color\": \"white\"}}, \"type\": \"table\"}]}, \"layout\": {\"annotationdefaults\": {\"arrowcolor\": \"#2a3f5f\", \"arrowhead\": 0, \"arrowwidth\": 1}, \"coloraxis\": {\"colorbar\": {\"outlinewidth\": 0, \"ticks\": \"\"}}, \"colorscale\": {\"diverging\": [[0, \"#8e0152\"], [0.1, \"#c51b7d\"], [0.2, \"#de77ae\"], [0.3, \"#f1b6da\"], [0.4, \"#fde0ef\"], [0.5, \"#f7f7f7\"], [0.6, \"#e6f5d0\"], [0.7, \"#b8e186\"], [0.8, \"#7fbc41\"], [0.9, \"#4d9221\"], [1, \"#276419\"]], \"sequential\": [[0.0, \"#0d0887\"], [0.1111111111111111, \"#46039f\"], [0.2222222222222222, \"#7201a8\"], [0.3333333333333333, \"#9c179e\"], [0.4444444444444444, \"#bd3786\"], [0.5555555555555556, \"#d8576b\"], [0.6666666666666666, \"#ed7953\"], [0.7777777777777778, \"#fb9f3a\"], [0.8888888888888888, \"#fdca26\"], [1.0, \"#f0f921\"]], \"sequentialminus\": [[0.0, \"#0d0887\"], [0.1111111111111111, \"#46039f\"], [0.2222222222222222, \"#7201a8\"], [0.3333333333333333, \"#9c179e\"], [0.4444444444444444, \"#bd3786\"], [0.5555555555555556, \"#d8576b\"], [0.6666666666666666, \"#ed7953\"], [0.7777777777777778, \"#fb9f3a\"], [0.8888888888888888, \"#fdca26\"], [1.0, \"#f0f921\"]]}, \"colorway\": [\"#636efa\", \"#EF553B\", \"#00cc96\", \"#ab63fa\", \"#FFA15A\", \"#19d3f3\", \"#FF6692\", \"#B6E880\", \"#FF97FF\", \"#FECB52\"], \"font\": {\"color\": \"#2a3f5f\"}, \"geo\": {\"bgcolor\": \"white\", \"lakecolor\": \"white\", \"landcolor\": \"#E5ECF6\", \"showlakes\": true, \"showland\": true, \"subunitcolor\": \"white\"}, \"hoverlabel\": {\"align\": \"left\"}, \"hovermode\": \"closest\", \"mapbox\": {\"style\": \"light\"}, \"paper_bgcolor\": \"white\", \"plot_bgcolor\": \"#E5ECF6\", \"polar\": {\"angularaxis\": {\"gridcolor\": \"white\", \"linecolor\": \"white\", \"ticks\": \"\"}, \"bgcolor\": \"#E5ECF6\", \"radialaxis\": {\"gridcolor\": \"white\", \"linecolor\": \"white\", \"ticks\": \"\"}}, \"scene\": {\"xaxis\": {\"backgroundcolor\": \"#E5ECF6\", \"gridcolor\": \"white\", \"gridwidth\": 2, \"linecolor\": \"white\", \"showbackground\": true, \"ticks\": \"\", \"zerolinecolor\": \"white\"}, \"yaxis\": {\"backgroundcolor\": \"#E5ECF6\", \"gridcolor\": \"white\", \"gridwidth\": 2, \"linecolor\": \"white\", \"showbackground\": true, \"ticks\": \"\", \"zerolinecolor\": \"white\"}, \"zaxis\": {\"backgroundcolor\": \"#E5ECF6\", \"gridcolor\": \"white\", \"gridwidth\": 2, \"linecolor\": \"white\", \"showbackground\": true, \"ticks\": \"\", \"zerolinecolor\": \"white\"}}, \"shapedefaults\": {\"line\": {\"color\": \"#2a3f5f\"}}, \"ternary\": {\"aaxis\": {\"gridcolor\": \"white\", \"linecolor\": \"white\", \"ticks\": \"\"}, \"baxis\": {\"gridcolor\": \"white\", \"linecolor\": \"white\", \"ticks\": \"\"}, \"bgcolor\": \"#E5ECF6\", \"caxis\": {\"gridcolor\": \"white\", \"linecolor\": \"white\", \"ticks\": \"\"}}, \"title\": {\"x\": 0.05}, \"xaxis\": {\"automargin\": true, \"gridcolor\": \"white\", \"linecolor\": \"white\", \"ticks\": \"\", \"title\": {\"standoff\": 15}, \"zerolinecolor\": \"white\", \"zerolinewidth\": 2}, \"yaxis\": {\"automargin\": true, \"gridcolor\": \"white\", \"linecolor\": \"white\", \"ticks\": \"\", \"title\": {\"standoff\": 15}, \"zerolinecolor\": \"white\", \"zerolinewidth\": 2}}}},\n",
       "                        {\"responsive\": true}\n",
       "                    ).then(function(){\n",
       "                            \n",
       "var gd = document.getElementById('f8e11559-8af9-408f-8faf-45f069450c6f');\n",
       "var x = new MutationObserver(function (mutations, observer) {{\n",
       "        var display = window.getComputedStyle(gd).display;\n",
       "        if (!display || display === 'none') {{\n",
       "            console.log([gd, 'removed!']);\n",
       "            Plotly.purge(gd);\n",
       "            observer.disconnect();\n",
       "        }}\n",
       "}});\n",
       "\n",
       "// Listen for the removal of the full notebook cells\n",
       "var notebookContainer = gd.closest('#notebook-container');\n",
       "if (notebookContainer) {{\n",
       "    x.observe(notebookContainer, {childList: true});\n",
       "}}\n",
       "\n",
       "// Listen for the clearing of the current output cell\n",
       "var outputEl = gd.closest('.output');\n",
       "if (outputEl) {{\n",
       "    x.observe(outputEl, {childList: true});\n",
       "}}\n",
       "\n",
       "                        })\n",
       "                };\n",
       "                });\n",
       "            </script>\n",
       "        </div>"
      ]
     },
     "metadata": {},
     "output_type": "display_data"
    }
   ],
   "source": [
    "temp = latest.sort_values('Confirmed', ascending=False)\n",
    "import plotly.graph_objects as go\n",
    "states=temp['State/UT']\n",
    "\n",
    "fig = go.Figure(data=[\n",
    "    go.Bar(name='Confirmed', x=states, y=temp['Confirmed']),\n",
    "    go.Bar(name='Recovered', x=states, y=temp['Cured']),\n",
    "    go.Bar(name='Deaths', x=states, y=temp['Deaths'])\n",
    "])\n",
    "# Change the bar mode\n",
    "fig.update_layout(barmode='group')\n",
    "fig.show()"
   ]
  },
  {
   "cell_type": "code",
   "execution_count": 16,
   "metadata": {},
   "outputs": [],
   "source": [
    "plot_div = plot(fig,output_type='div',include_plotlyjs=False,show_link=False,link_text=\"\",image_width=5000,config={\"displaylogo\":False})"
   ]
  },
  {
   "cell_type": "code",
   "execution_count": 17,
   "metadata": {},
   "outputs": [
    {
     "data": {
      "text/plain": [
       "'<div>\\n        \\n        \\n            <div id=\"dcfad341-a8fb-4d43-bde1-dc6043eef544\" class=\"plotly-graph-div\" style=\"height:100%; width:100%;\"></div>\\n            <script type=\"text/javascript\">\\n                \\n                    window.PLOTLYENV=window.PLOTLYENV || {};\\n                    \\n                if (document.getElementById(\"dcfad341-a8fb-4d43-bde1-dc6043eef544\")) {\\n                    Plotly.newPlot(\\n                        \\'dcfad341-a8fb-4d43-bde1-dc6043eef544\\',\\n                        [{\"name\": \"Confirmed\", \"type\": \"bar\", \"x\": [\"Maharashtra\", \"Tamil Nadu\", \"Kerala\", \"Delhi\", \"Rajasthan\", \"Andhra Pradesh\", \"Karnataka\", \"Uttar Pradesh\", \"Telengana\", \"Madhya Pradesh\", \"Gujarat\", \"Jammu and Kashmir\", \"West Bengal\", \"Punjab\", \"Haryana\", \"Bihar\", \"Chandigarh\", \"Assam\", \"Ladakh\", \"Andaman and Nicobar Islands\", \"Uttarakhand\", \"Chhattisgarh\", \"Goa\", \"Himachal Pradesh\", \"Odisha\", \"Puducherry\", \"Manipur\", \"Jharkhand\", \"Mizoram\", \"Arunachal Pradesh\"], \"y\": [335, 309, 286, 219, 133, 132, 124, 113, 107, 99, 87, 70, 53, 46, 43, 24, 18, 16, 14, 10, 10, 9, 6, 6, 5, 3, 2, 2, 1, 1]}, {\"name\": \"Recovered\", \"type\": \"bar\", \"x\": [\"Maharashtra\", \"Tamil Nadu\", \"Kerala\", \"Delhi\", \"Rajasthan\", \"Andhra Pradesh\", \"Karnataka\", \"Uttar Pradesh\", \"Telengana\", \"Madhya Pradesh\", \"Gujarat\", \"Jammu and Kashmir\", \"West Bengal\", \"Punjab\", \"Haryana\", \"Bihar\", \"Chandigarh\", \"Assam\", \"Ladakh\", \"Andaman and Nicobar Islands\", \"Uttarakhand\", \"Chhattisgarh\", \"Goa\", \"Himachal Pradesh\", \"Odisha\", \"Puducherry\", \"Manipur\", \"Jharkhand\", \"Mizoram\", \"Arunachal Pradesh\"], \"y\": [42, 6, 27, 8, 3, 1, 10, 14, 1, 0, 8, 3, 3, 1, 21, 0, 0, 0, 3, 0, 2, 2, 0, 1, 0, 1, 0, 0, 0, 0]}, {\"name\": \"Deaths\", \"type\": \"bar\", \"x\": [\"Maharashtra\", \"Tamil Nadu\", \"Kerala\", \"Delhi\", \"Rajasthan\", \"Andhra Pradesh\", \"Karnataka\", \"Uttar Pradesh\", \"Telengana\", \"Madhya Pradesh\", \"Gujarat\", \"Jammu and Kashmir\", \"West Bengal\", \"Punjab\", \"Haryana\", \"Bihar\", \"Chandigarh\", \"Assam\", \"Ladakh\", \"Andaman and Nicobar Islands\", \"Uttarakhand\", \"Chhattisgarh\", \"Goa\", \"Himachal Pradesh\", \"Odisha\", \"Puducherry\", \"Manipur\", \"Jharkhand\", \"Mizoram\", \"Arunachal Pradesh\"], \"y\": [16, 1, 2, 4, 0, 1, 3, 2, 3, 6, 7, 2, 3, 4, 0, 1, 0, 0, 0, 0, 0, 0, 0, 1, 0, 0, 0, 0, 0, 0]}],\\n                        {\"barmode\": \"group\", \"template\": {\"data\": {\"bar\": [{\"error_x\": {\"color\": \"#2a3f5f\"}, \"error_y\": {\"color\": \"#2a3f5f\"}, \"marker\": {\"line\": {\"color\": \"#E5ECF6\", \"width\": 0.5}}, \"type\": \"bar\"}], \"barpolar\": [{\"marker\": {\"line\": {\"color\": \"#E5ECF6\", \"width\": 0.5}}, \"type\": \"barpolar\"}], \"carpet\": [{\"aaxis\": {\"endlinecolor\": \"#2a3f5f\", \"gridcolor\": \"white\", \"linecolor\": \"white\", \"minorgridcolor\": \"white\", \"startlinecolor\": \"#2a3f5f\"}, \"baxis\": {\"endlinecolor\": \"#2a3f5f\", \"gridcolor\": \"white\", \"linecolor\": \"white\", \"minorgridcolor\": \"white\", \"startlinecolor\": \"#2a3f5f\"}, \"type\": \"carpet\"}], \"choropleth\": [{\"colorbar\": {\"outlinewidth\": 0, \"ticks\": \"\"}, \"type\": \"choropleth\"}], \"contour\": [{\"colorbar\": {\"outlinewidth\": 0, \"ticks\": \"\"}, \"colorscale\": [[0.0, \"#0d0887\"], [0.1111111111111111, \"#46039f\"], [0.2222222222222222, \"#7201a8\"], [0.3333333333333333, \"#9c179e\"], [0.4444444444444444, \"#bd3786\"], [0.5555555555555556, \"#d8576b\"], [0.6666666666666666, \"#ed7953\"], [0.7777777777777778, \"#fb9f3a\"], [0.8888888888888888, \"#fdca26\"], [1.0, \"#f0f921\"]], \"type\": \"contour\"}], \"contourcarpet\": [{\"colorbar\": {\"outlinewidth\": 0, \"ticks\": \"\"}, \"type\": \"contourcarpet\"}], \"heatmap\": [{\"colorbar\": {\"outlinewidth\": 0, \"ticks\": \"\"}, \"colorscale\": [[0.0, \"#0d0887\"], [0.1111111111111111, \"#46039f\"], [0.2222222222222222, \"#7201a8\"], [0.3333333333333333, \"#9c179e\"], [0.4444444444444444, \"#bd3786\"], [0.5555555555555556, \"#d8576b\"], [0.6666666666666666, \"#ed7953\"], [0.7777777777777778, \"#fb9f3a\"], [0.8888888888888888, \"#fdca26\"], [1.0, \"#f0f921\"]], \"type\": \"heatmap\"}], \"heatmapgl\": [{\"colorbar\": {\"outlinewidth\": 0, \"ticks\": \"\"}, \"colorscale\": [[0.0, \"#0d0887\"], [0.1111111111111111, \"#46039f\"], [0.2222222222222222, \"#7201a8\"], [0.3333333333333333, \"#9c179e\"], [0.4444444444444444, \"#bd3786\"], [0.5555555555555556, \"#d8576b\"], [0.6666666666666666, \"#ed7953\"], [0.7777777777777778, \"#fb9f3a\"], [0.8888888888888888, \"#fdca26\"], [1.0, \"#f0f921\"]], \"type\": \"heatmapgl\"}], \"histogram\": [{\"marker\": {\"colorbar\": {\"outlinewidth\": 0, \"ticks\": \"\"}}, \"type\": \"histogram\"}], \"histogram2d\": [{\"colorbar\": {\"outlinewidth\": 0, \"ticks\": \"\"}, \"colorscale\": [[0.0, \"#0d0887\"], [0.1111111111111111, \"#46039f\"], [0.2222222222222222, \"#7201a8\"], [0.3333333333333333, \"#9c179e\"], [0.4444444444444444, \"#bd3786\"], [0.5555555555555556, \"#d8576b\"], [0.6666666666666666, \"#ed7953\"], [0.7777777777777778, \"#fb9f3a\"], [0.8888888888888888, \"#fdca26\"], [1.0, \"#f0f921\"]], \"type\": \"histogram2d\"}], \"histogram2dcontour\": [{\"colorbar\": {\"outlinewidth\": 0, \"ticks\": \"\"}, \"colorscale\": [[0.0, \"#0d0887\"], [0.1111111111111111, \"#46039f\"], [0.2222222222222222, \"#7201a8\"], [0.3333333333333333, \"#9c179e\"], [0.4444444444444444, \"#bd3786\"], [0.5555555555555556, \"#d8576b\"], [0.6666666666666666, \"#ed7953\"], [0.7777777777777778, \"#fb9f3a\"], [0.8888888888888888, \"#fdca26\"], [1.0, \"#f0f921\"]], \"type\": \"histogram2dcontour\"}], \"mesh3d\": [{\"colorbar\": {\"outlinewidth\": 0, \"ticks\": \"\"}, \"type\": \"mesh3d\"}], \"parcoords\": [{\"line\": {\"colorbar\": {\"outlinewidth\": 0, \"ticks\": \"\"}}, \"type\": \"parcoords\"}], \"pie\": [{\"automargin\": true, \"type\": \"pie\"}], \"scatter\": [{\"marker\": {\"colorbar\": {\"outlinewidth\": 0, \"ticks\": \"\"}}, \"type\": \"scatter\"}], \"scatter3d\": [{\"line\": {\"colorbar\": {\"outlinewidth\": 0, \"ticks\": \"\"}}, \"marker\": {\"colorbar\": {\"outlinewidth\": 0, \"ticks\": \"\"}}, \"type\": \"scatter3d\"}], \"scattercarpet\": [{\"marker\": {\"colorbar\": {\"outlinewidth\": 0, \"ticks\": \"\"}}, \"type\": \"scattercarpet\"}], \"scattergeo\": [{\"marker\": {\"colorbar\": {\"outlinewidth\": 0, \"ticks\": \"\"}}, \"type\": \"scattergeo\"}], \"scattergl\": [{\"marker\": {\"colorbar\": {\"outlinewidth\": 0, \"ticks\": \"\"}}, \"type\": \"scattergl\"}], \"scattermapbox\": [{\"marker\": {\"colorbar\": {\"outlinewidth\": 0, \"ticks\": \"\"}}, \"type\": \"scattermapbox\"}], \"scatterpolar\": [{\"marker\": {\"colorbar\": {\"outlinewidth\": 0, \"ticks\": \"\"}}, \"type\": \"scatterpolar\"}], \"scatterpolargl\": [{\"marker\": {\"colorbar\": {\"outlinewidth\": 0, \"ticks\": \"\"}}, \"type\": \"scatterpolargl\"}], \"scatterternary\": [{\"marker\": {\"colorbar\": {\"outlinewidth\": 0, \"ticks\": \"\"}}, \"type\": \"scatterternary\"}], \"surface\": [{\"colorbar\": {\"outlinewidth\": 0, \"ticks\": \"\"}, \"colorscale\": [[0.0, \"#0d0887\"], [0.1111111111111111, \"#46039f\"], [0.2222222222222222, \"#7201a8\"], [0.3333333333333333, \"#9c179e\"], [0.4444444444444444, \"#bd3786\"], [0.5555555555555556, \"#d8576b\"], [0.6666666666666666, \"#ed7953\"], [0.7777777777777778, \"#fb9f3a\"], [0.8888888888888888, \"#fdca26\"], [1.0, \"#f0f921\"]], \"type\": \"surface\"}], \"table\": [{\"cells\": {\"fill\": {\"color\": \"#EBF0F8\"}, \"line\": {\"color\": \"white\"}}, \"header\": {\"fill\": {\"color\": \"#C8D4E3\"}, \"line\": {\"color\": \"white\"}}, \"type\": \"table\"}]}, \"layout\": {\"annotationdefaults\": {\"arrowcolor\": \"#2a3f5f\", \"arrowhead\": 0, \"arrowwidth\": 1}, \"coloraxis\": {\"colorbar\": {\"outlinewidth\": 0, \"ticks\": \"\"}}, \"colorscale\": {\"diverging\": [[0, \"#8e0152\"], [0.1, \"#c51b7d\"], [0.2, \"#de77ae\"], [0.3, \"#f1b6da\"], [0.4, \"#fde0ef\"], [0.5, \"#f7f7f7\"], [0.6, \"#e6f5d0\"], [0.7, \"#b8e186\"], [0.8, \"#7fbc41\"], [0.9, \"#4d9221\"], [1, \"#276419\"]], \"sequential\": [[0.0, \"#0d0887\"], [0.1111111111111111, \"#46039f\"], [0.2222222222222222, \"#7201a8\"], [0.3333333333333333, \"#9c179e\"], [0.4444444444444444, \"#bd3786\"], [0.5555555555555556, \"#d8576b\"], [0.6666666666666666, \"#ed7953\"], [0.7777777777777778, \"#fb9f3a\"], [0.8888888888888888, \"#fdca26\"], [1.0, \"#f0f921\"]], \"sequentialminus\": [[0.0, \"#0d0887\"], [0.1111111111111111, \"#46039f\"], [0.2222222222222222, \"#7201a8\"], [0.3333333333333333, \"#9c179e\"], [0.4444444444444444, \"#bd3786\"], [0.5555555555555556, \"#d8576b\"], [0.6666666666666666, \"#ed7953\"], [0.7777777777777778, \"#fb9f3a\"], [0.8888888888888888, \"#fdca26\"], [1.0, \"#f0f921\"]]}, \"colorway\": [\"#636efa\", \"#EF553B\", \"#00cc96\", \"#ab63fa\", \"#FFA15A\", \"#19d3f3\", \"#FF6692\", \"#B6E880\", \"#FF97FF\", \"#FECB52\"], \"font\": {\"color\": \"#2a3f5f\"}, \"geo\": {\"bgcolor\": \"white\", \"lakecolor\": \"white\", \"landcolor\": \"#E5ECF6\", \"showlakes\": true, \"showland\": true, \"subunitcolor\": \"white\"}, \"hoverlabel\": {\"align\": \"left\"}, \"hovermode\": \"closest\", \"mapbox\": {\"style\": \"light\"}, \"paper_bgcolor\": \"white\", \"plot_bgcolor\": \"#E5ECF6\", \"polar\": {\"angularaxis\": {\"gridcolor\": \"white\", \"linecolor\": \"white\", \"ticks\": \"\"}, \"bgcolor\": \"#E5ECF6\", \"radialaxis\": {\"gridcolor\": \"white\", \"linecolor\": \"white\", \"ticks\": \"\"}}, \"scene\": {\"xaxis\": {\"backgroundcolor\": \"#E5ECF6\", \"gridcolor\": \"white\", \"gridwidth\": 2, \"linecolor\": \"white\", \"showbackground\": true, \"ticks\": \"\", \"zerolinecolor\": \"white\"}, \"yaxis\": {\"backgroundcolor\": \"#E5ECF6\", \"gridcolor\": \"white\", \"gridwidth\": 2, \"linecolor\": \"white\", \"showbackground\": true, \"ticks\": \"\", \"zerolinecolor\": \"white\"}, \"zaxis\": {\"backgroundcolor\": \"#E5ECF6\", \"gridcolor\": \"white\", \"gridwidth\": 2, \"linecolor\": \"white\", \"showbackground\": true, \"ticks\": \"\", \"zerolinecolor\": \"white\"}}, \"shapedefaults\": {\"line\": {\"color\": \"#2a3f5f\"}}, \"ternary\": {\"aaxis\": {\"gridcolor\": \"white\", \"linecolor\": \"white\", \"ticks\": \"\"}, \"baxis\": {\"gridcolor\": \"white\", \"linecolor\": \"white\", \"ticks\": \"\"}, \"bgcolor\": \"#E5ECF6\", \"caxis\": {\"gridcolor\": \"white\", \"linecolor\": \"white\", \"ticks\": \"\"}}, \"title\": {\"x\": 0.05}, \"xaxis\": {\"automargin\": true, \"gridcolor\": \"white\", \"linecolor\": \"white\", \"ticks\": \"\", \"title\": {\"standoff\": 15}, \"zerolinecolor\": \"white\", \"zerolinewidth\": 2}, \"yaxis\": {\"automargin\": true, \"gridcolor\": \"white\", \"linecolor\": \"white\", \"ticks\": \"\", \"title\": {\"standoff\": 15}, \"zerolinecolor\": \"white\", \"zerolinewidth\": 2}}}},\\n                        {\"displaylogo\": false, \"responsive\": true}\\n                    )\\n                };\\n                \\n            </script>\\n        </div>'"
      ]
     },
     "execution_count": 17,
     "metadata": {},
     "output_type": "execute_result"
    }
   ],
   "source": [
    "plot_div"
   ]
  },
  {
   "cell_type": "code",
   "execution_count": 12,
   "metadata": {},
   "outputs": [
    {
     "data": {
      "application/vnd.plotly.v1+json": {
       "config": {
        "plotlyServerURL": "https://plot.ly"
       },
       "data": [
        {
         "alignmentgroup": "True",
         "hoverlabel": {
          "namelength": 0
         },
         "hovertemplate": "State/UT=%{y}<br>Confirmed=%{text}",
         "legendgroup": "State/UT=Maharashtra",
         "marker": {
          "color": "rgb(229, 134, 6)"
         },
         "name": "State/UT=Maharashtra",
         "offsetgroup": "State/UT=Maharashtra",
         "orientation": "h",
         "showlegend": true,
         "text": [
          335
         ],
         "textposition": "auto",
         "type": "bar",
         "x": [
          335
         ],
         "xaxis": "x",
         "y": [
          "Maharashtra"
         ],
         "yaxis": "y"
        },
        {
         "alignmentgroup": "True",
         "hoverlabel": {
          "namelength": 0
         },
         "hovertemplate": "State/UT=%{y}<br>Confirmed=%{text}",
         "legendgroup": "State/UT=Tamil Nadu",
         "marker": {
          "color": "rgb(93, 105, 177)"
         },
         "name": "State/UT=Tamil Nadu",
         "offsetgroup": "State/UT=Tamil Nadu",
         "orientation": "h",
         "showlegend": true,
         "text": [
          309
         ],
         "textposition": "auto",
         "type": "bar",
         "x": [
          309
         ],
         "xaxis": "x",
         "y": [
          "Tamil Nadu"
         ],
         "yaxis": "y"
        },
        {
         "alignmentgroup": "True",
         "hoverlabel": {
          "namelength": 0
         },
         "hovertemplate": "State/UT=%{y}<br>Confirmed=%{text}",
         "legendgroup": "State/UT=Kerala",
         "marker": {
          "color": "rgb(82, 188, 163)"
         },
         "name": "State/UT=Kerala",
         "offsetgroup": "State/UT=Kerala",
         "orientation": "h",
         "showlegend": true,
         "text": [
          286
         ],
         "textposition": "auto",
         "type": "bar",
         "x": [
          286
         ],
         "xaxis": "x",
         "y": [
          "Kerala"
         ],
         "yaxis": "y"
        },
        {
         "alignmentgroup": "True",
         "hoverlabel": {
          "namelength": 0
         },
         "hovertemplate": "State/UT=%{y}<br>Confirmed=%{text}",
         "legendgroup": "State/UT=Delhi",
         "marker": {
          "color": "rgb(153, 201, 69)"
         },
         "name": "State/UT=Delhi",
         "offsetgroup": "State/UT=Delhi",
         "orientation": "h",
         "showlegend": true,
         "text": [
          219
         ],
         "textposition": "auto",
         "type": "bar",
         "x": [
          219
         ],
         "xaxis": "x",
         "y": [
          "Delhi"
         ],
         "yaxis": "y"
        },
        {
         "alignmentgroup": "True",
         "hoverlabel": {
          "namelength": 0
         },
         "hovertemplate": "State/UT=%{y}<br>Confirmed=%{text}",
         "legendgroup": "State/UT=Rajasthan",
         "marker": {
          "color": "rgb(204, 97, 176)"
         },
         "name": "State/UT=Rajasthan",
         "offsetgroup": "State/UT=Rajasthan",
         "orientation": "h",
         "showlegend": true,
         "text": [
          133
         ],
         "textposition": "auto",
         "type": "bar",
         "x": [
          133
         ],
         "xaxis": "x",
         "y": [
          "Rajasthan"
         ],
         "yaxis": "y"
        },
        {
         "alignmentgroup": "True",
         "hoverlabel": {
          "namelength": 0
         },
         "hovertemplate": "State/UT=%{y}<br>Confirmed=%{text}",
         "legendgroup": "State/UT=Andhra Pradesh",
         "marker": {
          "color": "rgb(36, 121, 108)"
         },
         "name": "State/UT=Andhra Pradesh",
         "offsetgroup": "State/UT=Andhra Pradesh",
         "orientation": "h",
         "showlegend": true,
         "text": [
          132
         ],
         "textposition": "auto",
         "type": "bar",
         "x": [
          132
         ],
         "xaxis": "x",
         "y": [
          "Andhra Pradesh"
         ],
         "yaxis": "y"
        },
        {
         "alignmentgroup": "True",
         "hoverlabel": {
          "namelength": 0
         },
         "hovertemplate": "State/UT=%{y}<br>Confirmed=%{text}",
         "legendgroup": "State/UT=Karnataka",
         "marker": {
          "color": "rgb(218, 165, 27)"
         },
         "name": "State/UT=Karnataka",
         "offsetgroup": "State/UT=Karnataka",
         "orientation": "h",
         "showlegend": true,
         "text": [
          124
         ],
         "textposition": "auto",
         "type": "bar",
         "x": [
          124
         ],
         "xaxis": "x",
         "y": [
          "Karnataka"
         ],
         "yaxis": "y"
        },
        {
         "alignmentgroup": "True",
         "hoverlabel": {
          "namelength": 0
         },
         "hovertemplate": "State/UT=%{y}<br>Confirmed=%{text}",
         "legendgroup": "State/UT=Uttar Pradesh",
         "marker": {
          "color": "rgb(47, 138, 196)"
         },
         "name": "State/UT=Uttar Pradesh",
         "offsetgroup": "State/UT=Uttar Pradesh",
         "orientation": "h",
         "showlegend": true,
         "text": [
          113
         ],
         "textposition": "auto",
         "type": "bar",
         "x": [
          113
         ],
         "xaxis": "x",
         "y": [
          "Uttar Pradesh"
         ],
         "yaxis": "y"
        },
        {
         "alignmentgroup": "True",
         "hoverlabel": {
          "namelength": 0
         },
         "hovertemplate": "State/UT=%{y}<br>Confirmed=%{text}",
         "legendgroup": "State/UT=Telengana",
         "marker": {
          "color": "rgb(118, 78, 159)"
         },
         "name": "State/UT=Telengana",
         "offsetgroup": "State/UT=Telengana",
         "orientation": "h",
         "showlegend": true,
         "text": [
          107
         ],
         "textposition": "auto",
         "type": "bar",
         "x": [
          107
         ],
         "xaxis": "x",
         "y": [
          "Telengana"
         ],
         "yaxis": "y"
        },
        {
         "alignmentgroup": "True",
         "hoverlabel": {
          "namelength": 0
         },
         "hovertemplate": "State/UT=%{y}<br>Confirmed=%{text}",
         "legendgroup": "State/UT=Madhya Pradesh",
         "marker": {
          "color": "rgb(237, 100, 90)"
         },
         "name": "State/UT=Madhya Pradesh",
         "offsetgroup": "State/UT=Madhya Pradesh",
         "orientation": "h",
         "showlegend": true,
         "text": [
          99
         ],
         "textposition": "auto",
         "type": "bar",
         "x": [
          99
         ],
         "xaxis": "x",
         "y": [
          "Madhya Pradesh"
         ],
         "yaxis": "y"
        },
        {
         "alignmentgroup": "True",
         "hoverlabel": {
          "namelength": 0
         },
         "hovertemplate": "State/UT=%{y}<br>Confirmed=%{text}",
         "legendgroup": "State/UT=Gujarat",
         "marker": {
          "color": "rgb(165, 170, 153)"
         },
         "name": "State/UT=Gujarat",
         "offsetgroup": "State/UT=Gujarat",
         "orientation": "h",
         "showlegend": true,
         "text": [
          87
         ],
         "textposition": "auto",
         "type": "bar",
         "x": [
          87
         ],
         "xaxis": "x",
         "y": [
          "Gujarat"
         ],
         "yaxis": "y"
        },
        {
         "alignmentgroup": "True",
         "hoverlabel": {
          "namelength": 0
         },
         "hovertemplate": "State/UT=%{y}<br>Confirmed=%{text}",
         "legendgroup": "State/UT=Jammu and Kashmir",
         "marker": {
          "color": "rgb(229, 134, 6)"
         },
         "name": "State/UT=Jammu and Kashmir",
         "offsetgroup": "State/UT=Jammu and Kashmir",
         "orientation": "h",
         "showlegend": true,
         "text": [
          70
         ],
         "textposition": "auto",
         "type": "bar",
         "x": [
          70
         ],
         "xaxis": "x",
         "y": [
          "Jammu and Kashmir"
         ],
         "yaxis": "y"
        },
        {
         "alignmentgroup": "True",
         "hoverlabel": {
          "namelength": 0
         },
         "hovertemplate": "State/UT=%{y}<br>Confirmed=%{text}",
         "legendgroup": "State/UT=West Bengal",
         "marker": {
          "color": "rgb(93, 105, 177)"
         },
         "name": "State/UT=West Bengal",
         "offsetgroup": "State/UT=West Bengal",
         "orientation": "h",
         "showlegend": true,
         "text": [
          53
         ],
         "textposition": "auto",
         "type": "bar",
         "x": [
          53
         ],
         "xaxis": "x",
         "y": [
          "West Bengal"
         ],
         "yaxis": "y"
        },
        {
         "alignmentgroup": "True",
         "hoverlabel": {
          "namelength": 0
         },
         "hovertemplate": "State/UT=%{y}<br>Confirmed=%{text}",
         "legendgroup": "State/UT=Punjab",
         "marker": {
          "color": "rgb(82, 188, 163)"
         },
         "name": "State/UT=Punjab",
         "offsetgroup": "State/UT=Punjab",
         "orientation": "h",
         "showlegend": true,
         "text": [
          46
         ],
         "textposition": "auto",
         "type": "bar",
         "x": [
          46
         ],
         "xaxis": "x",
         "y": [
          "Punjab"
         ],
         "yaxis": "y"
        },
        {
         "alignmentgroup": "True",
         "hoverlabel": {
          "namelength": 0
         },
         "hovertemplate": "State/UT=%{y}<br>Confirmed=%{text}",
         "legendgroup": "State/UT=Haryana",
         "marker": {
          "color": "rgb(153, 201, 69)"
         },
         "name": "State/UT=Haryana",
         "offsetgroup": "State/UT=Haryana",
         "orientation": "h",
         "showlegend": true,
         "text": [
          43
         ],
         "textposition": "auto",
         "type": "bar",
         "x": [
          43
         ],
         "xaxis": "x",
         "y": [
          "Haryana"
         ],
         "yaxis": "y"
        },
        {
         "alignmentgroup": "True",
         "hoverlabel": {
          "namelength": 0
         },
         "hovertemplate": "State/UT=%{y}<br>Confirmed=%{text}",
         "legendgroup": "State/UT=Bihar",
         "marker": {
          "color": "rgb(204, 97, 176)"
         },
         "name": "State/UT=Bihar",
         "offsetgroup": "State/UT=Bihar",
         "orientation": "h",
         "showlegend": true,
         "text": [
          24
         ],
         "textposition": "auto",
         "type": "bar",
         "x": [
          24
         ],
         "xaxis": "x",
         "y": [
          "Bihar"
         ],
         "yaxis": "y"
        },
        {
         "alignmentgroup": "True",
         "hoverlabel": {
          "namelength": 0
         },
         "hovertemplate": "State/UT=%{y}<br>Confirmed=%{text}",
         "legendgroup": "State/UT=Chandigarh",
         "marker": {
          "color": "rgb(36, 121, 108)"
         },
         "name": "State/UT=Chandigarh",
         "offsetgroup": "State/UT=Chandigarh",
         "orientation": "h",
         "showlegend": true,
         "text": [
          18
         ],
         "textposition": "auto",
         "type": "bar",
         "x": [
          18
         ],
         "xaxis": "x",
         "y": [
          "Chandigarh"
         ],
         "yaxis": "y"
        },
        {
         "alignmentgroup": "True",
         "hoverlabel": {
          "namelength": 0
         },
         "hovertemplate": "State/UT=%{y}<br>Confirmed=%{text}",
         "legendgroup": "State/UT=Assam",
         "marker": {
          "color": "rgb(218, 165, 27)"
         },
         "name": "State/UT=Assam",
         "offsetgroup": "State/UT=Assam",
         "orientation": "h",
         "showlegend": true,
         "text": [
          16
         ],
         "textposition": "auto",
         "type": "bar",
         "x": [
          16
         ],
         "xaxis": "x",
         "y": [
          "Assam"
         ],
         "yaxis": "y"
        },
        {
         "alignmentgroup": "True",
         "hoverlabel": {
          "namelength": 0
         },
         "hovertemplate": "State/UT=%{y}<br>Confirmed=%{text}",
         "legendgroup": "State/UT=Ladakh",
         "marker": {
          "color": "rgb(47, 138, 196)"
         },
         "name": "State/UT=Ladakh",
         "offsetgroup": "State/UT=Ladakh",
         "orientation": "h",
         "showlegend": true,
         "text": [
          14
         ],
         "textposition": "auto",
         "type": "bar",
         "x": [
          14
         ],
         "xaxis": "x",
         "y": [
          "Ladakh"
         ],
         "yaxis": "y"
        },
        {
         "alignmentgroup": "True",
         "hoverlabel": {
          "namelength": 0
         },
         "hovertemplate": "State/UT=%{y}<br>Confirmed=%{text}",
         "legendgroup": "State/UT=Andaman and Nicobar Islands",
         "marker": {
          "color": "rgb(118, 78, 159)"
         },
         "name": "State/UT=Andaman and Nicobar Islands",
         "offsetgroup": "State/UT=Andaman and Nicobar Islands",
         "orientation": "h",
         "showlegend": true,
         "text": [
          10
         ],
         "textposition": "auto",
         "type": "bar",
         "x": [
          10
         ],
         "xaxis": "x",
         "y": [
          "Andaman and Nicobar Islands"
         ],
         "yaxis": "y"
        },
        {
         "alignmentgroup": "True",
         "hoverlabel": {
          "namelength": 0
         },
         "hovertemplate": "State/UT=%{y}<br>Confirmed=%{text}",
         "legendgroup": "State/UT=Uttarakhand",
         "marker": {
          "color": "rgb(237, 100, 90)"
         },
         "name": "State/UT=Uttarakhand",
         "offsetgroup": "State/UT=Uttarakhand",
         "orientation": "h",
         "showlegend": true,
         "text": [
          10
         ],
         "textposition": "auto",
         "type": "bar",
         "x": [
          10
         ],
         "xaxis": "x",
         "y": [
          "Uttarakhand"
         ],
         "yaxis": "y"
        },
        {
         "alignmentgroup": "True",
         "hoverlabel": {
          "namelength": 0
         },
         "hovertemplate": "State/UT=%{y}<br>Confirmed=%{text}",
         "legendgroup": "State/UT=Chhattisgarh",
         "marker": {
          "color": "rgb(165, 170, 153)"
         },
         "name": "State/UT=Chhattisgarh",
         "offsetgroup": "State/UT=Chhattisgarh",
         "orientation": "h",
         "showlegend": true,
         "text": [
          9
         ],
         "textposition": "auto",
         "type": "bar",
         "x": [
          9
         ],
         "xaxis": "x",
         "y": [
          "Chhattisgarh"
         ],
         "yaxis": "y"
        },
        {
         "alignmentgroup": "True",
         "hoverlabel": {
          "namelength": 0
         },
         "hovertemplate": "State/UT=%{y}<br>Confirmed=%{text}",
         "legendgroup": "State/UT=Goa",
         "marker": {
          "color": "rgb(229, 134, 6)"
         },
         "name": "State/UT=Goa",
         "offsetgroup": "State/UT=Goa",
         "orientation": "h",
         "showlegend": true,
         "text": [
          6
         ],
         "textposition": "auto",
         "type": "bar",
         "x": [
          6
         ],
         "xaxis": "x",
         "y": [
          "Goa"
         ],
         "yaxis": "y"
        },
        {
         "alignmentgroup": "True",
         "hoverlabel": {
          "namelength": 0
         },
         "hovertemplate": "State/UT=%{y}<br>Confirmed=%{text}",
         "legendgroup": "State/UT=Himachal Pradesh",
         "marker": {
          "color": "rgb(93, 105, 177)"
         },
         "name": "State/UT=Himachal Pradesh",
         "offsetgroup": "State/UT=Himachal Pradesh",
         "orientation": "h",
         "showlegend": true,
         "text": [
          6
         ],
         "textposition": "auto",
         "type": "bar",
         "x": [
          6
         ],
         "xaxis": "x",
         "y": [
          "Himachal Pradesh"
         ],
         "yaxis": "y"
        },
        {
         "alignmentgroup": "True",
         "hoverlabel": {
          "namelength": 0
         },
         "hovertemplate": "State/UT=%{y}<br>Confirmed=%{text}",
         "legendgroup": "State/UT=Odisha",
         "marker": {
          "color": "rgb(82, 188, 163)"
         },
         "name": "State/UT=Odisha",
         "offsetgroup": "State/UT=Odisha",
         "orientation": "h",
         "showlegend": true,
         "text": [
          5
         ],
         "textposition": "auto",
         "type": "bar",
         "x": [
          5
         ],
         "xaxis": "x",
         "y": [
          "Odisha"
         ],
         "yaxis": "y"
        },
        {
         "alignmentgroup": "True",
         "hoverlabel": {
          "namelength": 0
         },
         "hovertemplate": "State/UT=%{y}<br>Confirmed=%{text}",
         "legendgroup": "State/UT=Puducherry",
         "marker": {
          "color": "rgb(153, 201, 69)"
         },
         "name": "State/UT=Puducherry",
         "offsetgroup": "State/UT=Puducherry",
         "orientation": "h",
         "showlegend": true,
         "text": [
          3
         ],
         "textposition": "auto",
         "type": "bar",
         "x": [
          3
         ],
         "xaxis": "x",
         "y": [
          "Puducherry"
         ],
         "yaxis": "y"
        },
        {
         "alignmentgroup": "True",
         "hoverlabel": {
          "namelength": 0
         },
         "hovertemplate": "State/UT=%{y}<br>Confirmed=%{text}",
         "legendgroup": "State/UT=Manipur",
         "marker": {
          "color": "rgb(204, 97, 176)"
         },
         "name": "State/UT=Manipur",
         "offsetgroup": "State/UT=Manipur",
         "orientation": "h",
         "showlegend": true,
         "text": [
          2
         ],
         "textposition": "auto",
         "type": "bar",
         "x": [
          2
         ],
         "xaxis": "x",
         "y": [
          "Manipur"
         ],
         "yaxis": "y"
        },
        {
         "alignmentgroup": "True",
         "hoverlabel": {
          "namelength": 0
         },
         "hovertemplate": "State/UT=%{y}<br>Confirmed=%{text}",
         "legendgroup": "State/UT=Jharkhand",
         "marker": {
          "color": "rgb(36, 121, 108)"
         },
         "name": "State/UT=Jharkhand",
         "offsetgroup": "State/UT=Jharkhand",
         "orientation": "h",
         "showlegend": true,
         "text": [
          2
         ],
         "textposition": "auto",
         "type": "bar",
         "x": [
          2
         ],
         "xaxis": "x",
         "y": [
          "Jharkhand"
         ],
         "yaxis": "y"
        },
        {
         "alignmentgroup": "True",
         "hoverlabel": {
          "namelength": 0
         },
         "hovertemplate": "State/UT=%{y}<br>Confirmed=%{text}",
         "legendgroup": "State/UT=Mizoram",
         "marker": {
          "color": "rgb(218, 165, 27)"
         },
         "name": "State/UT=Mizoram",
         "offsetgroup": "State/UT=Mizoram",
         "orientation": "h",
         "showlegend": true,
         "text": [
          1
         ],
         "textposition": "auto",
         "type": "bar",
         "x": [
          1
         ],
         "xaxis": "x",
         "y": [
          "Mizoram"
         ],
         "yaxis": "y"
        },
        {
         "alignmentgroup": "True",
         "hoverlabel": {
          "namelength": 0
         },
         "hovertemplate": "State/UT=%{y}<br>Confirmed=%{text}",
         "legendgroup": "State/UT=Arunachal Pradesh",
         "marker": {
          "color": "rgb(47, 138, 196)"
         },
         "name": "State/UT=Arunachal Pradesh",
         "offsetgroup": "State/UT=Arunachal Pradesh",
         "orientation": "h",
         "showlegend": true,
         "text": [
          1
         ],
         "textposition": "auto",
         "type": "bar",
         "x": [
          1
         ],
         "xaxis": "x",
         "y": [
          "Arunachal Pradesh"
         ],
         "yaxis": "y"
        }
       ],
       "layout": {
        "barmode": "relative",
        "height": 1050,
        "legend": {
         "tracegroupgap": 0
        },
        "template": {
         "data": {
          "bar": [
           {
            "error_x": {
             "color": "#2a3f5f"
            },
            "error_y": {
             "color": "#2a3f5f"
            },
            "marker": {
             "line": {
              "color": "#E5ECF6",
              "width": 0.5
             }
            },
            "type": "bar"
           }
          ],
          "barpolar": [
           {
            "marker": {
             "line": {
              "color": "#E5ECF6",
              "width": 0.5
             }
            },
            "type": "barpolar"
           }
          ],
          "carpet": [
           {
            "aaxis": {
             "endlinecolor": "#2a3f5f",
             "gridcolor": "white",
             "linecolor": "white",
             "minorgridcolor": "white",
             "startlinecolor": "#2a3f5f"
            },
            "baxis": {
             "endlinecolor": "#2a3f5f",
             "gridcolor": "white",
             "linecolor": "white",
             "minorgridcolor": "white",
             "startlinecolor": "#2a3f5f"
            },
            "type": "carpet"
           }
          ],
          "choropleth": [
           {
            "colorbar": {
             "outlinewidth": 0,
             "ticks": ""
            },
            "type": "choropleth"
           }
          ],
          "contour": [
           {
            "colorbar": {
             "outlinewidth": 0,
             "ticks": ""
            },
            "colorscale": [
             [
              0,
              "#0d0887"
             ],
             [
              0.1111111111111111,
              "#46039f"
             ],
             [
              0.2222222222222222,
              "#7201a8"
             ],
             [
              0.3333333333333333,
              "#9c179e"
             ],
             [
              0.4444444444444444,
              "#bd3786"
             ],
             [
              0.5555555555555556,
              "#d8576b"
             ],
             [
              0.6666666666666666,
              "#ed7953"
             ],
             [
              0.7777777777777778,
              "#fb9f3a"
             ],
             [
              0.8888888888888888,
              "#fdca26"
             ],
             [
              1,
              "#f0f921"
             ]
            ],
            "type": "contour"
           }
          ],
          "contourcarpet": [
           {
            "colorbar": {
             "outlinewidth": 0,
             "ticks": ""
            },
            "type": "contourcarpet"
           }
          ],
          "heatmap": [
           {
            "colorbar": {
             "outlinewidth": 0,
             "ticks": ""
            },
            "colorscale": [
             [
              0,
              "#0d0887"
             ],
             [
              0.1111111111111111,
              "#46039f"
             ],
             [
              0.2222222222222222,
              "#7201a8"
             ],
             [
              0.3333333333333333,
              "#9c179e"
             ],
             [
              0.4444444444444444,
              "#bd3786"
             ],
             [
              0.5555555555555556,
              "#d8576b"
             ],
             [
              0.6666666666666666,
              "#ed7953"
             ],
             [
              0.7777777777777778,
              "#fb9f3a"
             ],
             [
              0.8888888888888888,
              "#fdca26"
             ],
             [
              1,
              "#f0f921"
             ]
            ],
            "type": "heatmap"
           }
          ],
          "heatmapgl": [
           {
            "colorbar": {
             "outlinewidth": 0,
             "ticks": ""
            },
            "colorscale": [
             [
              0,
              "#0d0887"
             ],
             [
              0.1111111111111111,
              "#46039f"
             ],
             [
              0.2222222222222222,
              "#7201a8"
             ],
             [
              0.3333333333333333,
              "#9c179e"
             ],
             [
              0.4444444444444444,
              "#bd3786"
             ],
             [
              0.5555555555555556,
              "#d8576b"
             ],
             [
              0.6666666666666666,
              "#ed7953"
             ],
             [
              0.7777777777777778,
              "#fb9f3a"
             ],
             [
              0.8888888888888888,
              "#fdca26"
             ],
             [
              1,
              "#f0f921"
             ]
            ],
            "type": "heatmapgl"
           }
          ],
          "histogram": [
           {
            "marker": {
             "colorbar": {
              "outlinewidth": 0,
              "ticks": ""
             }
            },
            "type": "histogram"
           }
          ],
          "histogram2d": [
           {
            "colorbar": {
             "outlinewidth": 0,
             "ticks": ""
            },
            "colorscale": [
             [
              0,
              "#0d0887"
             ],
             [
              0.1111111111111111,
              "#46039f"
             ],
             [
              0.2222222222222222,
              "#7201a8"
             ],
             [
              0.3333333333333333,
              "#9c179e"
             ],
             [
              0.4444444444444444,
              "#bd3786"
             ],
             [
              0.5555555555555556,
              "#d8576b"
             ],
             [
              0.6666666666666666,
              "#ed7953"
             ],
             [
              0.7777777777777778,
              "#fb9f3a"
             ],
             [
              0.8888888888888888,
              "#fdca26"
             ],
             [
              1,
              "#f0f921"
             ]
            ],
            "type": "histogram2d"
           }
          ],
          "histogram2dcontour": [
           {
            "colorbar": {
             "outlinewidth": 0,
             "ticks": ""
            },
            "colorscale": [
             [
              0,
              "#0d0887"
             ],
             [
              0.1111111111111111,
              "#46039f"
             ],
             [
              0.2222222222222222,
              "#7201a8"
             ],
             [
              0.3333333333333333,
              "#9c179e"
             ],
             [
              0.4444444444444444,
              "#bd3786"
             ],
             [
              0.5555555555555556,
              "#d8576b"
             ],
             [
              0.6666666666666666,
              "#ed7953"
             ],
             [
              0.7777777777777778,
              "#fb9f3a"
             ],
             [
              0.8888888888888888,
              "#fdca26"
             ],
             [
              1,
              "#f0f921"
             ]
            ],
            "type": "histogram2dcontour"
           }
          ],
          "mesh3d": [
           {
            "colorbar": {
             "outlinewidth": 0,
             "ticks": ""
            },
            "type": "mesh3d"
           }
          ],
          "parcoords": [
           {
            "line": {
             "colorbar": {
              "outlinewidth": 0,
              "ticks": ""
             }
            },
            "type": "parcoords"
           }
          ],
          "pie": [
           {
            "automargin": true,
            "type": "pie"
           }
          ],
          "scatter": [
           {
            "marker": {
             "colorbar": {
              "outlinewidth": 0,
              "ticks": ""
             }
            },
            "type": "scatter"
           }
          ],
          "scatter3d": [
           {
            "line": {
             "colorbar": {
              "outlinewidth": 0,
              "ticks": ""
             }
            },
            "marker": {
             "colorbar": {
              "outlinewidth": 0,
              "ticks": ""
             }
            },
            "type": "scatter3d"
           }
          ],
          "scattercarpet": [
           {
            "marker": {
             "colorbar": {
              "outlinewidth": 0,
              "ticks": ""
             }
            },
            "type": "scattercarpet"
           }
          ],
          "scattergeo": [
           {
            "marker": {
             "colorbar": {
              "outlinewidth": 0,
              "ticks": ""
             }
            },
            "type": "scattergeo"
           }
          ],
          "scattergl": [
           {
            "marker": {
             "colorbar": {
              "outlinewidth": 0,
              "ticks": ""
             }
            },
            "type": "scattergl"
           }
          ],
          "scattermapbox": [
           {
            "marker": {
             "colorbar": {
              "outlinewidth": 0,
              "ticks": ""
             }
            },
            "type": "scattermapbox"
           }
          ],
          "scatterpolar": [
           {
            "marker": {
             "colorbar": {
              "outlinewidth": 0,
              "ticks": ""
             }
            },
            "type": "scatterpolar"
           }
          ],
          "scatterpolargl": [
           {
            "marker": {
             "colorbar": {
              "outlinewidth": 0,
              "ticks": ""
             }
            },
            "type": "scatterpolargl"
           }
          ],
          "scatterternary": [
           {
            "marker": {
             "colorbar": {
              "outlinewidth": 0,
              "ticks": ""
             }
            },
            "type": "scatterternary"
           }
          ],
          "surface": [
           {
            "colorbar": {
             "outlinewidth": 0,
             "ticks": ""
            },
            "colorscale": [
             [
              0,
              "#0d0887"
             ],
             [
              0.1111111111111111,
              "#46039f"
             ],
             [
              0.2222222222222222,
              "#7201a8"
             ],
             [
              0.3333333333333333,
              "#9c179e"
             ],
             [
              0.4444444444444444,
              "#bd3786"
             ],
             [
              0.5555555555555556,
              "#d8576b"
             ],
             [
              0.6666666666666666,
              "#ed7953"
             ],
             [
              0.7777777777777778,
              "#fb9f3a"
             ],
             [
              0.8888888888888888,
              "#fdca26"
             ],
             [
              1,
              "#f0f921"
             ]
            ],
            "type": "surface"
           }
          ],
          "table": [
           {
            "cells": {
             "fill": {
              "color": "#EBF0F8"
             },
             "line": {
              "color": "white"
             }
            },
            "header": {
             "fill": {
              "color": "#C8D4E3"
             },
             "line": {
              "color": "white"
             }
            },
            "type": "table"
           }
          ]
         },
         "layout": {
          "annotationdefaults": {
           "arrowcolor": "#2a3f5f",
           "arrowhead": 0,
           "arrowwidth": 1
          },
          "coloraxis": {
           "colorbar": {
            "outlinewidth": 0,
            "ticks": ""
           }
          },
          "colorscale": {
           "diverging": [
            [
             0,
             "#8e0152"
            ],
            [
             0.1,
             "#c51b7d"
            ],
            [
             0.2,
             "#de77ae"
            ],
            [
             0.3,
             "#f1b6da"
            ],
            [
             0.4,
             "#fde0ef"
            ],
            [
             0.5,
             "#f7f7f7"
            ],
            [
             0.6,
             "#e6f5d0"
            ],
            [
             0.7,
             "#b8e186"
            ],
            [
             0.8,
             "#7fbc41"
            ],
            [
             0.9,
             "#4d9221"
            ],
            [
             1,
             "#276419"
            ]
           ],
           "sequential": [
            [
             0,
             "#0d0887"
            ],
            [
             0.1111111111111111,
             "#46039f"
            ],
            [
             0.2222222222222222,
             "#7201a8"
            ],
            [
             0.3333333333333333,
             "#9c179e"
            ],
            [
             0.4444444444444444,
             "#bd3786"
            ],
            [
             0.5555555555555556,
             "#d8576b"
            ],
            [
             0.6666666666666666,
             "#ed7953"
            ],
            [
             0.7777777777777778,
             "#fb9f3a"
            ],
            [
             0.8888888888888888,
             "#fdca26"
            ],
            [
             1,
             "#f0f921"
            ]
           ],
           "sequentialminus": [
            [
             0,
             "#0d0887"
            ],
            [
             0.1111111111111111,
             "#46039f"
            ],
            [
             0.2222222222222222,
             "#7201a8"
            ],
            [
             0.3333333333333333,
             "#9c179e"
            ],
            [
             0.4444444444444444,
             "#bd3786"
            ],
            [
             0.5555555555555556,
             "#d8576b"
            ],
            [
             0.6666666666666666,
             "#ed7953"
            ],
            [
             0.7777777777777778,
             "#fb9f3a"
            ],
            [
             0.8888888888888888,
             "#fdca26"
            ],
            [
             1,
             "#f0f921"
            ]
           ]
          },
          "colorway": [
           "#636efa",
           "#EF553B",
           "#00cc96",
           "#ab63fa",
           "#FFA15A",
           "#19d3f3",
           "#FF6692",
           "#B6E880",
           "#FF97FF",
           "#FECB52"
          ],
          "font": {
           "color": "#2a3f5f"
          },
          "geo": {
           "bgcolor": "white",
           "lakecolor": "white",
           "landcolor": "#E5ECF6",
           "showlakes": true,
           "showland": true,
           "subunitcolor": "white"
          },
          "hoverlabel": {
           "align": "left"
          },
          "hovermode": "closest",
          "mapbox": {
           "style": "light"
          },
          "paper_bgcolor": "white",
          "plot_bgcolor": "#E5ECF6",
          "polar": {
           "angularaxis": {
            "gridcolor": "white",
            "linecolor": "white",
            "ticks": ""
           },
           "bgcolor": "#E5ECF6",
           "radialaxis": {
            "gridcolor": "white",
            "linecolor": "white",
            "ticks": ""
           }
          },
          "scene": {
           "xaxis": {
            "backgroundcolor": "#E5ECF6",
            "gridcolor": "white",
            "gridwidth": 2,
            "linecolor": "white",
            "showbackground": true,
            "ticks": "",
            "zerolinecolor": "white"
           },
           "yaxis": {
            "backgroundcolor": "#E5ECF6",
            "gridcolor": "white",
            "gridwidth": 2,
            "linecolor": "white",
            "showbackground": true,
            "ticks": "",
            "zerolinecolor": "white"
           },
           "zaxis": {
            "backgroundcolor": "#E5ECF6",
            "gridcolor": "white",
            "gridwidth": 2,
            "linecolor": "white",
            "showbackground": true,
            "ticks": "",
            "zerolinecolor": "white"
           }
          },
          "shapedefaults": {
           "line": {
            "color": "#2a3f5f"
           }
          },
          "ternary": {
           "aaxis": {
            "gridcolor": "white",
            "linecolor": "white",
            "ticks": ""
           },
           "baxis": {
            "gridcolor": "white",
            "linecolor": "white",
            "ticks": ""
           },
           "bgcolor": "#E5ECF6",
           "caxis": {
            "gridcolor": "white",
            "linecolor": "white",
            "ticks": ""
           }
          },
          "title": {
           "x": 0.05
          },
          "xaxis": {
           "automargin": true,
           "gridcolor": "white",
           "linecolor": "white",
           "ticks": "",
           "title": {
            "standoff": 15
           },
           "zerolinecolor": "white",
           "zerolinewidth": 2
          },
          "yaxis": {
           "automargin": true,
           "gridcolor": "white",
           "linecolor": "white",
           "ticks": "",
           "title": {
            "standoff": 15
           },
           "zerolinecolor": "white",
           "zerolinewidth": 2
          }
         }
        },
        "title": {
         "text": "Confirmed"
        },
        "xaxis": {
         "anchor": "y",
         "domain": [
          0,
          1
         ],
         "title": {
          "text": "Confirmed"
         }
        },
        "yaxis": {
         "anchor": "x",
         "categoryarray": [
          "Arunachal Pradesh",
          "Mizoram",
          "Jharkhand",
          "Manipur",
          "Puducherry",
          "Odisha",
          "Himachal Pradesh",
          "Goa",
          "Chhattisgarh",
          "Uttarakhand",
          "Andaman and Nicobar Islands",
          "Ladakh",
          "Assam",
          "Chandigarh",
          "Bihar",
          "Haryana",
          "Punjab",
          "West Bengal",
          "Jammu and Kashmir",
          "Gujarat",
          "Madhya Pradesh",
          "Telengana",
          "Uttar Pradesh",
          "Karnataka",
          "Andhra Pradesh",
          "Rajasthan",
          "Delhi",
          "Kerala",
          "Tamil Nadu",
          "Maharashtra"
         ],
         "categoryorder": "array",
         "domain": [
          0,
          1
         ],
         "title": {
          "text": "State/UT"
         }
        }
       }
      },
      "text/html": [
       "<div>\n",
       "        \n",
       "        \n",
       "            <div id=\"2aa7a59d-cf3b-4bcf-8020-e4b911c8b50e\" class=\"plotly-graph-div\" style=\"height:1050px; width:100%;\"></div>\n",
       "            <script type=\"text/javascript\">\n",
       "                require([\"plotly\"], function(Plotly) {\n",
       "                    window.PLOTLYENV=window.PLOTLYENV || {};\n",
       "                    \n",
       "                if (document.getElementById(\"2aa7a59d-cf3b-4bcf-8020-e4b911c8b50e\")) {\n",
       "                    Plotly.newPlot(\n",
       "                        '2aa7a59d-cf3b-4bcf-8020-e4b911c8b50e',\n",
       "                        [{\"alignmentgroup\": \"True\", \"hoverlabel\": {\"namelength\": 0}, \"hovertemplate\": \"State/UT=%{y}<br>Confirmed=%{text}\", \"legendgroup\": \"State/UT=Maharashtra\", \"marker\": {\"color\": \"rgb(229, 134, 6)\"}, \"name\": \"State/UT=Maharashtra\", \"offsetgroup\": \"State/UT=Maharashtra\", \"orientation\": \"h\", \"showlegend\": true, \"text\": [335.0], \"textposition\": \"auto\", \"type\": \"bar\", \"x\": [335], \"xaxis\": \"x\", \"y\": [\"Maharashtra\"], \"yaxis\": \"y\"}, {\"alignmentgroup\": \"True\", \"hoverlabel\": {\"namelength\": 0}, \"hovertemplate\": \"State/UT=%{y}<br>Confirmed=%{text}\", \"legendgroup\": \"State/UT=Tamil Nadu\", \"marker\": {\"color\": \"rgb(93, 105, 177)\"}, \"name\": \"State/UT=Tamil Nadu\", \"offsetgroup\": \"State/UT=Tamil Nadu\", \"orientation\": \"h\", \"showlegend\": true, \"text\": [309.0], \"textposition\": \"auto\", \"type\": \"bar\", \"x\": [309], \"xaxis\": \"x\", \"y\": [\"Tamil Nadu\"], \"yaxis\": \"y\"}, {\"alignmentgroup\": \"True\", \"hoverlabel\": {\"namelength\": 0}, \"hovertemplate\": \"State/UT=%{y}<br>Confirmed=%{text}\", \"legendgroup\": \"State/UT=Kerala\", \"marker\": {\"color\": \"rgb(82, 188, 163)\"}, \"name\": \"State/UT=Kerala\", \"offsetgroup\": \"State/UT=Kerala\", \"orientation\": \"h\", \"showlegend\": true, \"text\": [286.0], \"textposition\": \"auto\", \"type\": \"bar\", \"x\": [286], \"xaxis\": \"x\", \"y\": [\"Kerala\"], \"yaxis\": \"y\"}, {\"alignmentgroup\": \"True\", \"hoverlabel\": {\"namelength\": 0}, \"hovertemplate\": \"State/UT=%{y}<br>Confirmed=%{text}\", \"legendgroup\": \"State/UT=Delhi\", \"marker\": {\"color\": \"rgb(153, 201, 69)\"}, \"name\": \"State/UT=Delhi\", \"offsetgroup\": \"State/UT=Delhi\", \"orientation\": \"h\", \"showlegend\": true, \"text\": [219.0], \"textposition\": \"auto\", \"type\": \"bar\", \"x\": [219], \"xaxis\": \"x\", \"y\": [\"Delhi\"], \"yaxis\": \"y\"}, {\"alignmentgroup\": \"True\", \"hoverlabel\": {\"namelength\": 0}, \"hovertemplate\": \"State/UT=%{y}<br>Confirmed=%{text}\", \"legendgroup\": \"State/UT=Rajasthan\", \"marker\": {\"color\": \"rgb(204, 97, 176)\"}, \"name\": \"State/UT=Rajasthan\", \"offsetgroup\": \"State/UT=Rajasthan\", \"orientation\": \"h\", \"showlegend\": true, \"text\": [133.0], \"textposition\": \"auto\", \"type\": \"bar\", \"x\": [133], \"xaxis\": \"x\", \"y\": [\"Rajasthan\"], \"yaxis\": \"y\"}, {\"alignmentgroup\": \"True\", \"hoverlabel\": {\"namelength\": 0}, \"hovertemplate\": \"State/UT=%{y}<br>Confirmed=%{text}\", \"legendgroup\": \"State/UT=Andhra Pradesh\", \"marker\": {\"color\": \"rgb(36, 121, 108)\"}, \"name\": \"State/UT=Andhra Pradesh\", \"offsetgroup\": \"State/UT=Andhra Pradesh\", \"orientation\": \"h\", \"showlegend\": true, \"text\": [132.0], \"textposition\": \"auto\", \"type\": \"bar\", \"x\": [132], \"xaxis\": \"x\", \"y\": [\"Andhra Pradesh\"], \"yaxis\": \"y\"}, {\"alignmentgroup\": \"True\", \"hoverlabel\": {\"namelength\": 0}, \"hovertemplate\": \"State/UT=%{y}<br>Confirmed=%{text}\", \"legendgroup\": \"State/UT=Karnataka\", \"marker\": {\"color\": \"rgb(218, 165, 27)\"}, \"name\": \"State/UT=Karnataka\", \"offsetgroup\": \"State/UT=Karnataka\", \"orientation\": \"h\", \"showlegend\": true, \"text\": [124.0], \"textposition\": \"auto\", \"type\": \"bar\", \"x\": [124], \"xaxis\": \"x\", \"y\": [\"Karnataka\"], \"yaxis\": \"y\"}, {\"alignmentgroup\": \"True\", \"hoverlabel\": {\"namelength\": 0}, \"hovertemplate\": \"State/UT=%{y}<br>Confirmed=%{text}\", \"legendgroup\": \"State/UT=Uttar Pradesh\", \"marker\": {\"color\": \"rgb(47, 138, 196)\"}, \"name\": \"State/UT=Uttar Pradesh\", \"offsetgroup\": \"State/UT=Uttar Pradesh\", \"orientation\": \"h\", \"showlegend\": true, \"text\": [113.0], \"textposition\": \"auto\", \"type\": \"bar\", \"x\": [113], \"xaxis\": \"x\", \"y\": [\"Uttar Pradesh\"], \"yaxis\": \"y\"}, {\"alignmentgroup\": \"True\", \"hoverlabel\": {\"namelength\": 0}, \"hovertemplate\": \"State/UT=%{y}<br>Confirmed=%{text}\", \"legendgroup\": \"State/UT=Telengana\", \"marker\": {\"color\": \"rgb(118, 78, 159)\"}, \"name\": \"State/UT=Telengana\", \"offsetgroup\": \"State/UT=Telengana\", \"orientation\": \"h\", \"showlegend\": true, \"text\": [107.0], \"textposition\": \"auto\", \"type\": \"bar\", \"x\": [107], \"xaxis\": \"x\", \"y\": [\"Telengana\"], \"yaxis\": \"y\"}, {\"alignmentgroup\": \"True\", \"hoverlabel\": {\"namelength\": 0}, \"hovertemplate\": \"State/UT=%{y}<br>Confirmed=%{text}\", \"legendgroup\": \"State/UT=Madhya Pradesh\", \"marker\": {\"color\": \"rgb(237, 100, 90)\"}, \"name\": \"State/UT=Madhya Pradesh\", \"offsetgroup\": \"State/UT=Madhya Pradesh\", \"orientation\": \"h\", \"showlegend\": true, \"text\": [99.0], \"textposition\": \"auto\", \"type\": \"bar\", \"x\": [99], \"xaxis\": \"x\", \"y\": [\"Madhya Pradesh\"], \"yaxis\": \"y\"}, {\"alignmentgroup\": \"True\", \"hoverlabel\": {\"namelength\": 0}, \"hovertemplate\": \"State/UT=%{y}<br>Confirmed=%{text}\", \"legendgroup\": \"State/UT=Gujarat\", \"marker\": {\"color\": \"rgb(165, 170, 153)\"}, \"name\": \"State/UT=Gujarat\", \"offsetgroup\": \"State/UT=Gujarat\", \"orientation\": \"h\", \"showlegend\": true, \"text\": [87.0], \"textposition\": \"auto\", \"type\": \"bar\", \"x\": [87], \"xaxis\": \"x\", \"y\": [\"Gujarat\"], \"yaxis\": \"y\"}, {\"alignmentgroup\": \"True\", \"hoverlabel\": {\"namelength\": 0}, \"hovertemplate\": \"State/UT=%{y}<br>Confirmed=%{text}\", \"legendgroup\": \"State/UT=Jammu and Kashmir\", \"marker\": {\"color\": \"rgb(229, 134, 6)\"}, \"name\": \"State/UT=Jammu and Kashmir\", \"offsetgroup\": \"State/UT=Jammu and Kashmir\", \"orientation\": \"h\", \"showlegend\": true, \"text\": [70.0], \"textposition\": \"auto\", \"type\": \"bar\", \"x\": [70], \"xaxis\": \"x\", \"y\": [\"Jammu and Kashmir\"], \"yaxis\": \"y\"}, {\"alignmentgroup\": \"True\", \"hoverlabel\": {\"namelength\": 0}, \"hovertemplate\": \"State/UT=%{y}<br>Confirmed=%{text}\", \"legendgroup\": \"State/UT=West Bengal\", \"marker\": {\"color\": \"rgb(93, 105, 177)\"}, \"name\": \"State/UT=West Bengal\", \"offsetgroup\": \"State/UT=West Bengal\", \"orientation\": \"h\", \"showlegend\": true, \"text\": [53.0], \"textposition\": \"auto\", \"type\": \"bar\", \"x\": [53], \"xaxis\": \"x\", \"y\": [\"West Bengal\"], \"yaxis\": \"y\"}, {\"alignmentgroup\": \"True\", \"hoverlabel\": {\"namelength\": 0}, \"hovertemplate\": \"State/UT=%{y}<br>Confirmed=%{text}\", \"legendgroup\": \"State/UT=Punjab\", \"marker\": {\"color\": \"rgb(82, 188, 163)\"}, \"name\": \"State/UT=Punjab\", \"offsetgroup\": \"State/UT=Punjab\", \"orientation\": \"h\", \"showlegend\": true, \"text\": [46.0], \"textposition\": \"auto\", \"type\": \"bar\", \"x\": [46], \"xaxis\": \"x\", \"y\": [\"Punjab\"], \"yaxis\": \"y\"}, {\"alignmentgroup\": \"True\", \"hoverlabel\": {\"namelength\": 0}, \"hovertemplate\": \"State/UT=%{y}<br>Confirmed=%{text}\", \"legendgroup\": \"State/UT=Haryana\", \"marker\": {\"color\": \"rgb(153, 201, 69)\"}, \"name\": \"State/UT=Haryana\", \"offsetgroup\": \"State/UT=Haryana\", \"orientation\": \"h\", \"showlegend\": true, \"text\": [43.0], \"textposition\": \"auto\", \"type\": \"bar\", \"x\": [43], \"xaxis\": \"x\", \"y\": [\"Haryana\"], \"yaxis\": \"y\"}, {\"alignmentgroup\": \"True\", \"hoverlabel\": {\"namelength\": 0}, \"hovertemplate\": \"State/UT=%{y}<br>Confirmed=%{text}\", \"legendgroup\": \"State/UT=Bihar\", \"marker\": {\"color\": \"rgb(204, 97, 176)\"}, \"name\": \"State/UT=Bihar\", \"offsetgroup\": \"State/UT=Bihar\", \"orientation\": \"h\", \"showlegend\": true, \"text\": [24.0], \"textposition\": \"auto\", \"type\": \"bar\", \"x\": [24], \"xaxis\": \"x\", \"y\": [\"Bihar\"], \"yaxis\": \"y\"}, {\"alignmentgroup\": \"True\", \"hoverlabel\": {\"namelength\": 0}, \"hovertemplate\": \"State/UT=%{y}<br>Confirmed=%{text}\", \"legendgroup\": \"State/UT=Chandigarh\", \"marker\": {\"color\": \"rgb(36, 121, 108)\"}, \"name\": \"State/UT=Chandigarh\", \"offsetgroup\": \"State/UT=Chandigarh\", \"orientation\": \"h\", \"showlegend\": true, \"text\": [18.0], \"textposition\": \"auto\", \"type\": \"bar\", \"x\": [18], \"xaxis\": \"x\", \"y\": [\"Chandigarh\"], \"yaxis\": \"y\"}, {\"alignmentgroup\": \"True\", \"hoverlabel\": {\"namelength\": 0}, \"hovertemplate\": \"State/UT=%{y}<br>Confirmed=%{text}\", \"legendgroup\": \"State/UT=Assam\", \"marker\": {\"color\": \"rgb(218, 165, 27)\"}, \"name\": \"State/UT=Assam\", \"offsetgroup\": \"State/UT=Assam\", \"orientation\": \"h\", \"showlegend\": true, \"text\": [16.0], \"textposition\": \"auto\", \"type\": \"bar\", \"x\": [16], \"xaxis\": \"x\", \"y\": [\"Assam\"], \"yaxis\": \"y\"}, {\"alignmentgroup\": \"True\", \"hoverlabel\": {\"namelength\": 0}, \"hovertemplate\": \"State/UT=%{y}<br>Confirmed=%{text}\", \"legendgroup\": \"State/UT=Ladakh\", \"marker\": {\"color\": \"rgb(47, 138, 196)\"}, \"name\": \"State/UT=Ladakh\", \"offsetgroup\": \"State/UT=Ladakh\", \"orientation\": \"h\", \"showlegend\": true, \"text\": [14.0], \"textposition\": \"auto\", \"type\": \"bar\", \"x\": [14], \"xaxis\": \"x\", \"y\": [\"Ladakh\"], \"yaxis\": \"y\"}, {\"alignmentgroup\": \"True\", \"hoverlabel\": {\"namelength\": 0}, \"hovertemplate\": \"State/UT=%{y}<br>Confirmed=%{text}\", \"legendgroup\": \"State/UT=Andaman and Nicobar Islands\", \"marker\": {\"color\": \"rgb(118, 78, 159)\"}, \"name\": \"State/UT=Andaman and Nicobar Islands\", \"offsetgroup\": \"State/UT=Andaman and Nicobar Islands\", \"orientation\": \"h\", \"showlegend\": true, \"text\": [10.0], \"textposition\": \"auto\", \"type\": \"bar\", \"x\": [10], \"xaxis\": \"x\", \"y\": [\"Andaman and Nicobar Islands\"], \"yaxis\": \"y\"}, {\"alignmentgroup\": \"True\", \"hoverlabel\": {\"namelength\": 0}, \"hovertemplate\": \"State/UT=%{y}<br>Confirmed=%{text}\", \"legendgroup\": \"State/UT=Uttarakhand\", \"marker\": {\"color\": \"rgb(237, 100, 90)\"}, \"name\": \"State/UT=Uttarakhand\", \"offsetgroup\": \"State/UT=Uttarakhand\", \"orientation\": \"h\", \"showlegend\": true, \"text\": [10.0], \"textposition\": \"auto\", \"type\": \"bar\", \"x\": [10], \"xaxis\": \"x\", \"y\": [\"Uttarakhand\"], \"yaxis\": \"y\"}, {\"alignmentgroup\": \"True\", \"hoverlabel\": {\"namelength\": 0}, \"hovertemplate\": \"State/UT=%{y}<br>Confirmed=%{text}\", \"legendgroup\": \"State/UT=Chhattisgarh\", \"marker\": {\"color\": \"rgb(165, 170, 153)\"}, \"name\": \"State/UT=Chhattisgarh\", \"offsetgroup\": \"State/UT=Chhattisgarh\", \"orientation\": \"h\", \"showlegend\": true, \"text\": [9.0], \"textposition\": \"auto\", \"type\": \"bar\", \"x\": [9], \"xaxis\": \"x\", \"y\": [\"Chhattisgarh\"], \"yaxis\": \"y\"}, {\"alignmentgroup\": \"True\", \"hoverlabel\": {\"namelength\": 0}, \"hovertemplate\": \"State/UT=%{y}<br>Confirmed=%{text}\", \"legendgroup\": \"State/UT=Goa\", \"marker\": {\"color\": \"rgb(229, 134, 6)\"}, \"name\": \"State/UT=Goa\", \"offsetgroup\": \"State/UT=Goa\", \"orientation\": \"h\", \"showlegend\": true, \"text\": [6.0], \"textposition\": \"auto\", \"type\": \"bar\", \"x\": [6], \"xaxis\": \"x\", \"y\": [\"Goa\"], \"yaxis\": \"y\"}, {\"alignmentgroup\": \"True\", \"hoverlabel\": {\"namelength\": 0}, \"hovertemplate\": \"State/UT=%{y}<br>Confirmed=%{text}\", \"legendgroup\": \"State/UT=Himachal Pradesh\", \"marker\": {\"color\": \"rgb(93, 105, 177)\"}, \"name\": \"State/UT=Himachal Pradesh\", \"offsetgroup\": \"State/UT=Himachal Pradesh\", \"orientation\": \"h\", \"showlegend\": true, \"text\": [6.0], \"textposition\": \"auto\", \"type\": \"bar\", \"x\": [6], \"xaxis\": \"x\", \"y\": [\"Himachal Pradesh\"], \"yaxis\": \"y\"}, {\"alignmentgroup\": \"True\", \"hoverlabel\": {\"namelength\": 0}, \"hovertemplate\": \"State/UT=%{y}<br>Confirmed=%{text}\", \"legendgroup\": \"State/UT=Odisha\", \"marker\": {\"color\": \"rgb(82, 188, 163)\"}, \"name\": \"State/UT=Odisha\", \"offsetgroup\": \"State/UT=Odisha\", \"orientation\": \"h\", \"showlegend\": true, \"text\": [5.0], \"textposition\": \"auto\", \"type\": \"bar\", \"x\": [5], \"xaxis\": \"x\", \"y\": [\"Odisha\"], \"yaxis\": \"y\"}, {\"alignmentgroup\": \"True\", \"hoverlabel\": {\"namelength\": 0}, \"hovertemplate\": \"State/UT=%{y}<br>Confirmed=%{text}\", \"legendgroup\": \"State/UT=Puducherry\", \"marker\": {\"color\": \"rgb(153, 201, 69)\"}, \"name\": \"State/UT=Puducherry\", \"offsetgroup\": \"State/UT=Puducherry\", \"orientation\": \"h\", \"showlegend\": true, \"text\": [3.0], \"textposition\": \"auto\", \"type\": \"bar\", \"x\": [3], \"xaxis\": \"x\", \"y\": [\"Puducherry\"], \"yaxis\": \"y\"}, {\"alignmentgroup\": \"True\", \"hoverlabel\": {\"namelength\": 0}, \"hovertemplate\": \"State/UT=%{y}<br>Confirmed=%{text}\", \"legendgroup\": \"State/UT=Manipur\", \"marker\": {\"color\": \"rgb(204, 97, 176)\"}, \"name\": \"State/UT=Manipur\", \"offsetgroup\": \"State/UT=Manipur\", \"orientation\": \"h\", \"showlegend\": true, \"text\": [2.0], \"textposition\": \"auto\", \"type\": \"bar\", \"x\": [2], \"xaxis\": \"x\", \"y\": [\"Manipur\"], \"yaxis\": \"y\"}, {\"alignmentgroup\": \"True\", \"hoverlabel\": {\"namelength\": 0}, \"hovertemplate\": \"State/UT=%{y}<br>Confirmed=%{text}\", \"legendgroup\": \"State/UT=Jharkhand\", \"marker\": {\"color\": \"rgb(36, 121, 108)\"}, \"name\": \"State/UT=Jharkhand\", \"offsetgroup\": \"State/UT=Jharkhand\", \"orientation\": \"h\", \"showlegend\": true, \"text\": [2.0], \"textposition\": \"auto\", \"type\": \"bar\", \"x\": [2], \"xaxis\": \"x\", \"y\": [\"Jharkhand\"], \"yaxis\": \"y\"}, {\"alignmentgroup\": \"True\", \"hoverlabel\": {\"namelength\": 0}, \"hovertemplate\": \"State/UT=%{y}<br>Confirmed=%{text}\", \"legendgroup\": \"State/UT=Mizoram\", \"marker\": {\"color\": \"rgb(218, 165, 27)\"}, \"name\": \"State/UT=Mizoram\", \"offsetgroup\": \"State/UT=Mizoram\", \"orientation\": \"h\", \"showlegend\": true, \"text\": [1.0], \"textposition\": \"auto\", \"type\": \"bar\", \"x\": [1], \"xaxis\": \"x\", \"y\": [\"Mizoram\"], \"yaxis\": \"y\"}, {\"alignmentgroup\": \"True\", \"hoverlabel\": {\"namelength\": 0}, \"hovertemplate\": \"State/UT=%{y}<br>Confirmed=%{text}\", \"legendgroup\": \"State/UT=Arunachal Pradesh\", \"marker\": {\"color\": \"rgb(47, 138, 196)\"}, \"name\": \"State/UT=Arunachal Pradesh\", \"offsetgroup\": \"State/UT=Arunachal Pradesh\", \"orientation\": \"h\", \"showlegend\": true, \"text\": [1.0], \"textposition\": \"auto\", \"type\": \"bar\", \"x\": [1], \"xaxis\": \"x\", \"y\": [\"Arunachal Pradesh\"], \"yaxis\": \"y\"}],\n",
       "                        {\"barmode\": \"relative\", \"height\": 1050, \"legend\": {\"tracegroupgap\": 0}, \"template\": {\"data\": {\"bar\": [{\"error_x\": {\"color\": \"#2a3f5f\"}, \"error_y\": {\"color\": \"#2a3f5f\"}, \"marker\": {\"line\": {\"color\": \"#E5ECF6\", \"width\": 0.5}}, \"type\": \"bar\"}], \"barpolar\": [{\"marker\": {\"line\": {\"color\": \"#E5ECF6\", \"width\": 0.5}}, \"type\": \"barpolar\"}], \"carpet\": [{\"aaxis\": {\"endlinecolor\": \"#2a3f5f\", \"gridcolor\": \"white\", \"linecolor\": \"white\", \"minorgridcolor\": \"white\", \"startlinecolor\": \"#2a3f5f\"}, \"baxis\": {\"endlinecolor\": \"#2a3f5f\", \"gridcolor\": \"white\", \"linecolor\": \"white\", \"minorgridcolor\": \"white\", \"startlinecolor\": \"#2a3f5f\"}, \"type\": \"carpet\"}], \"choropleth\": [{\"colorbar\": {\"outlinewidth\": 0, \"ticks\": \"\"}, \"type\": \"choropleth\"}], \"contour\": [{\"colorbar\": {\"outlinewidth\": 0, \"ticks\": \"\"}, \"colorscale\": [[0.0, \"#0d0887\"], [0.1111111111111111, \"#46039f\"], [0.2222222222222222, \"#7201a8\"], [0.3333333333333333, \"#9c179e\"], [0.4444444444444444, \"#bd3786\"], [0.5555555555555556, \"#d8576b\"], [0.6666666666666666, \"#ed7953\"], [0.7777777777777778, \"#fb9f3a\"], [0.8888888888888888, \"#fdca26\"], [1.0, \"#f0f921\"]], \"type\": \"contour\"}], \"contourcarpet\": [{\"colorbar\": {\"outlinewidth\": 0, \"ticks\": \"\"}, \"type\": \"contourcarpet\"}], \"heatmap\": [{\"colorbar\": {\"outlinewidth\": 0, \"ticks\": \"\"}, \"colorscale\": [[0.0, \"#0d0887\"], [0.1111111111111111, \"#46039f\"], [0.2222222222222222, \"#7201a8\"], [0.3333333333333333, \"#9c179e\"], [0.4444444444444444, \"#bd3786\"], [0.5555555555555556, \"#d8576b\"], [0.6666666666666666, \"#ed7953\"], [0.7777777777777778, \"#fb9f3a\"], [0.8888888888888888, \"#fdca26\"], [1.0, \"#f0f921\"]], \"type\": \"heatmap\"}], \"heatmapgl\": [{\"colorbar\": {\"outlinewidth\": 0, \"ticks\": \"\"}, \"colorscale\": [[0.0, \"#0d0887\"], [0.1111111111111111, \"#46039f\"], [0.2222222222222222, \"#7201a8\"], [0.3333333333333333, \"#9c179e\"], [0.4444444444444444, \"#bd3786\"], [0.5555555555555556, \"#d8576b\"], [0.6666666666666666, \"#ed7953\"], [0.7777777777777778, \"#fb9f3a\"], [0.8888888888888888, \"#fdca26\"], [1.0, \"#f0f921\"]], \"type\": \"heatmapgl\"}], \"histogram\": [{\"marker\": {\"colorbar\": {\"outlinewidth\": 0, \"ticks\": \"\"}}, \"type\": \"histogram\"}], \"histogram2d\": [{\"colorbar\": {\"outlinewidth\": 0, \"ticks\": \"\"}, \"colorscale\": [[0.0, \"#0d0887\"], [0.1111111111111111, \"#46039f\"], [0.2222222222222222, \"#7201a8\"], [0.3333333333333333, \"#9c179e\"], [0.4444444444444444, \"#bd3786\"], [0.5555555555555556, \"#d8576b\"], [0.6666666666666666, \"#ed7953\"], [0.7777777777777778, \"#fb9f3a\"], [0.8888888888888888, \"#fdca26\"], [1.0, \"#f0f921\"]], \"type\": \"histogram2d\"}], \"histogram2dcontour\": [{\"colorbar\": {\"outlinewidth\": 0, \"ticks\": \"\"}, \"colorscale\": [[0.0, \"#0d0887\"], [0.1111111111111111, \"#46039f\"], [0.2222222222222222, \"#7201a8\"], [0.3333333333333333, \"#9c179e\"], [0.4444444444444444, \"#bd3786\"], [0.5555555555555556, \"#d8576b\"], [0.6666666666666666, \"#ed7953\"], [0.7777777777777778, \"#fb9f3a\"], [0.8888888888888888, \"#fdca26\"], [1.0, \"#f0f921\"]], \"type\": \"histogram2dcontour\"}], \"mesh3d\": [{\"colorbar\": {\"outlinewidth\": 0, \"ticks\": \"\"}, \"type\": \"mesh3d\"}], \"parcoords\": [{\"line\": {\"colorbar\": {\"outlinewidth\": 0, \"ticks\": \"\"}}, \"type\": \"parcoords\"}], \"pie\": [{\"automargin\": true, \"type\": \"pie\"}], \"scatter\": [{\"marker\": {\"colorbar\": {\"outlinewidth\": 0, \"ticks\": \"\"}}, \"type\": \"scatter\"}], \"scatter3d\": [{\"line\": {\"colorbar\": {\"outlinewidth\": 0, \"ticks\": \"\"}}, \"marker\": {\"colorbar\": {\"outlinewidth\": 0, \"ticks\": \"\"}}, \"type\": \"scatter3d\"}], \"scattercarpet\": [{\"marker\": {\"colorbar\": {\"outlinewidth\": 0, \"ticks\": \"\"}}, \"type\": \"scattercarpet\"}], \"scattergeo\": [{\"marker\": {\"colorbar\": {\"outlinewidth\": 0, \"ticks\": \"\"}}, \"type\": \"scattergeo\"}], \"scattergl\": [{\"marker\": {\"colorbar\": {\"outlinewidth\": 0, \"ticks\": \"\"}}, \"type\": \"scattergl\"}], \"scattermapbox\": [{\"marker\": {\"colorbar\": {\"outlinewidth\": 0, \"ticks\": \"\"}}, \"type\": \"scattermapbox\"}], \"scatterpolar\": [{\"marker\": {\"colorbar\": {\"outlinewidth\": 0, \"ticks\": \"\"}}, \"type\": \"scatterpolar\"}], \"scatterpolargl\": [{\"marker\": {\"colorbar\": {\"outlinewidth\": 0, \"ticks\": \"\"}}, \"type\": \"scatterpolargl\"}], \"scatterternary\": [{\"marker\": {\"colorbar\": {\"outlinewidth\": 0, \"ticks\": \"\"}}, \"type\": \"scatterternary\"}], \"surface\": [{\"colorbar\": {\"outlinewidth\": 0, \"ticks\": \"\"}, \"colorscale\": [[0.0, \"#0d0887\"], [0.1111111111111111, \"#46039f\"], [0.2222222222222222, \"#7201a8\"], [0.3333333333333333, \"#9c179e\"], [0.4444444444444444, \"#bd3786\"], [0.5555555555555556, \"#d8576b\"], [0.6666666666666666, \"#ed7953\"], [0.7777777777777778, \"#fb9f3a\"], [0.8888888888888888, \"#fdca26\"], [1.0, \"#f0f921\"]], \"type\": \"surface\"}], \"table\": [{\"cells\": {\"fill\": {\"color\": \"#EBF0F8\"}, \"line\": {\"color\": \"white\"}}, \"header\": {\"fill\": {\"color\": \"#C8D4E3\"}, \"line\": {\"color\": \"white\"}}, \"type\": \"table\"}]}, \"layout\": {\"annotationdefaults\": {\"arrowcolor\": \"#2a3f5f\", \"arrowhead\": 0, \"arrowwidth\": 1}, \"coloraxis\": {\"colorbar\": {\"outlinewidth\": 0, \"ticks\": \"\"}}, \"colorscale\": {\"diverging\": [[0, \"#8e0152\"], [0.1, \"#c51b7d\"], [0.2, \"#de77ae\"], [0.3, \"#f1b6da\"], [0.4, \"#fde0ef\"], [0.5, \"#f7f7f7\"], [0.6, \"#e6f5d0\"], [0.7, \"#b8e186\"], [0.8, \"#7fbc41\"], [0.9, \"#4d9221\"], [1, \"#276419\"]], \"sequential\": [[0.0, \"#0d0887\"], [0.1111111111111111, \"#46039f\"], [0.2222222222222222, \"#7201a8\"], [0.3333333333333333, \"#9c179e\"], [0.4444444444444444, \"#bd3786\"], [0.5555555555555556, \"#d8576b\"], [0.6666666666666666, \"#ed7953\"], [0.7777777777777778, \"#fb9f3a\"], [0.8888888888888888, \"#fdca26\"], [1.0, \"#f0f921\"]], \"sequentialminus\": [[0.0, \"#0d0887\"], [0.1111111111111111, \"#46039f\"], [0.2222222222222222, \"#7201a8\"], [0.3333333333333333, \"#9c179e\"], [0.4444444444444444, \"#bd3786\"], [0.5555555555555556, \"#d8576b\"], [0.6666666666666666, \"#ed7953\"], [0.7777777777777778, \"#fb9f3a\"], [0.8888888888888888, \"#fdca26\"], [1.0, \"#f0f921\"]]}, \"colorway\": [\"#636efa\", \"#EF553B\", \"#00cc96\", \"#ab63fa\", \"#FFA15A\", \"#19d3f3\", \"#FF6692\", \"#B6E880\", \"#FF97FF\", \"#FECB52\"], \"font\": {\"color\": \"#2a3f5f\"}, \"geo\": {\"bgcolor\": \"white\", \"lakecolor\": \"white\", \"landcolor\": \"#E5ECF6\", \"showlakes\": true, \"showland\": true, \"subunitcolor\": \"white\"}, \"hoverlabel\": {\"align\": \"left\"}, \"hovermode\": \"closest\", \"mapbox\": {\"style\": \"light\"}, \"paper_bgcolor\": \"white\", \"plot_bgcolor\": \"#E5ECF6\", \"polar\": {\"angularaxis\": {\"gridcolor\": \"white\", \"linecolor\": \"white\", \"ticks\": \"\"}, \"bgcolor\": \"#E5ECF6\", \"radialaxis\": {\"gridcolor\": \"white\", \"linecolor\": \"white\", \"ticks\": \"\"}}, \"scene\": {\"xaxis\": {\"backgroundcolor\": \"#E5ECF6\", \"gridcolor\": \"white\", \"gridwidth\": 2, \"linecolor\": \"white\", \"showbackground\": true, \"ticks\": \"\", \"zerolinecolor\": \"white\"}, \"yaxis\": {\"backgroundcolor\": \"#E5ECF6\", \"gridcolor\": \"white\", \"gridwidth\": 2, \"linecolor\": \"white\", \"showbackground\": true, \"ticks\": \"\", \"zerolinecolor\": \"white\"}, \"zaxis\": {\"backgroundcolor\": \"#E5ECF6\", \"gridcolor\": \"white\", \"gridwidth\": 2, \"linecolor\": \"white\", \"showbackground\": true, \"ticks\": \"\", \"zerolinecolor\": \"white\"}}, \"shapedefaults\": {\"line\": {\"color\": \"#2a3f5f\"}}, \"ternary\": {\"aaxis\": {\"gridcolor\": \"white\", \"linecolor\": \"white\", \"ticks\": \"\"}, \"baxis\": {\"gridcolor\": \"white\", \"linecolor\": \"white\", \"ticks\": \"\"}, \"bgcolor\": \"#E5ECF6\", \"caxis\": {\"gridcolor\": \"white\", \"linecolor\": \"white\", \"ticks\": \"\"}}, \"title\": {\"x\": 0.05}, \"xaxis\": {\"automargin\": true, \"gridcolor\": \"white\", \"linecolor\": \"white\", \"ticks\": \"\", \"title\": {\"standoff\": 15}, \"zerolinecolor\": \"white\", \"zerolinewidth\": 2}, \"yaxis\": {\"automargin\": true, \"gridcolor\": \"white\", \"linecolor\": \"white\", \"ticks\": \"\", \"title\": {\"standoff\": 15}, \"zerolinecolor\": \"white\", \"zerolinewidth\": 2}}}, \"title\": {\"text\": \"Confirmed\"}, \"xaxis\": {\"anchor\": \"y\", \"domain\": [0.0, 1.0], \"title\": {\"text\": \"Confirmed\"}}, \"yaxis\": {\"anchor\": \"x\", \"categoryarray\": [\"Arunachal Pradesh\", \"Mizoram\", \"Jharkhand\", \"Manipur\", \"Puducherry\", \"Odisha\", \"Himachal Pradesh\", \"Goa\", \"Chhattisgarh\", \"Uttarakhand\", \"Andaman and Nicobar Islands\", \"Ladakh\", \"Assam\", \"Chandigarh\", \"Bihar\", \"Haryana\", \"Punjab\", \"West Bengal\", \"Jammu and Kashmir\", \"Gujarat\", \"Madhya Pradesh\", \"Telengana\", \"Uttar Pradesh\", \"Karnataka\", \"Andhra Pradesh\", \"Rajasthan\", \"Delhi\", \"Kerala\", \"Tamil Nadu\", \"Maharashtra\"], \"categoryorder\": \"array\", \"domain\": [0.0, 1.0], \"title\": {\"text\": \"State/UT\"}}},\n",
       "                        {\"responsive\": true}\n",
       "                    ).then(function(){\n",
       "                            \n",
       "var gd = document.getElementById('2aa7a59d-cf3b-4bcf-8020-e4b911c8b50e');\n",
       "var x = new MutationObserver(function (mutations, observer) {{\n",
       "        var display = window.getComputedStyle(gd).display;\n",
       "        if (!display || display === 'none') {{\n",
       "            console.log([gd, 'removed!']);\n",
       "            Plotly.purge(gd);\n",
       "            observer.disconnect();\n",
       "        }}\n",
       "}});\n",
       "\n",
       "// Listen for the removal of the full notebook cells\n",
       "var notebookContainer = gd.closest('#notebook-container');\n",
       "if (notebookContainer) {{\n",
       "    x.observe(notebookContainer, {childList: true});\n",
       "}}\n",
       "\n",
       "// Listen for the clearing of the current output cell\n",
       "var outputEl = gd.closest('.output');\n",
       "if (outputEl) {{\n",
       "    x.observe(outputEl, {childList: true});\n",
       "}}\n",
       "\n",
       "                        })\n",
       "                };\n",
       "                });\n",
       "            </script>\n",
       "        </div>"
      ]
     },
     "metadata": {},
     "output_type": "display_data"
    }
   ],
   "source": [
    "temp = latest.sort_values('Confirmed', ascending=False)\n",
    "state_order = temp['State/UT']\n",
    "temp['']\n",
    "fig = px.bar(temp, \n",
    "             x=\"Confirmed\", y=\"State/UT\", color='State/UT', title='Confirmed',\n",
    "             orientation='h', text='Confirmed', height=len(temp)*35,\n",
    "             color_discrete_sequence = px.colors.qualitative.Vivid)\n",
    "fig.show()"
   ]
  },
  {
   "cell_type": "code",
   "execution_count": 14,
   "metadata": {},
   "outputs": [
    {
     "data": {
      "application/vnd.plotly.v1+json": {
       "config": {
        "plotlyServerURL": "https://plot.ly"
       },
       "data": [
        {
         "alignmentgroup": "True",
         "hoverlabel": {
          "namelength": 0
         },
         "hovertemplate": "Deaths=%{text}<br>State/UT=%{y}",
         "legendgroup": "",
         "marker": {
          "color": "#ff2e63"
         },
         "name": "",
         "offsetgroup": "",
         "orientation": "h",
         "showlegend": false,
         "text": [
          1,
          1,
          1,
          1,
          2,
          2,
          2,
          3,
          3,
          3,
          4,
          4,
          6,
          7,
          16
         ],
         "textposition": "auto",
         "type": "bar",
         "x": [
          1,
          1,
          1,
          1,
          2,
          2,
          2,
          3,
          3,
          3,
          4,
          4,
          6,
          7,
          16
         ],
         "xaxis": "x",
         "y": [
          "Andhra Pradesh",
          "Bihar",
          "Himachal Pradesh",
          "Tamil Nadu",
          "Jammu and Kashmir",
          "Kerala",
          "Uttar Pradesh",
          "Karnataka",
          "Telengana",
          "West Bengal",
          "Delhi",
          "Punjab",
          "Madhya Pradesh",
          "Gujarat",
          "Maharashtra"
         ],
         "yaxis": "y"
        },
        {
         "alignmentgroup": "True",
         "hoverlabel": {
          "namelength": 0
         },
         "hovertemplate": "Cured=%{text}<br>State/UT=%{y}",
         "legendgroup": "",
         "marker": {
          "color": "#2c786c"
         },
         "name": "",
         "offsetgroup": "",
         "orientation": "h",
         "showlegend": false,
         "text": [
          1,
          1,
          1,
          1,
          1,
          2,
          2,
          3,
          3,
          3,
          3,
          6,
          8,
          8,
          10,
          14,
          21,
          27,
          42
         ],
         "textposition": "auto",
         "type": "bar",
         "x": [
          1,
          1,
          1,
          1,
          1,
          2,
          2,
          3,
          3,
          3,
          3,
          6,
          8,
          8,
          10,
          14,
          21,
          27,
          42
         ],
         "xaxis": "x2",
         "y": [
          "Andhra Pradesh",
          "Telengana",
          "Punjab",
          "Himachal Pradesh",
          "Puducherry",
          "Chhattisgarh",
          "Uttarakhand",
          "Rajasthan",
          "Ladakh",
          "Jammu and Kashmir",
          "West Bengal",
          "Tamil Nadu",
          "Gujarat",
          "Delhi",
          "Karnataka",
          "Uttar Pradesh",
          "Haryana",
          "Kerala",
          "Maharashtra"
         ],
         "yaxis": "y2"
        }
       ],
       "layout": {
        "annotations": [
         {
          "font": {
           "size": 16
          },
          "showarrow": false,
          "text": "Deaths",
          "x": 0.2,
          "xanchor": "center",
          "xref": "paper",
          "y": 1,
          "yanchor": "bottom",
          "yref": "paper"
         },
         {
          "font": {
           "size": 16
          },
          "showarrow": false,
          "text": "Recovered",
          "x": 0.8,
          "xanchor": "center",
          "xref": "paper",
          "y": 1,
          "yanchor": "bottom",
          "yref": "paper"
         }
        ],
        "height": 800,
        "template": {
         "data": {
          "bar": [
           {
            "error_x": {
             "color": "#2a3f5f"
            },
            "error_y": {
             "color": "#2a3f5f"
            },
            "marker": {
             "line": {
              "color": "#E5ECF6",
              "width": 0.5
             }
            },
            "type": "bar"
           }
          ],
          "barpolar": [
           {
            "marker": {
             "line": {
              "color": "#E5ECF6",
              "width": 0.5
             }
            },
            "type": "barpolar"
           }
          ],
          "carpet": [
           {
            "aaxis": {
             "endlinecolor": "#2a3f5f",
             "gridcolor": "white",
             "linecolor": "white",
             "minorgridcolor": "white",
             "startlinecolor": "#2a3f5f"
            },
            "baxis": {
             "endlinecolor": "#2a3f5f",
             "gridcolor": "white",
             "linecolor": "white",
             "minorgridcolor": "white",
             "startlinecolor": "#2a3f5f"
            },
            "type": "carpet"
           }
          ],
          "choropleth": [
           {
            "colorbar": {
             "outlinewidth": 0,
             "ticks": ""
            },
            "type": "choropleth"
           }
          ],
          "contour": [
           {
            "colorbar": {
             "outlinewidth": 0,
             "ticks": ""
            },
            "colorscale": [
             [
              0,
              "#0d0887"
             ],
             [
              0.1111111111111111,
              "#46039f"
             ],
             [
              0.2222222222222222,
              "#7201a8"
             ],
             [
              0.3333333333333333,
              "#9c179e"
             ],
             [
              0.4444444444444444,
              "#bd3786"
             ],
             [
              0.5555555555555556,
              "#d8576b"
             ],
             [
              0.6666666666666666,
              "#ed7953"
             ],
             [
              0.7777777777777778,
              "#fb9f3a"
             ],
             [
              0.8888888888888888,
              "#fdca26"
             ],
             [
              1,
              "#f0f921"
             ]
            ],
            "type": "contour"
           }
          ],
          "contourcarpet": [
           {
            "colorbar": {
             "outlinewidth": 0,
             "ticks": ""
            },
            "type": "contourcarpet"
           }
          ],
          "heatmap": [
           {
            "colorbar": {
             "outlinewidth": 0,
             "ticks": ""
            },
            "colorscale": [
             [
              0,
              "#0d0887"
             ],
             [
              0.1111111111111111,
              "#46039f"
             ],
             [
              0.2222222222222222,
              "#7201a8"
             ],
             [
              0.3333333333333333,
              "#9c179e"
             ],
             [
              0.4444444444444444,
              "#bd3786"
             ],
             [
              0.5555555555555556,
              "#d8576b"
             ],
             [
              0.6666666666666666,
              "#ed7953"
             ],
             [
              0.7777777777777778,
              "#fb9f3a"
             ],
             [
              0.8888888888888888,
              "#fdca26"
             ],
             [
              1,
              "#f0f921"
             ]
            ],
            "type": "heatmap"
           }
          ],
          "heatmapgl": [
           {
            "colorbar": {
             "outlinewidth": 0,
             "ticks": ""
            },
            "colorscale": [
             [
              0,
              "#0d0887"
             ],
             [
              0.1111111111111111,
              "#46039f"
             ],
             [
              0.2222222222222222,
              "#7201a8"
             ],
             [
              0.3333333333333333,
              "#9c179e"
             ],
             [
              0.4444444444444444,
              "#bd3786"
             ],
             [
              0.5555555555555556,
              "#d8576b"
             ],
             [
              0.6666666666666666,
              "#ed7953"
             ],
             [
              0.7777777777777778,
              "#fb9f3a"
             ],
             [
              0.8888888888888888,
              "#fdca26"
             ],
             [
              1,
              "#f0f921"
             ]
            ],
            "type": "heatmapgl"
           }
          ],
          "histogram": [
           {
            "marker": {
             "colorbar": {
              "outlinewidth": 0,
              "ticks": ""
             }
            },
            "type": "histogram"
           }
          ],
          "histogram2d": [
           {
            "colorbar": {
             "outlinewidth": 0,
             "ticks": ""
            },
            "colorscale": [
             [
              0,
              "#0d0887"
             ],
             [
              0.1111111111111111,
              "#46039f"
             ],
             [
              0.2222222222222222,
              "#7201a8"
             ],
             [
              0.3333333333333333,
              "#9c179e"
             ],
             [
              0.4444444444444444,
              "#bd3786"
             ],
             [
              0.5555555555555556,
              "#d8576b"
             ],
             [
              0.6666666666666666,
              "#ed7953"
             ],
             [
              0.7777777777777778,
              "#fb9f3a"
             ],
             [
              0.8888888888888888,
              "#fdca26"
             ],
             [
              1,
              "#f0f921"
             ]
            ],
            "type": "histogram2d"
           }
          ],
          "histogram2dcontour": [
           {
            "colorbar": {
             "outlinewidth": 0,
             "ticks": ""
            },
            "colorscale": [
             [
              0,
              "#0d0887"
             ],
             [
              0.1111111111111111,
              "#46039f"
             ],
             [
              0.2222222222222222,
              "#7201a8"
             ],
             [
              0.3333333333333333,
              "#9c179e"
             ],
             [
              0.4444444444444444,
              "#bd3786"
             ],
             [
              0.5555555555555556,
              "#d8576b"
             ],
             [
              0.6666666666666666,
              "#ed7953"
             ],
             [
              0.7777777777777778,
              "#fb9f3a"
             ],
             [
              0.8888888888888888,
              "#fdca26"
             ],
             [
              1,
              "#f0f921"
             ]
            ],
            "type": "histogram2dcontour"
           }
          ],
          "mesh3d": [
           {
            "colorbar": {
             "outlinewidth": 0,
             "ticks": ""
            },
            "type": "mesh3d"
           }
          ],
          "parcoords": [
           {
            "line": {
             "colorbar": {
              "outlinewidth": 0,
              "ticks": ""
             }
            },
            "type": "parcoords"
           }
          ],
          "pie": [
           {
            "automargin": true,
            "type": "pie"
           }
          ],
          "scatter": [
           {
            "marker": {
             "colorbar": {
              "outlinewidth": 0,
              "ticks": ""
             }
            },
            "type": "scatter"
           }
          ],
          "scatter3d": [
           {
            "line": {
             "colorbar": {
              "outlinewidth": 0,
              "ticks": ""
             }
            },
            "marker": {
             "colorbar": {
              "outlinewidth": 0,
              "ticks": ""
             }
            },
            "type": "scatter3d"
           }
          ],
          "scattercarpet": [
           {
            "marker": {
             "colorbar": {
              "outlinewidth": 0,
              "ticks": ""
             }
            },
            "type": "scattercarpet"
           }
          ],
          "scattergeo": [
           {
            "marker": {
             "colorbar": {
              "outlinewidth": 0,
              "ticks": ""
             }
            },
            "type": "scattergeo"
           }
          ],
          "scattergl": [
           {
            "marker": {
             "colorbar": {
              "outlinewidth": 0,
              "ticks": ""
             }
            },
            "type": "scattergl"
           }
          ],
          "scattermapbox": [
           {
            "marker": {
             "colorbar": {
              "outlinewidth": 0,
              "ticks": ""
             }
            },
            "type": "scattermapbox"
           }
          ],
          "scatterpolar": [
           {
            "marker": {
             "colorbar": {
              "outlinewidth": 0,
              "ticks": ""
             }
            },
            "type": "scatterpolar"
           }
          ],
          "scatterpolargl": [
           {
            "marker": {
             "colorbar": {
              "outlinewidth": 0,
              "ticks": ""
             }
            },
            "type": "scatterpolargl"
           }
          ],
          "scatterternary": [
           {
            "marker": {
             "colorbar": {
              "outlinewidth": 0,
              "ticks": ""
             }
            },
            "type": "scatterternary"
           }
          ],
          "surface": [
           {
            "colorbar": {
             "outlinewidth": 0,
             "ticks": ""
            },
            "colorscale": [
             [
              0,
              "#0d0887"
             ],
             [
              0.1111111111111111,
              "#46039f"
             ],
             [
              0.2222222222222222,
              "#7201a8"
             ],
             [
              0.3333333333333333,
              "#9c179e"
             ],
             [
              0.4444444444444444,
              "#bd3786"
             ],
             [
              0.5555555555555556,
              "#d8576b"
             ],
             [
              0.6666666666666666,
              "#ed7953"
             ],
             [
              0.7777777777777778,
              "#fb9f3a"
             ],
             [
              0.8888888888888888,
              "#fdca26"
             ],
             [
              1,
              "#f0f921"
             ]
            ],
            "type": "surface"
           }
          ],
          "table": [
           {
            "cells": {
             "fill": {
              "color": "#EBF0F8"
             },
             "line": {
              "color": "white"
             }
            },
            "header": {
             "fill": {
              "color": "#C8D4E3"
             },
             "line": {
              "color": "white"
             }
            },
            "type": "table"
           }
          ]
         },
         "layout": {
          "annotationdefaults": {
           "arrowcolor": "#2a3f5f",
           "arrowhead": 0,
           "arrowwidth": 1
          },
          "coloraxis": {
           "colorbar": {
            "outlinewidth": 0,
            "ticks": ""
           }
          },
          "colorscale": {
           "diverging": [
            [
             0,
             "#8e0152"
            ],
            [
             0.1,
             "#c51b7d"
            ],
            [
             0.2,
             "#de77ae"
            ],
            [
             0.3,
             "#f1b6da"
            ],
            [
             0.4,
             "#fde0ef"
            ],
            [
             0.5,
             "#f7f7f7"
            ],
            [
             0.6,
             "#e6f5d0"
            ],
            [
             0.7,
             "#b8e186"
            ],
            [
             0.8,
             "#7fbc41"
            ],
            [
             0.9,
             "#4d9221"
            ],
            [
             1,
             "#276419"
            ]
           ],
           "sequential": [
            [
             0,
             "#0d0887"
            ],
            [
             0.1111111111111111,
             "#46039f"
            ],
            [
             0.2222222222222222,
             "#7201a8"
            ],
            [
             0.3333333333333333,
             "#9c179e"
            ],
            [
             0.4444444444444444,
             "#bd3786"
            ],
            [
             0.5555555555555556,
             "#d8576b"
            ],
            [
             0.6666666666666666,
             "#ed7953"
            ],
            [
             0.7777777777777778,
             "#fb9f3a"
            ],
            [
             0.8888888888888888,
             "#fdca26"
            ],
            [
             1,
             "#f0f921"
            ]
           ],
           "sequentialminus": [
            [
             0,
             "#0d0887"
            ],
            [
             0.1111111111111111,
             "#46039f"
            ],
            [
             0.2222222222222222,
             "#7201a8"
            ],
            [
             0.3333333333333333,
             "#9c179e"
            ],
            [
             0.4444444444444444,
             "#bd3786"
            ],
            [
             0.5555555555555556,
             "#d8576b"
            ],
            [
             0.6666666666666666,
             "#ed7953"
            ],
            [
             0.7777777777777778,
             "#fb9f3a"
            ],
            [
             0.8888888888888888,
             "#fdca26"
            ],
            [
             1,
             "#f0f921"
            ]
           ]
          },
          "colorway": [
           "#636efa",
           "#EF553B",
           "#00cc96",
           "#ab63fa",
           "#FFA15A",
           "#19d3f3",
           "#FF6692",
           "#B6E880",
           "#FF97FF",
           "#FECB52"
          ],
          "font": {
           "color": "#2a3f5f"
          },
          "geo": {
           "bgcolor": "white",
           "lakecolor": "white",
           "landcolor": "#E5ECF6",
           "showlakes": true,
           "showland": true,
           "subunitcolor": "white"
          },
          "hoverlabel": {
           "align": "left"
          },
          "hovermode": "closest",
          "mapbox": {
           "style": "light"
          },
          "paper_bgcolor": "white",
          "plot_bgcolor": "#E5ECF6",
          "polar": {
           "angularaxis": {
            "gridcolor": "white",
            "linecolor": "white",
            "ticks": ""
           },
           "bgcolor": "#E5ECF6",
           "radialaxis": {
            "gridcolor": "white",
            "linecolor": "white",
            "ticks": ""
           }
          },
          "scene": {
           "xaxis": {
            "backgroundcolor": "#E5ECF6",
            "gridcolor": "white",
            "gridwidth": 2,
            "linecolor": "white",
            "showbackground": true,
            "ticks": "",
            "zerolinecolor": "white"
           },
           "yaxis": {
            "backgroundcolor": "#E5ECF6",
            "gridcolor": "white",
            "gridwidth": 2,
            "linecolor": "white",
            "showbackground": true,
            "ticks": "",
            "zerolinecolor": "white"
           },
           "zaxis": {
            "backgroundcolor": "#E5ECF6",
            "gridcolor": "white",
            "gridwidth": 2,
            "linecolor": "white",
            "showbackground": true,
            "ticks": "",
            "zerolinecolor": "white"
           }
          },
          "shapedefaults": {
           "line": {
            "color": "#2a3f5f"
           }
          },
          "ternary": {
           "aaxis": {
            "gridcolor": "white",
            "linecolor": "white",
            "ticks": ""
           },
           "baxis": {
            "gridcolor": "white",
            "linecolor": "white",
            "ticks": ""
           },
           "bgcolor": "#E5ECF6",
           "caxis": {
            "gridcolor": "white",
            "linecolor": "white",
            "ticks": ""
           }
          },
          "title": {
           "x": 0.05
          },
          "xaxis": {
           "automargin": true,
           "gridcolor": "white",
           "linecolor": "white",
           "ticks": "",
           "title": {
            "standoff": 15
           },
           "zerolinecolor": "white",
           "zerolinewidth": 2
          },
          "yaxis": {
           "automargin": true,
           "gridcolor": "white",
           "linecolor": "white",
           "ticks": "",
           "title": {
            "standoff": 15
           },
           "zerolinecolor": "white",
           "zerolinewidth": 2
          }
         }
        },
        "xaxis": {
         "anchor": "y",
         "domain": [
          0,
          0.4
         ]
        },
        "xaxis2": {
         "anchor": "y2",
         "domain": [
          0.6000000000000001,
          1
         ]
        },
        "yaxis": {
         "anchor": "x",
         "domain": [
          0,
          1
         ]
        },
        "yaxis2": {
         "anchor": "x2",
         "domain": [
          0,
          1
         ]
        }
       }
      },
      "text/html": [
       "<div>\n",
       "        \n",
       "        \n",
       "            <div id=\"a3903640-3190-4543-a5cc-ce52d32013d1\" class=\"plotly-graph-div\" style=\"height:800px; width:100%;\"></div>\n",
       "            <script type=\"text/javascript\">\n",
       "                require([\"plotly\"], function(Plotly) {\n",
       "                    window.PLOTLYENV=window.PLOTLYENV || {};\n",
       "                    \n",
       "                if (document.getElementById(\"a3903640-3190-4543-a5cc-ce52d32013d1\")) {\n",
       "                    Plotly.newPlot(\n",
       "                        'a3903640-3190-4543-a5cc-ce52d32013d1',\n",
       "                        [{\"alignmentgroup\": \"True\", \"hoverlabel\": {\"namelength\": 0}, \"hovertemplate\": \"Deaths=%{text}<br>State/UT=%{y}\", \"legendgroup\": \"\", \"marker\": {\"color\": \"#ff2e63\"}, \"name\": \"\", \"offsetgroup\": \"\", \"orientation\": \"h\", \"showlegend\": false, \"text\": [1.0, 1.0, 1.0, 1.0, 2.0, 2.0, 2.0, 3.0, 3.0, 3.0, 4.0, 4.0, 6.0, 7.0, 16.0], \"textposition\": \"auto\", \"type\": \"bar\", \"x\": [1, 1, 1, 1, 2, 2, 2, 3, 3, 3, 4, 4, 6, 7, 16], \"xaxis\": \"x\", \"y\": [\"Andhra Pradesh\", \"Bihar\", \"Himachal Pradesh\", \"Tamil Nadu\", \"Jammu and Kashmir\", \"Kerala\", \"Uttar Pradesh\", \"Karnataka\", \"Telengana\", \"West Bengal\", \"Delhi\", \"Punjab\", \"Madhya Pradesh\", \"Gujarat\", \"Maharashtra\"], \"yaxis\": \"y\"}, {\"alignmentgroup\": \"True\", \"hoverlabel\": {\"namelength\": 0}, \"hovertemplate\": \"Cured=%{text}<br>State/UT=%{y}\", \"legendgroup\": \"\", \"marker\": {\"color\": \"#2c786c\"}, \"name\": \"\", \"offsetgroup\": \"\", \"orientation\": \"h\", \"showlegend\": false, \"text\": [1.0, 1.0, 1.0, 1.0, 1.0, 2.0, 2.0, 3.0, 3.0, 3.0, 3.0, 6.0, 8.0, 8.0, 10.0, 14.0, 21.0, 27.0, 42.0], \"textposition\": \"auto\", \"type\": \"bar\", \"x\": [1, 1, 1, 1, 1, 2, 2, 3, 3, 3, 3, 6, 8, 8, 10, 14, 21, 27, 42], \"xaxis\": \"x2\", \"y\": [\"Andhra Pradesh\", \"Telengana\", \"Punjab\", \"Himachal Pradesh\", \"Puducherry\", \"Chhattisgarh\", \"Uttarakhand\", \"Rajasthan\", \"Ladakh\", \"Jammu and Kashmir\", \"West Bengal\", \"Tamil Nadu\", \"Gujarat\", \"Delhi\", \"Karnataka\", \"Uttar Pradesh\", \"Haryana\", \"Kerala\", \"Maharashtra\"], \"yaxis\": \"y2\"}],\n",
       "                        {\"annotations\": [{\"font\": {\"size\": 16}, \"showarrow\": false, \"text\": \"Deaths\", \"x\": 0.2, \"xanchor\": \"center\", \"xref\": \"paper\", \"y\": 1.0, \"yanchor\": \"bottom\", \"yref\": \"paper\"}, {\"font\": {\"size\": 16}, \"showarrow\": false, \"text\": \"Recovered\", \"x\": 0.8, \"xanchor\": \"center\", \"xref\": \"paper\", \"y\": 1.0, \"yanchor\": \"bottom\", \"yref\": \"paper\"}], \"height\": 800, \"template\": {\"data\": {\"bar\": [{\"error_x\": {\"color\": \"#2a3f5f\"}, \"error_y\": {\"color\": \"#2a3f5f\"}, \"marker\": {\"line\": {\"color\": \"#E5ECF6\", \"width\": 0.5}}, \"type\": \"bar\"}], \"barpolar\": [{\"marker\": {\"line\": {\"color\": \"#E5ECF6\", \"width\": 0.5}}, \"type\": \"barpolar\"}], \"carpet\": [{\"aaxis\": {\"endlinecolor\": \"#2a3f5f\", \"gridcolor\": \"white\", \"linecolor\": \"white\", \"minorgridcolor\": \"white\", \"startlinecolor\": \"#2a3f5f\"}, \"baxis\": {\"endlinecolor\": \"#2a3f5f\", \"gridcolor\": \"white\", \"linecolor\": \"white\", \"minorgridcolor\": \"white\", \"startlinecolor\": \"#2a3f5f\"}, \"type\": \"carpet\"}], \"choropleth\": [{\"colorbar\": {\"outlinewidth\": 0, \"ticks\": \"\"}, \"type\": \"choropleth\"}], \"contour\": [{\"colorbar\": {\"outlinewidth\": 0, \"ticks\": \"\"}, \"colorscale\": [[0.0, \"#0d0887\"], [0.1111111111111111, \"#46039f\"], [0.2222222222222222, \"#7201a8\"], [0.3333333333333333, \"#9c179e\"], [0.4444444444444444, \"#bd3786\"], [0.5555555555555556, \"#d8576b\"], [0.6666666666666666, \"#ed7953\"], [0.7777777777777778, \"#fb9f3a\"], [0.8888888888888888, \"#fdca26\"], [1.0, \"#f0f921\"]], \"type\": \"contour\"}], \"contourcarpet\": [{\"colorbar\": {\"outlinewidth\": 0, \"ticks\": \"\"}, \"type\": \"contourcarpet\"}], \"heatmap\": [{\"colorbar\": {\"outlinewidth\": 0, \"ticks\": \"\"}, \"colorscale\": [[0.0, \"#0d0887\"], [0.1111111111111111, \"#46039f\"], [0.2222222222222222, \"#7201a8\"], [0.3333333333333333, \"#9c179e\"], [0.4444444444444444, \"#bd3786\"], [0.5555555555555556, \"#d8576b\"], [0.6666666666666666, \"#ed7953\"], [0.7777777777777778, \"#fb9f3a\"], [0.8888888888888888, \"#fdca26\"], [1.0, \"#f0f921\"]], \"type\": \"heatmap\"}], \"heatmapgl\": [{\"colorbar\": {\"outlinewidth\": 0, \"ticks\": \"\"}, \"colorscale\": [[0.0, \"#0d0887\"], [0.1111111111111111, \"#46039f\"], [0.2222222222222222, \"#7201a8\"], [0.3333333333333333, \"#9c179e\"], [0.4444444444444444, \"#bd3786\"], [0.5555555555555556, \"#d8576b\"], [0.6666666666666666, \"#ed7953\"], [0.7777777777777778, \"#fb9f3a\"], [0.8888888888888888, \"#fdca26\"], [1.0, \"#f0f921\"]], \"type\": \"heatmapgl\"}], \"histogram\": [{\"marker\": {\"colorbar\": {\"outlinewidth\": 0, \"ticks\": \"\"}}, \"type\": \"histogram\"}], \"histogram2d\": [{\"colorbar\": {\"outlinewidth\": 0, \"ticks\": \"\"}, \"colorscale\": [[0.0, \"#0d0887\"], [0.1111111111111111, \"#46039f\"], [0.2222222222222222, \"#7201a8\"], [0.3333333333333333, \"#9c179e\"], [0.4444444444444444, \"#bd3786\"], [0.5555555555555556, \"#d8576b\"], [0.6666666666666666, \"#ed7953\"], [0.7777777777777778, \"#fb9f3a\"], [0.8888888888888888, \"#fdca26\"], [1.0, \"#f0f921\"]], \"type\": \"histogram2d\"}], \"histogram2dcontour\": [{\"colorbar\": {\"outlinewidth\": 0, \"ticks\": \"\"}, \"colorscale\": [[0.0, \"#0d0887\"], [0.1111111111111111, \"#46039f\"], [0.2222222222222222, \"#7201a8\"], [0.3333333333333333, \"#9c179e\"], [0.4444444444444444, \"#bd3786\"], [0.5555555555555556, \"#d8576b\"], [0.6666666666666666, \"#ed7953\"], [0.7777777777777778, \"#fb9f3a\"], [0.8888888888888888, \"#fdca26\"], [1.0, \"#f0f921\"]], \"type\": \"histogram2dcontour\"}], \"mesh3d\": [{\"colorbar\": {\"outlinewidth\": 0, \"ticks\": \"\"}, \"type\": \"mesh3d\"}], \"parcoords\": [{\"line\": {\"colorbar\": {\"outlinewidth\": 0, \"ticks\": \"\"}}, \"type\": \"parcoords\"}], \"pie\": [{\"automargin\": true, \"type\": \"pie\"}], \"scatter\": [{\"marker\": {\"colorbar\": {\"outlinewidth\": 0, \"ticks\": \"\"}}, \"type\": \"scatter\"}], \"scatter3d\": [{\"line\": {\"colorbar\": {\"outlinewidth\": 0, \"ticks\": \"\"}}, \"marker\": {\"colorbar\": {\"outlinewidth\": 0, \"ticks\": \"\"}}, \"type\": \"scatter3d\"}], \"scattercarpet\": [{\"marker\": {\"colorbar\": {\"outlinewidth\": 0, \"ticks\": \"\"}}, \"type\": \"scattercarpet\"}], \"scattergeo\": [{\"marker\": {\"colorbar\": {\"outlinewidth\": 0, \"ticks\": \"\"}}, \"type\": \"scattergeo\"}], \"scattergl\": [{\"marker\": {\"colorbar\": {\"outlinewidth\": 0, \"ticks\": \"\"}}, \"type\": \"scattergl\"}], \"scattermapbox\": [{\"marker\": {\"colorbar\": {\"outlinewidth\": 0, \"ticks\": \"\"}}, \"type\": \"scattermapbox\"}], \"scatterpolar\": [{\"marker\": {\"colorbar\": {\"outlinewidth\": 0, \"ticks\": \"\"}}, \"type\": \"scatterpolar\"}], \"scatterpolargl\": [{\"marker\": {\"colorbar\": {\"outlinewidth\": 0, \"ticks\": \"\"}}, \"type\": \"scatterpolargl\"}], \"scatterternary\": [{\"marker\": {\"colorbar\": {\"outlinewidth\": 0, \"ticks\": \"\"}}, \"type\": \"scatterternary\"}], \"surface\": [{\"colorbar\": {\"outlinewidth\": 0, \"ticks\": \"\"}, \"colorscale\": [[0.0, \"#0d0887\"], [0.1111111111111111, \"#46039f\"], [0.2222222222222222, \"#7201a8\"], [0.3333333333333333, \"#9c179e\"], [0.4444444444444444, \"#bd3786\"], [0.5555555555555556, \"#d8576b\"], [0.6666666666666666, \"#ed7953\"], [0.7777777777777778, \"#fb9f3a\"], [0.8888888888888888, \"#fdca26\"], [1.0, \"#f0f921\"]], \"type\": \"surface\"}], \"table\": [{\"cells\": {\"fill\": {\"color\": \"#EBF0F8\"}, \"line\": {\"color\": \"white\"}}, \"header\": {\"fill\": {\"color\": \"#C8D4E3\"}, \"line\": {\"color\": \"white\"}}, \"type\": \"table\"}]}, \"layout\": {\"annotationdefaults\": {\"arrowcolor\": \"#2a3f5f\", \"arrowhead\": 0, \"arrowwidth\": 1}, \"coloraxis\": {\"colorbar\": {\"outlinewidth\": 0, \"ticks\": \"\"}}, \"colorscale\": {\"diverging\": [[0, \"#8e0152\"], [0.1, \"#c51b7d\"], [0.2, \"#de77ae\"], [0.3, \"#f1b6da\"], [0.4, \"#fde0ef\"], [0.5, \"#f7f7f7\"], [0.6, \"#e6f5d0\"], [0.7, \"#b8e186\"], [0.8, \"#7fbc41\"], [0.9, \"#4d9221\"], [1, \"#276419\"]], \"sequential\": [[0.0, \"#0d0887\"], [0.1111111111111111, \"#46039f\"], [0.2222222222222222, \"#7201a8\"], [0.3333333333333333, \"#9c179e\"], [0.4444444444444444, \"#bd3786\"], [0.5555555555555556, \"#d8576b\"], [0.6666666666666666, \"#ed7953\"], [0.7777777777777778, \"#fb9f3a\"], [0.8888888888888888, \"#fdca26\"], [1.0, \"#f0f921\"]], \"sequentialminus\": [[0.0, \"#0d0887\"], [0.1111111111111111, \"#46039f\"], [0.2222222222222222, \"#7201a8\"], [0.3333333333333333, \"#9c179e\"], [0.4444444444444444, \"#bd3786\"], [0.5555555555555556, \"#d8576b\"], [0.6666666666666666, \"#ed7953\"], [0.7777777777777778, \"#fb9f3a\"], [0.8888888888888888, \"#fdca26\"], [1.0, \"#f0f921\"]]}, \"colorway\": [\"#636efa\", \"#EF553B\", \"#00cc96\", \"#ab63fa\", \"#FFA15A\", \"#19d3f3\", \"#FF6692\", \"#B6E880\", \"#FF97FF\", \"#FECB52\"], \"font\": {\"color\": \"#2a3f5f\"}, \"geo\": {\"bgcolor\": \"white\", \"lakecolor\": \"white\", \"landcolor\": \"#E5ECF6\", \"showlakes\": true, \"showland\": true, \"subunitcolor\": \"white\"}, \"hoverlabel\": {\"align\": \"left\"}, \"hovermode\": \"closest\", \"mapbox\": {\"style\": \"light\"}, \"paper_bgcolor\": \"white\", \"plot_bgcolor\": \"#E5ECF6\", \"polar\": {\"angularaxis\": {\"gridcolor\": \"white\", \"linecolor\": \"white\", \"ticks\": \"\"}, \"bgcolor\": \"#E5ECF6\", \"radialaxis\": {\"gridcolor\": \"white\", \"linecolor\": \"white\", \"ticks\": \"\"}}, \"scene\": {\"xaxis\": {\"backgroundcolor\": \"#E5ECF6\", \"gridcolor\": \"white\", \"gridwidth\": 2, \"linecolor\": \"white\", \"showbackground\": true, \"ticks\": \"\", \"zerolinecolor\": \"white\"}, \"yaxis\": {\"backgroundcolor\": \"#E5ECF6\", \"gridcolor\": \"white\", \"gridwidth\": 2, \"linecolor\": \"white\", \"showbackground\": true, \"ticks\": \"\", \"zerolinecolor\": \"white\"}, \"zaxis\": {\"backgroundcolor\": \"#E5ECF6\", \"gridcolor\": \"white\", \"gridwidth\": 2, \"linecolor\": \"white\", \"showbackground\": true, \"ticks\": \"\", \"zerolinecolor\": \"white\"}}, \"shapedefaults\": {\"line\": {\"color\": \"#2a3f5f\"}}, \"ternary\": {\"aaxis\": {\"gridcolor\": \"white\", \"linecolor\": \"white\", \"ticks\": \"\"}, \"baxis\": {\"gridcolor\": \"white\", \"linecolor\": \"white\", \"ticks\": \"\"}, \"bgcolor\": \"#E5ECF6\", \"caxis\": {\"gridcolor\": \"white\", \"linecolor\": \"white\", \"ticks\": \"\"}}, \"title\": {\"x\": 0.05}, \"xaxis\": {\"automargin\": true, \"gridcolor\": \"white\", \"linecolor\": \"white\", \"ticks\": \"\", \"title\": {\"standoff\": 15}, \"zerolinecolor\": \"white\", \"zerolinewidth\": 2}, \"yaxis\": {\"automargin\": true, \"gridcolor\": \"white\", \"linecolor\": \"white\", \"ticks\": \"\", \"title\": {\"standoff\": 15}, \"zerolinecolor\": \"white\", \"zerolinewidth\": 2}}}, \"xaxis\": {\"anchor\": \"y\", \"domain\": [0.0, 0.4]}, \"xaxis2\": {\"anchor\": \"y2\", \"domain\": [0.6000000000000001, 1.0]}, \"yaxis\": {\"anchor\": \"x\", \"domain\": [0.0, 1.0]}, \"yaxis2\": {\"anchor\": \"x2\", \"domain\": [0.0, 1.0]}},\n",
       "                        {\"responsive\": true}\n",
       "                    ).then(function(){\n",
       "                            \n",
       "var gd = document.getElementById('a3903640-3190-4543-a5cc-ce52d32013d1');\n",
       "var x = new MutationObserver(function (mutations, observer) {{\n",
       "        var display = window.getComputedStyle(gd).display;\n",
       "        if (!display || display === 'none') {{\n",
       "            console.log([gd, 'removed!']);\n",
       "            Plotly.purge(gd);\n",
       "            observer.disconnect();\n",
       "        }}\n",
       "}});\n",
       "\n",
       "// Listen for the removal of the full notebook cells\n",
       "var notebookContainer = gd.closest('#notebook-container');\n",
       "if (notebookContainer) {{\n",
       "    x.observe(notebookContainer, {childList: true});\n",
       "}}\n",
       "\n",
       "// Listen for the clearing of the current output cell\n",
       "var outputEl = gd.closest('.output');\n",
       "if (outputEl) {{\n",
       "    x.observe(outputEl, {childList: true});\n",
       "}}\n",
       "\n",
       "                        })\n",
       "                };\n",
       "                });\n",
       "            </script>\n",
       "        </div>"
      ]
     },
     "metadata": {},
     "output_type": "display_data"
    }
   ],
   "source": [
    "temp = latest[latest['Deaths']>0].sort_values('Deaths')\n",
    "fig_d = px.bar(temp, y=\"State/UT\", x=\"Deaths\", orientation='h', title='Deaths', color_discrete_sequence = ['#ff2e63'], text='Deaths', height=len(temp)*40)\n",
    "\n",
    "temp = latest[latest['Cured']>0].sort_values('Cured')\n",
    "fig_r = px.bar(temp, y=\"State/UT\", x=\"Cured\", orientation='h', title='Cured', color_discrete_sequence = ['#2c786c'], text='Cured', height=len(temp)*40)\n",
    "\n",
    "fig = make_subplots(rows=1, cols=2, shared_xaxes=False, horizontal_spacing=0.2, subplot_titles=(\"Deaths\", \"Recovered\"))\n",
    "fig.add_trace(fig_d['data'][0], row=1, col=1)\n",
    "fig.add_trace(fig_r['data'][0], row=1, col=2)\n",
    "fig.update_layout(height=800)\n",
    "fig.show()"
   ]
  },
  {
   "cell_type": "code",
   "execution_count": 16,
   "metadata": {},
   "outputs": [
    {
     "data": {
      "application/vnd.plotly.v1+json": {
       "config": {
        "plotlyServerURL": "https://plot.ly"
       },
       "data": [
        {
         "hoverlabel": {
          "namelength": 0
         },
         "hovertemplate": "State/UT=%{text}<br>Confirmed=%{marker.size}<br>Deaths=%{y}",
         "legendgroup": "State/UT=Andhra Pradesh",
         "marker": {
          "color": "#636efa",
          "size": [
           132
          ],
          "sizemode": "area",
          "sizeref": 0.8375,
          "symbol": "circle"
         },
         "mode": "markers+text",
         "name": "State/UT=Andhra Pradesh",
         "showlegend": true,
         "text": [
          "Andhra Pradesh"
         ],
         "type": "scatter",
         "x": [
          132
         ],
         "xaxis": "x",
         "y": [
          1
         ],
         "yaxis": "y"
        },
        {
         "hoverlabel": {
          "namelength": 0
         },
         "hovertemplate": "State/UT=%{text}<br>Confirmed=%{marker.size}<br>Deaths=%{y}",
         "legendgroup": "State/UT=Assam",
         "marker": {
          "color": "#EF553B",
          "size": [
           16
          ],
          "sizemode": "area",
          "sizeref": 0.8375,
          "symbol": "circle"
         },
         "mode": "markers+text",
         "name": "State/UT=Assam",
         "showlegend": true,
         "text": [
          "Assam"
         ],
         "type": "scatter",
         "x": [
          16
         ],
         "xaxis": "x",
         "y": [
          0
         ],
         "yaxis": "y"
        },
        {
         "hoverlabel": {
          "namelength": 0
         },
         "hovertemplate": "State/UT=%{text}<br>Confirmed=%{marker.size}<br>Deaths=%{y}",
         "legendgroup": "State/UT=Bihar",
         "marker": {
          "color": "#00cc96",
          "size": [
           24
          ],
          "sizemode": "area",
          "sizeref": 0.8375,
          "symbol": "circle"
         },
         "mode": "markers+text",
         "name": "State/UT=Bihar",
         "showlegend": true,
         "text": [
          "Bihar"
         ],
         "type": "scatter",
         "x": [
          24
         ],
         "xaxis": "x",
         "y": [
          1
         ],
         "yaxis": "y"
        },
        {
         "hoverlabel": {
          "namelength": 0
         },
         "hovertemplate": "State/UT=%{text}<br>Confirmed=%{marker.size}<br>Deaths=%{y}",
         "legendgroup": "State/UT=Chandigarh",
         "marker": {
          "color": "#ab63fa",
          "size": [
           18
          ],
          "sizemode": "area",
          "sizeref": 0.8375,
          "symbol": "circle"
         },
         "mode": "markers+text",
         "name": "State/UT=Chandigarh",
         "showlegend": true,
         "text": [
          "Chandigarh"
         ],
         "type": "scatter",
         "x": [
          18
         ],
         "xaxis": "x",
         "y": [
          0
         ],
         "yaxis": "y"
        },
        {
         "hoverlabel": {
          "namelength": 0
         },
         "hovertemplate": "State/UT=%{text}<br>Confirmed=%{marker.size}<br>Deaths=%{y}",
         "legendgroup": "State/UT=Delhi",
         "marker": {
          "color": "#FFA15A",
          "size": [
           219
          ],
          "sizemode": "area",
          "sizeref": 0.8375,
          "symbol": "circle"
         },
         "mode": "markers+text",
         "name": "State/UT=Delhi",
         "showlegend": true,
         "text": [
          "Delhi"
         ],
         "type": "scatter",
         "x": [
          219
         ],
         "xaxis": "x",
         "y": [
          4
         ],
         "yaxis": "y"
        },
        {
         "hoverlabel": {
          "namelength": 0
         },
         "hovertemplate": "State/UT=%{text}<br>Confirmed=%{marker.size}<br>Deaths=%{y}",
         "legendgroup": "State/UT=Gujarat",
         "marker": {
          "color": "#19d3f3",
          "size": [
           87
          ],
          "sizemode": "area",
          "sizeref": 0.8375,
          "symbol": "circle"
         },
         "mode": "markers+text",
         "name": "State/UT=Gujarat",
         "showlegend": true,
         "text": [
          "Gujarat"
         ],
         "type": "scatter",
         "x": [
          87
         ],
         "xaxis": "x",
         "y": [
          7
         ],
         "yaxis": "y"
        },
        {
         "hoverlabel": {
          "namelength": 0
         },
         "hovertemplate": "State/UT=%{text}<br>Confirmed=%{marker.size}<br>Deaths=%{y}",
         "legendgroup": "State/UT=Haryana",
         "marker": {
          "color": "#FF6692",
          "size": [
           43
          ],
          "sizemode": "area",
          "sizeref": 0.8375,
          "symbol": "circle"
         },
         "mode": "markers+text",
         "name": "State/UT=Haryana",
         "showlegend": true,
         "text": [
          "Haryana"
         ],
         "type": "scatter",
         "x": [
          43
         ],
         "xaxis": "x",
         "y": [
          0
         ],
         "yaxis": "y"
        },
        {
         "hoverlabel": {
          "namelength": 0
         },
         "hovertemplate": "State/UT=%{text}<br>Confirmed=%{marker.size}<br>Deaths=%{y}",
         "legendgroup": "State/UT=Jammu and Kashmir",
         "marker": {
          "color": "#B6E880",
          "size": [
           70
          ],
          "sizemode": "area",
          "sizeref": 0.8375,
          "symbol": "circle"
         },
         "mode": "markers+text",
         "name": "State/UT=Jammu and Kashmir",
         "showlegend": true,
         "text": [
          "Jammu and Kashmir"
         ],
         "type": "scatter",
         "x": [
          70
         ],
         "xaxis": "x",
         "y": [
          2
         ],
         "yaxis": "y"
        },
        {
         "hoverlabel": {
          "namelength": 0
         },
         "hovertemplate": "State/UT=%{text}<br>Confirmed=%{marker.size}<br>Deaths=%{y}",
         "legendgroup": "State/UT=Karnataka",
         "marker": {
          "color": "#FF97FF",
          "size": [
           124
          ],
          "sizemode": "area",
          "sizeref": 0.8375,
          "symbol": "circle"
         },
         "mode": "markers+text",
         "name": "State/UT=Karnataka",
         "showlegend": true,
         "text": [
          "Karnataka"
         ],
         "type": "scatter",
         "x": [
          124
         ],
         "xaxis": "x",
         "y": [
          3
         ],
         "yaxis": "y"
        },
        {
         "hoverlabel": {
          "namelength": 0
         },
         "hovertemplate": "State/UT=%{text}<br>Confirmed=%{marker.size}<br>Deaths=%{y}",
         "legendgroup": "State/UT=Kerala",
         "marker": {
          "color": "#FECB52",
          "size": [
           286
          ],
          "sizemode": "area",
          "sizeref": 0.8375,
          "symbol": "circle"
         },
         "mode": "markers+text",
         "name": "State/UT=Kerala",
         "showlegend": true,
         "text": [
          "Kerala"
         ],
         "type": "scatter",
         "x": [
          286
         ],
         "xaxis": "x",
         "y": [
          2
         ],
         "yaxis": "y"
        },
        {
         "hoverlabel": {
          "namelength": 0
         },
         "hovertemplate": "State/UT=%{text}<br>Confirmed=%{marker.size}<br>Deaths=%{y}",
         "legendgroup": "State/UT=Ladakh",
         "marker": {
          "color": "#636efa",
          "size": [
           14
          ],
          "sizemode": "area",
          "sizeref": 0.8375,
          "symbol": "circle"
         },
         "mode": "markers+text",
         "name": "State/UT=Ladakh",
         "showlegend": true,
         "text": [
          "Ladakh"
         ],
         "type": "scatter",
         "x": [
          14
         ],
         "xaxis": "x",
         "y": [
          0
         ],
         "yaxis": "y"
        },
        {
         "hoverlabel": {
          "namelength": 0
         },
         "hovertemplate": "State/UT=%{text}<br>Confirmed=%{marker.size}<br>Deaths=%{y}",
         "legendgroup": "State/UT=Madhya Pradesh",
         "marker": {
          "color": "#EF553B",
          "size": [
           99
          ],
          "sizemode": "area",
          "sizeref": 0.8375,
          "symbol": "circle"
         },
         "mode": "markers+text",
         "name": "State/UT=Madhya Pradesh",
         "showlegend": true,
         "text": [
          "Madhya Pradesh"
         ],
         "type": "scatter",
         "x": [
          99
         ],
         "xaxis": "x",
         "y": [
          6
         ],
         "yaxis": "y"
        },
        {
         "hoverlabel": {
          "namelength": 0
         },
         "hovertemplate": "State/UT=%{text}<br>Confirmed=%{marker.size}<br>Deaths=%{y}",
         "legendgroup": "State/UT=Maharashtra",
         "marker": {
          "color": "#00cc96",
          "size": [
           335
          ],
          "sizemode": "area",
          "sizeref": 0.8375,
          "symbol": "circle"
         },
         "mode": "markers+text",
         "name": "State/UT=Maharashtra",
         "showlegend": true,
         "text": [
          "Maharashtra"
         ],
         "type": "scatter",
         "x": [
          335
         ],
         "xaxis": "x",
         "y": [
          16
         ],
         "yaxis": "y"
        },
        {
         "hoverlabel": {
          "namelength": 0
         },
         "hovertemplate": "State/UT=%{text}<br>Confirmed=%{marker.size}<br>Deaths=%{y}",
         "legendgroup": "State/UT=Punjab",
         "marker": {
          "color": "#ab63fa",
          "size": [
           46
          ],
          "sizemode": "area",
          "sizeref": 0.8375,
          "symbol": "circle"
         },
         "mode": "markers+text",
         "name": "State/UT=Punjab",
         "showlegend": true,
         "text": [
          "Punjab"
         ],
         "type": "scatter",
         "x": [
          46
         ],
         "xaxis": "x",
         "y": [
          4
         ],
         "yaxis": "y"
        },
        {
         "hoverlabel": {
          "namelength": 0
         },
         "hovertemplate": "State/UT=%{text}<br>Confirmed=%{marker.size}<br>Deaths=%{y}",
         "legendgroup": "State/UT=Rajasthan",
         "marker": {
          "color": "#FFA15A",
          "size": [
           133
          ],
          "sizemode": "area",
          "sizeref": 0.8375,
          "symbol": "circle"
         },
         "mode": "markers+text",
         "name": "State/UT=Rajasthan",
         "showlegend": true,
         "text": [
          "Rajasthan"
         ],
         "type": "scatter",
         "x": [
          133
         ],
         "xaxis": "x",
         "y": [
          0
         ],
         "yaxis": "y"
        },
        {
         "hoverlabel": {
          "namelength": 0
         },
         "hovertemplate": "State/UT=%{text}<br>Confirmed=%{marker.size}<br>Deaths=%{y}",
         "legendgroup": "State/UT=Tamil Nadu",
         "marker": {
          "color": "#19d3f3",
          "size": [
           309
          ],
          "sizemode": "area",
          "sizeref": 0.8375,
          "symbol": "circle"
         },
         "mode": "markers+text",
         "name": "State/UT=Tamil Nadu",
         "showlegend": true,
         "text": [
          "Tamil Nadu"
         ],
         "type": "scatter",
         "x": [
          309
         ],
         "xaxis": "x",
         "y": [
          1
         ],
         "yaxis": "y"
        },
        {
         "hoverlabel": {
          "namelength": 0
         },
         "hovertemplate": "State/UT=%{text}<br>Confirmed=%{marker.size}<br>Deaths=%{y}",
         "legendgroup": "State/UT=Telengana",
         "marker": {
          "color": "#FF6692",
          "size": [
           107
          ],
          "sizemode": "area",
          "sizeref": 0.8375,
          "symbol": "circle"
         },
         "mode": "markers+text",
         "name": "State/UT=Telengana",
         "showlegend": true,
         "text": [
          "Telengana"
         ],
         "type": "scatter",
         "x": [
          107
         ],
         "xaxis": "x",
         "y": [
          3
         ],
         "yaxis": "y"
        },
        {
         "hoverlabel": {
          "namelength": 0
         },
         "hovertemplate": "State/UT=%{text}<br>Confirmed=%{marker.size}<br>Deaths=%{y}",
         "legendgroup": "State/UT=Uttar Pradesh",
         "marker": {
          "color": "#B6E880",
          "size": [
           113
          ],
          "sizemode": "area",
          "sizeref": 0.8375,
          "symbol": "circle"
         },
         "mode": "markers+text",
         "name": "State/UT=Uttar Pradesh",
         "showlegend": true,
         "text": [
          "Uttar Pradesh"
         ],
         "type": "scatter",
         "x": [
          113
         ],
         "xaxis": "x",
         "y": [
          2
         ],
         "yaxis": "y"
        },
        {
         "hoverlabel": {
          "namelength": 0
         },
         "hovertemplate": "State/UT=%{text}<br>Confirmed=%{marker.size}<br>Deaths=%{y}",
         "legendgroup": "State/UT=West Bengal",
         "marker": {
          "color": "#FF97FF",
          "size": [
           53
          ],
          "sizemode": "area",
          "sizeref": 0.8375,
          "symbol": "circle"
         },
         "mode": "markers+text",
         "name": "State/UT=West Bengal",
         "showlegend": true,
         "text": [
          "West Bengal"
         ],
         "type": "scatter",
         "x": [
          53
         ],
         "xaxis": "x",
         "y": [
          3
         ],
         "yaxis": "y"
        }
       ],
       "layout": {
        "legend": {
         "itemsizing": "constant",
         "tracegroupgap": 0
        },
        "template": {
         "data": {
          "bar": [
           {
            "error_x": {
             "color": "#2a3f5f"
            },
            "error_y": {
             "color": "#2a3f5f"
            },
            "marker": {
             "line": {
              "color": "#E5ECF6",
              "width": 0.5
             }
            },
            "type": "bar"
           }
          ],
          "barpolar": [
           {
            "marker": {
             "line": {
              "color": "#E5ECF6",
              "width": 0.5
             }
            },
            "type": "barpolar"
           }
          ],
          "carpet": [
           {
            "aaxis": {
             "endlinecolor": "#2a3f5f",
             "gridcolor": "white",
             "linecolor": "white",
             "minorgridcolor": "white",
             "startlinecolor": "#2a3f5f"
            },
            "baxis": {
             "endlinecolor": "#2a3f5f",
             "gridcolor": "white",
             "linecolor": "white",
             "minorgridcolor": "white",
             "startlinecolor": "#2a3f5f"
            },
            "type": "carpet"
           }
          ],
          "choropleth": [
           {
            "colorbar": {
             "outlinewidth": 0,
             "ticks": ""
            },
            "type": "choropleth"
           }
          ],
          "contour": [
           {
            "colorbar": {
             "outlinewidth": 0,
             "ticks": ""
            },
            "colorscale": [
             [
              0,
              "#0d0887"
             ],
             [
              0.1111111111111111,
              "#46039f"
             ],
             [
              0.2222222222222222,
              "#7201a8"
             ],
             [
              0.3333333333333333,
              "#9c179e"
             ],
             [
              0.4444444444444444,
              "#bd3786"
             ],
             [
              0.5555555555555556,
              "#d8576b"
             ],
             [
              0.6666666666666666,
              "#ed7953"
             ],
             [
              0.7777777777777778,
              "#fb9f3a"
             ],
             [
              0.8888888888888888,
              "#fdca26"
             ],
             [
              1,
              "#f0f921"
             ]
            ],
            "type": "contour"
           }
          ],
          "contourcarpet": [
           {
            "colorbar": {
             "outlinewidth": 0,
             "ticks": ""
            },
            "type": "contourcarpet"
           }
          ],
          "heatmap": [
           {
            "colorbar": {
             "outlinewidth": 0,
             "ticks": ""
            },
            "colorscale": [
             [
              0,
              "#0d0887"
             ],
             [
              0.1111111111111111,
              "#46039f"
             ],
             [
              0.2222222222222222,
              "#7201a8"
             ],
             [
              0.3333333333333333,
              "#9c179e"
             ],
             [
              0.4444444444444444,
              "#bd3786"
             ],
             [
              0.5555555555555556,
              "#d8576b"
             ],
             [
              0.6666666666666666,
              "#ed7953"
             ],
             [
              0.7777777777777778,
              "#fb9f3a"
             ],
             [
              0.8888888888888888,
              "#fdca26"
             ],
             [
              1,
              "#f0f921"
             ]
            ],
            "type": "heatmap"
           }
          ],
          "heatmapgl": [
           {
            "colorbar": {
             "outlinewidth": 0,
             "ticks": ""
            },
            "colorscale": [
             [
              0,
              "#0d0887"
             ],
             [
              0.1111111111111111,
              "#46039f"
             ],
             [
              0.2222222222222222,
              "#7201a8"
             ],
             [
              0.3333333333333333,
              "#9c179e"
             ],
             [
              0.4444444444444444,
              "#bd3786"
             ],
             [
              0.5555555555555556,
              "#d8576b"
             ],
             [
              0.6666666666666666,
              "#ed7953"
             ],
             [
              0.7777777777777778,
              "#fb9f3a"
             ],
             [
              0.8888888888888888,
              "#fdca26"
             ],
             [
              1,
              "#f0f921"
             ]
            ],
            "type": "heatmapgl"
           }
          ],
          "histogram": [
           {
            "marker": {
             "colorbar": {
              "outlinewidth": 0,
              "ticks": ""
             }
            },
            "type": "histogram"
           }
          ],
          "histogram2d": [
           {
            "colorbar": {
             "outlinewidth": 0,
             "ticks": ""
            },
            "colorscale": [
             [
              0,
              "#0d0887"
             ],
             [
              0.1111111111111111,
              "#46039f"
             ],
             [
              0.2222222222222222,
              "#7201a8"
             ],
             [
              0.3333333333333333,
              "#9c179e"
             ],
             [
              0.4444444444444444,
              "#bd3786"
             ],
             [
              0.5555555555555556,
              "#d8576b"
             ],
             [
              0.6666666666666666,
              "#ed7953"
             ],
             [
              0.7777777777777778,
              "#fb9f3a"
             ],
             [
              0.8888888888888888,
              "#fdca26"
             ],
             [
              1,
              "#f0f921"
             ]
            ],
            "type": "histogram2d"
           }
          ],
          "histogram2dcontour": [
           {
            "colorbar": {
             "outlinewidth": 0,
             "ticks": ""
            },
            "colorscale": [
             [
              0,
              "#0d0887"
             ],
             [
              0.1111111111111111,
              "#46039f"
             ],
             [
              0.2222222222222222,
              "#7201a8"
             ],
             [
              0.3333333333333333,
              "#9c179e"
             ],
             [
              0.4444444444444444,
              "#bd3786"
             ],
             [
              0.5555555555555556,
              "#d8576b"
             ],
             [
              0.6666666666666666,
              "#ed7953"
             ],
             [
              0.7777777777777778,
              "#fb9f3a"
             ],
             [
              0.8888888888888888,
              "#fdca26"
             ],
             [
              1,
              "#f0f921"
             ]
            ],
            "type": "histogram2dcontour"
           }
          ],
          "mesh3d": [
           {
            "colorbar": {
             "outlinewidth": 0,
             "ticks": ""
            },
            "type": "mesh3d"
           }
          ],
          "parcoords": [
           {
            "line": {
             "colorbar": {
              "outlinewidth": 0,
              "ticks": ""
             }
            },
            "type": "parcoords"
           }
          ],
          "pie": [
           {
            "automargin": true,
            "type": "pie"
           }
          ],
          "scatter": [
           {
            "marker": {
             "colorbar": {
              "outlinewidth": 0,
              "ticks": ""
             }
            },
            "type": "scatter"
           }
          ],
          "scatter3d": [
           {
            "line": {
             "colorbar": {
              "outlinewidth": 0,
              "ticks": ""
             }
            },
            "marker": {
             "colorbar": {
              "outlinewidth": 0,
              "ticks": ""
             }
            },
            "type": "scatter3d"
           }
          ],
          "scattercarpet": [
           {
            "marker": {
             "colorbar": {
              "outlinewidth": 0,
              "ticks": ""
             }
            },
            "type": "scattercarpet"
           }
          ],
          "scattergeo": [
           {
            "marker": {
             "colorbar": {
              "outlinewidth": 0,
              "ticks": ""
             }
            },
            "type": "scattergeo"
           }
          ],
          "scattergl": [
           {
            "marker": {
             "colorbar": {
              "outlinewidth": 0,
              "ticks": ""
             }
            },
            "type": "scattergl"
           }
          ],
          "scattermapbox": [
           {
            "marker": {
             "colorbar": {
              "outlinewidth": 0,
              "ticks": ""
             }
            },
            "type": "scattermapbox"
           }
          ],
          "scatterpolar": [
           {
            "marker": {
             "colorbar": {
              "outlinewidth": 0,
              "ticks": ""
             }
            },
            "type": "scatterpolar"
           }
          ],
          "scatterpolargl": [
           {
            "marker": {
             "colorbar": {
              "outlinewidth": 0,
              "ticks": ""
             }
            },
            "type": "scatterpolargl"
           }
          ],
          "scatterternary": [
           {
            "marker": {
             "colorbar": {
              "outlinewidth": 0,
              "ticks": ""
             }
            },
            "type": "scatterternary"
           }
          ],
          "surface": [
           {
            "colorbar": {
             "outlinewidth": 0,
             "ticks": ""
            },
            "colorscale": [
             [
              0,
              "#0d0887"
             ],
             [
              0.1111111111111111,
              "#46039f"
             ],
             [
              0.2222222222222222,
              "#7201a8"
             ],
             [
              0.3333333333333333,
              "#9c179e"
             ],
             [
              0.4444444444444444,
              "#bd3786"
             ],
             [
              0.5555555555555556,
              "#d8576b"
             ],
             [
              0.6666666666666666,
              "#ed7953"
             ],
             [
              0.7777777777777778,
              "#fb9f3a"
             ],
             [
              0.8888888888888888,
              "#fdca26"
             ],
             [
              1,
              "#f0f921"
             ]
            ],
            "type": "surface"
           }
          ],
          "table": [
           {
            "cells": {
             "fill": {
              "color": "#EBF0F8"
             },
             "line": {
              "color": "white"
             }
            },
            "header": {
             "fill": {
              "color": "#C8D4E3"
             },
             "line": {
              "color": "white"
             }
            },
            "type": "table"
           }
          ]
         },
         "layout": {
          "annotationdefaults": {
           "arrowcolor": "#2a3f5f",
           "arrowhead": 0,
           "arrowwidth": 1
          },
          "coloraxis": {
           "colorbar": {
            "outlinewidth": 0,
            "ticks": ""
           }
          },
          "colorscale": {
           "diverging": [
            [
             0,
             "#8e0152"
            ],
            [
             0.1,
             "#c51b7d"
            ],
            [
             0.2,
             "#de77ae"
            ],
            [
             0.3,
             "#f1b6da"
            ],
            [
             0.4,
             "#fde0ef"
            ],
            [
             0.5,
             "#f7f7f7"
            ],
            [
             0.6,
             "#e6f5d0"
            ],
            [
             0.7,
             "#b8e186"
            ],
            [
             0.8,
             "#7fbc41"
            ],
            [
             0.9,
             "#4d9221"
            ],
            [
             1,
             "#276419"
            ]
           ],
           "sequential": [
            [
             0,
             "#0d0887"
            ],
            [
             0.1111111111111111,
             "#46039f"
            ],
            [
             0.2222222222222222,
             "#7201a8"
            ],
            [
             0.3333333333333333,
             "#9c179e"
            ],
            [
             0.4444444444444444,
             "#bd3786"
            ],
            [
             0.5555555555555556,
             "#d8576b"
            ],
            [
             0.6666666666666666,
             "#ed7953"
            ],
            [
             0.7777777777777778,
             "#fb9f3a"
            ],
            [
             0.8888888888888888,
             "#fdca26"
            ],
            [
             1,
             "#f0f921"
            ]
           ],
           "sequentialminus": [
            [
             0,
             "#0d0887"
            ],
            [
             0.1111111111111111,
             "#46039f"
            ],
            [
             0.2222222222222222,
             "#7201a8"
            ],
            [
             0.3333333333333333,
             "#9c179e"
            ],
            [
             0.4444444444444444,
             "#bd3786"
            ],
            [
             0.5555555555555556,
             "#d8576b"
            ],
            [
             0.6666666666666666,
             "#ed7953"
            ],
            [
             0.7777777777777778,
             "#fb9f3a"
            ],
            [
             0.8888888888888888,
             "#fdca26"
            ],
            [
             1,
             "#f0f921"
            ]
           ]
          },
          "colorway": [
           "#636efa",
           "#EF553B",
           "#00cc96",
           "#ab63fa",
           "#FFA15A",
           "#19d3f3",
           "#FF6692",
           "#B6E880",
           "#FF97FF",
           "#FECB52"
          ],
          "font": {
           "color": "#2a3f5f"
          },
          "geo": {
           "bgcolor": "white",
           "lakecolor": "white",
           "landcolor": "#E5ECF6",
           "showlakes": true,
           "showland": true,
           "subunitcolor": "white"
          },
          "hoverlabel": {
           "align": "left"
          },
          "hovermode": "closest",
          "mapbox": {
           "style": "light"
          },
          "paper_bgcolor": "white",
          "plot_bgcolor": "#E5ECF6",
          "polar": {
           "angularaxis": {
            "gridcolor": "white",
            "linecolor": "white",
            "ticks": ""
           },
           "bgcolor": "#E5ECF6",
           "radialaxis": {
            "gridcolor": "white",
            "linecolor": "white",
            "ticks": ""
           }
          },
          "scene": {
           "xaxis": {
            "backgroundcolor": "#E5ECF6",
            "gridcolor": "white",
            "gridwidth": 2,
            "linecolor": "white",
            "showbackground": true,
            "ticks": "",
            "zerolinecolor": "white"
           },
           "yaxis": {
            "backgroundcolor": "#E5ECF6",
            "gridcolor": "white",
            "gridwidth": 2,
            "linecolor": "white",
            "showbackground": true,
            "ticks": "",
            "zerolinecolor": "white"
           },
           "zaxis": {
            "backgroundcolor": "#E5ECF6",
            "gridcolor": "white",
            "gridwidth": 2,
            "linecolor": "white",
            "showbackground": true,
            "ticks": "",
            "zerolinecolor": "white"
           }
          },
          "shapedefaults": {
           "line": {
            "color": "#2a3f5f"
           }
          },
          "ternary": {
           "aaxis": {
            "gridcolor": "white",
            "linecolor": "white",
            "ticks": ""
           },
           "baxis": {
            "gridcolor": "white",
            "linecolor": "white",
            "ticks": ""
           },
           "bgcolor": "#E5ECF6",
           "caxis": {
            "gridcolor": "white",
            "linecolor": "white",
            "ticks": ""
           }
          },
          "title": {
           "x": 0.05
          },
          "xaxis": {
           "automargin": true,
           "gridcolor": "white",
           "linecolor": "white",
           "ticks": "",
           "title": {
            "standoff": 15
           },
           "zerolinecolor": "white",
           "zerolinewidth": 2
          },
          "yaxis": {
           "automargin": true,
           "gridcolor": "white",
           "linecolor": "white",
           "ticks": "",
           "title": {
            "standoff": 15
           },
           "zerolinecolor": "white",
           "zerolinewidth": 2
          }
         }
        },
        "title": {
         "text": "Confirmed vs Death"
        },
        "xaxis": {
         "anchor": "y",
         "domain": [
          0,
          1
         ],
         "title": {
          "text": "Confirmed"
         },
         "type": "log"
        },
        "yaxis": {
         "anchor": "x",
         "domain": [
          0,
          1
         ],
         "title": {
          "text": "Deaths"
         }
        }
       }
      },
      "text/html": [
       "<div>\n",
       "        \n",
       "        \n",
       "            <div id=\"17046e38-3a63-4e4a-b8d3-9102925e6028\" class=\"plotly-graph-div\" style=\"height:525px; width:100%;\"></div>\n",
       "            <script type=\"text/javascript\">\n",
       "                require([\"plotly\"], function(Plotly) {\n",
       "                    window.PLOTLYENV=window.PLOTLYENV || {};\n",
       "                    \n",
       "                if (document.getElementById(\"17046e38-3a63-4e4a-b8d3-9102925e6028\")) {\n",
       "                    Plotly.newPlot(\n",
       "                        '17046e38-3a63-4e4a-b8d3-9102925e6028',\n",
       "                        [{\"hoverlabel\": {\"namelength\": 0}, \"hovertemplate\": \"State/UT=%{text}<br>Confirmed=%{marker.size}<br>Deaths=%{y}\", \"legendgroup\": \"State/UT=Andhra Pradesh\", \"marker\": {\"color\": \"#636efa\", \"size\": [132], \"sizemode\": \"area\", \"sizeref\": 0.8375, \"symbol\": \"circle\"}, \"mode\": \"markers+text\", \"name\": \"State/UT=Andhra Pradesh\", \"showlegend\": true, \"text\": [\"Andhra Pradesh\"], \"type\": \"scatter\", \"x\": [132], \"xaxis\": \"x\", \"y\": [1], \"yaxis\": \"y\"}, {\"hoverlabel\": {\"namelength\": 0}, \"hovertemplate\": \"State/UT=%{text}<br>Confirmed=%{marker.size}<br>Deaths=%{y}\", \"legendgroup\": \"State/UT=Assam\", \"marker\": {\"color\": \"#EF553B\", \"size\": [16], \"sizemode\": \"area\", \"sizeref\": 0.8375, \"symbol\": \"circle\"}, \"mode\": \"markers+text\", \"name\": \"State/UT=Assam\", \"showlegend\": true, \"text\": [\"Assam\"], \"type\": \"scatter\", \"x\": [16], \"xaxis\": \"x\", \"y\": [0], \"yaxis\": \"y\"}, {\"hoverlabel\": {\"namelength\": 0}, \"hovertemplate\": \"State/UT=%{text}<br>Confirmed=%{marker.size}<br>Deaths=%{y}\", \"legendgroup\": \"State/UT=Bihar\", \"marker\": {\"color\": \"#00cc96\", \"size\": [24], \"sizemode\": \"area\", \"sizeref\": 0.8375, \"symbol\": \"circle\"}, \"mode\": \"markers+text\", \"name\": \"State/UT=Bihar\", \"showlegend\": true, \"text\": [\"Bihar\"], \"type\": \"scatter\", \"x\": [24], \"xaxis\": \"x\", \"y\": [1], \"yaxis\": \"y\"}, {\"hoverlabel\": {\"namelength\": 0}, \"hovertemplate\": \"State/UT=%{text}<br>Confirmed=%{marker.size}<br>Deaths=%{y}\", \"legendgroup\": \"State/UT=Chandigarh\", \"marker\": {\"color\": \"#ab63fa\", \"size\": [18], \"sizemode\": \"area\", \"sizeref\": 0.8375, \"symbol\": \"circle\"}, \"mode\": \"markers+text\", \"name\": \"State/UT=Chandigarh\", \"showlegend\": true, \"text\": [\"Chandigarh\"], \"type\": \"scatter\", \"x\": [18], \"xaxis\": \"x\", \"y\": [0], \"yaxis\": \"y\"}, {\"hoverlabel\": {\"namelength\": 0}, \"hovertemplate\": \"State/UT=%{text}<br>Confirmed=%{marker.size}<br>Deaths=%{y}\", \"legendgroup\": \"State/UT=Delhi\", \"marker\": {\"color\": \"#FFA15A\", \"size\": [219], \"sizemode\": \"area\", \"sizeref\": 0.8375, \"symbol\": \"circle\"}, \"mode\": \"markers+text\", \"name\": \"State/UT=Delhi\", \"showlegend\": true, \"text\": [\"Delhi\"], \"type\": \"scatter\", \"x\": [219], \"xaxis\": \"x\", \"y\": [4], \"yaxis\": \"y\"}, {\"hoverlabel\": {\"namelength\": 0}, \"hovertemplate\": \"State/UT=%{text}<br>Confirmed=%{marker.size}<br>Deaths=%{y}\", \"legendgroup\": \"State/UT=Gujarat\", \"marker\": {\"color\": \"#19d3f3\", \"size\": [87], \"sizemode\": \"area\", \"sizeref\": 0.8375, \"symbol\": \"circle\"}, \"mode\": \"markers+text\", \"name\": \"State/UT=Gujarat\", \"showlegend\": true, \"text\": [\"Gujarat\"], \"type\": \"scatter\", \"x\": [87], \"xaxis\": \"x\", \"y\": [7], \"yaxis\": \"y\"}, {\"hoverlabel\": {\"namelength\": 0}, \"hovertemplate\": \"State/UT=%{text}<br>Confirmed=%{marker.size}<br>Deaths=%{y}\", \"legendgroup\": \"State/UT=Haryana\", \"marker\": {\"color\": \"#FF6692\", \"size\": [43], \"sizemode\": \"area\", \"sizeref\": 0.8375, \"symbol\": \"circle\"}, \"mode\": \"markers+text\", \"name\": \"State/UT=Haryana\", \"showlegend\": true, \"text\": [\"Haryana\"], \"type\": \"scatter\", \"x\": [43], \"xaxis\": \"x\", \"y\": [0], \"yaxis\": \"y\"}, {\"hoverlabel\": {\"namelength\": 0}, \"hovertemplate\": \"State/UT=%{text}<br>Confirmed=%{marker.size}<br>Deaths=%{y}\", \"legendgroup\": \"State/UT=Jammu and Kashmir\", \"marker\": {\"color\": \"#B6E880\", \"size\": [70], \"sizemode\": \"area\", \"sizeref\": 0.8375, \"symbol\": \"circle\"}, \"mode\": \"markers+text\", \"name\": \"State/UT=Jammu and Kashmir\", \"showlegend\": true, \"text\": [\"Jammu and Kashmir\"], \"type\": \"scatter\", \"x\": [70], \"xaxis\": \"x\", \"y\": [2], \"yaxis\": \"y\"}, {\"hoverlabel\": {\"namelength\": 0}, \"hovertemplate\": \"State/UT=%{text}<br>Confirmed=%{marker.size}<br>Deaths=%{y}\", \"legendgroup\": \"State/UT=Karnataka\", \"marker\": {\"color\": \"#FF97FF\", \"size\": [124], \"sizemode\": \"area\", \"sizeref\": 0.8375, \"symbol\": \"circle\"}, \"mode\": \"markers+text\", \"name\": \"State/UT=Karnataka\", \"showlegend\": true, \"text\": [\"Karnataka\"], \"type\": \"scatter\", \"x\": [124], \"xaxis\": \"x\", \"y\": [3], \"yaxis\": \"y\"}, {\"hoverlabel\": {\"namelength\": 0}, \"hovertemplate\": \"State/UT=%{text}<br>Confirmed=%{marker.size}<br>Deaths=%{y}\", \"legendgroup\": \"State/UT=Kerala\", \"marker\": {\"color\": \"#FECB52\", \"size\": [286], \"sizemode\": \"area\", \"sizeref\": 0.8375, \"symbol\": \"circle\"}, \"mode\": \"markers+text\", \"name\": \"State/UT=Kerala\", \"showlegend\": true, \"text\": [\"Kerala\"], \"type\": \"scatter\", \"x\": [286], \"xaxis\": \"x\", \"y\": [2], \"yaxis\": \"y\"}, {\"hoverlabel\": {\"namelength\": 0}, \"hovertemplate\": \"State/UT=%{text}<br>Confirmed=%{marker.size}<br>Deaths=%{y}\", \"legendgroup\": \"State/UT=Ladakh\", \"marker\": {\"color\": \"#636efa\", \"size\": [14], \"sizemode\": \"area\", \"sizeref\": 0.8375, \"symbol\": \"circle\"}, \"mode\": \"markers+text\", \"name\": \"State/UT=Ladakh\", \"showlegend\": true, \"text\": [\"Ladakh\"], \"type\": \"scatter\", \"x\": [14], \"xaxis\": \"x\", \"y\": [0], \"yaxis\": \"y\"}, {\"hoverlabel\": {\"namelength\": 0}, \"hovertemplate\": \"State/UT=%{text}<br>Confirmed=%{marker.size}<br>Deaths=%{y}\", \"legendgroup\": \"State/UT=Madhya Pradesh\", \"marker\": {\"color\": \"#EF553B\", \"size\": [99], \"sizemode\": \"area\", \"sizeref\": 0.8375, \"symbol\": \"circle\"}, \"mode\": \"markers+text\", \"name\": \"State/UT=Madhya Pradesh\", \"showlegend\": true, \"text\": [\"Madhya Pradesh\"], \"type\": \"scatter\", \"x\": [99], \"xaxis\": \"x\", \"y\": [6], \"yaxis\": \"y\"}, {\"hoverlabel\": {\"namelength\": 0}, \"hovertemplate\": \"State/UT=%{text}<br>Confirmed=%{marker.size}<br>Deaths=%{y}\", \"legendgroup\": \"State/UT=Maharashtra\", \"marker\": {\"color\": \"#00cc96\", \"size\": [335], \"sizemode\": \"area\", \"sizeref\": 0.8375, \"symbol\": \"circle\"}, \"mode\": \"markers+text\", \"name\": \"State/UT=Maharashtra\", \"showlegend\": true, \"text\": [\"Maharashtra\"], \"type\": \"scatter\", \"x\": [335], \"xaxis\": \"x\", \"y\": [16], \"yaxis\": \"y\"}, {\"hoverlabel\": {\"namelength\": 0}, \"hovertemplate\": \"State/UT=%{text}<br>Confirmed=%{marker.size}<br>Deaths=%{y}\", \"legendgroup\": \"State/UT=Punjab\", \"marker\": {\"color\": \"#ab63fa\", \"size\": [46], \"sizemode\": \"area\", \"sizeref\": 0.8375, \"symbol\": \"circle\"}, \"mode\": \"markers+text\", \"name\": \"State/UT=Punjab\", \"showlegend\": true, \"text\": [\"Punjab\"], \"type\": \"scatter\", \"x\": [46], \"xaxis\": \"x\", \"y\": [4], \"yaxis\": \"y\"}, {\"hoverlabel\": {\"namelength\": 0}, \"hovertemplate\": \"State/UT=%{text}<br>Confirmed=%{marker.size}<br>Deaths=%{y}\", \"legendgroup\": \"State/UT=Rajasthan\", \"marker\": {\"color\": \"#FFA15A\", \"size\": [133], \"sizemode\": \"area\", \"sizeref\": 0.8375, \"symbol\": \"circle\"}, \"mode\": \"markers+text\", \"name\": \"State/UT=Rajasthan\", \"showlegend\": true, \"text\": [\"Rajasthan\"], \"type\": \"scatter\", \"x\": [133], \"xaxis\": \"x\", \"y\": [0], \"yaxis\": \"y\"}, {\"hoverlabel\": {\"namelength\": 0}, \"hovertemplate\": \"State/UT=%{text}<br>Confirmed=%{marker.size}<br>Deaths=%{y}\", \"legendgroup\": \"State/UT=Tamil Nadu\", \"marker\": {\"color\": \"#19d3f3\", \"size\": [309], \"sizemode\": \"area\", \"sizeref\": 0.8375, \"symbol\": \"circle\"}, \"mode\": \"markers+text\", \"name\": \"State/UT=Tamil Nadu\", \"showlegend\": true, \"text\": [\"Tamil Nadu\"], \"type\": \"scatter\", \"x\": [309], \"xaxis\": \"x\", \"y\": [1], \"yaxis\": \"y\"}, {\"hoverlabel\": {\"namelength\": 0}, \"hovertemplate\": \"State/UT=%{text}<br>Confirmed=%{marker.size}<br>Deaths=%{y}\", \"legendgroup\": \"State/UT=Telengana\", \"marker\": {\"color\": \"#FF6692\", \"size\": [107], \"sizemode\": \"area\", \"sizeref\": 0.8375, \"symbol\": \"circle\"}, \"mode\": \"markers+text\", \"name\": \"State/UT=Telengana\", \"showlegend\": true, \"text\": [\"Telengana\"], \"type\": \"scatter\", \"x\": [107], \"xaxis\": \"x\", \"y\": [3], \"yaxis\": \"y\"}, {\"hoverlabel\": {\"namelength\": 0}, \"hovertemplate\": \"State/UT=%{text}<br>Confirmed=%{marker.size}<br>Deaths=%{y}\", \"legendgroup\": \"State/UT=Uttar Pradesh\", \"marker\": {\"color\": \"#B6E880\", \"size\": [113], \"sizemode\": \"area\", \"sizeref\": 0.8375, \"symbol\": \"circle\"}, \"mode\": \"markers+text\", \"name\": \"State/UT=Uttar Pradesh\", \"showlegend\": true, \"text\": [\"Uttar Pradesh\"], \"type\": \"scatter\", \"x\": [113], \"xaxis\": \"x\", \"y\": [2], \"yaxis\": \"y\"}, {\"hoverlabel\": {\"namelength\": 0}, \"hovertemplate\": \"State/UT=%{text}<br>Confirmed=%{marker.size}<br>Deaths=%{y}\", \"legendgroup\": \"State/UT=West Bengal\", \"marker\": {\"color\": \"#FF97FF\", \"size\": [53], \"sizemode\": \"area\", \"sizeref\": 0.8375, \"symbol\": \"circle\"}, \"mode\": \"markers+text\", \"name\": \"State/UT=West Bengal\", \"showlegend\": true, \"text\": [\"West Bengal\"], \"type\": \"scatter\", \"x\": [53], \"xaxis\": \"x\", \"y\": [3], \"yaxis\": \"y\"}],\n",
       "                        {\"legend\": {\"itemsizing\": \"constant\", \"tracegroupgap\": 0}, \"template\": {\"data\": {\"bar\": [{\"error_x\": {\"color\": \"#2a3f5f\"}, \"error_y\": {\"color\": \"#2a3f5f\"}, \"marker\": {\"line\": {\"color\": \"#E5ECF6\", \"width\": 0.5}}, \"type\": \"bar\"}], \"barpolar\": [{\"marker\": {\"line\": {\"color\": \"#E5ECF6\", \"width\": 0.5}}, \"type\": \"barpolar\"}], \"carpet\": [{\"aaxis\": {\"endlinecolor\": \"#2a3f5f\", \"gridcolor\": \"white\", \"linecolor\": \"white\", \"minorgridcolor\": \"white\", \"startlinecolor\": \"#2a3f5f\"}, \"baxis\": {\"endlinecolor\": \"#2a3f5f\", \"gridcolor\": \"white\", \"linecolor\": \"white\", \"minorgridcolor\": \"white\", \"startlinecolor\": \"#2a3f5f\"}, \"type\": \"carpet\"}], \"choropleth\": [{\"colorbar\": {\"outlinewidth\": 0, \"ticks\": \"\"}, \"type\": \"choropleth\"}], \"contour\": [{\"colorbar\": {\"outlinewidth\": 0, \"ticks\": \"\"}, \"colorscale\": [[0.0, \"#0d0887\"], [0.1111111111111111, \"#46039f\"], [0.2222222222222222, \"#7201a8\"], [0.3333333333333333, \"#9c179e\"], [0.4444444444444444, \"#bd3786\"], [0.5555555555555556, \"#d8576b\"], [0.6666666666666666, \"#ed7953\"], [0.7777777777777778, \"#fb9f3a\"], [0.8888888888888888, \"#fdca26\"], [1.0, \"#f0f921\"]], \"type\": \"contour\"}], \"contourcarpet\": [{\"colorbar\": {\"outlinewidth\": 0, \"ticks\": \"\"}, \"type\": \"contourcarpet\"}], \"heatmap\": [{\"colorbar\": {\"outlinewidth\": 0, \"ticks\": \"\"}, \"colorscale\": [[0.0, \"#0d0887\"], [0.1111111111111111, \"#46039f\"], [0.2222222222222222, \"#7201a8\"], [0.3333333333333333, \"#9c179e\"], [0.4444444444444444, \"#bd3786\"], [0.5555555555555556, \"#d8576b\"], [0.6666666666666666, \"#ed7953\"], [0.7777777777777778, \"#fb9f3a\"], [0.8888888888888888, \"#fdca26\"], [1.0, \"#f0f921\"]], \"type\": \"heatmap\"}], \"heatmapgl\": [{\"colorbar\": {\"outlinewidth\": 0, \"ticks\": \"\"}, \"colorscale\": [[0.0, \"#0d0887\"], [0.1111111111111111, \"#46039f\"], [0.2222222222222222, \"#7201a8\"], [0.3333333333333333, \"#9c179e\"], [0.4444444444444444, \"#bd3786\"], [0.5555555555555556, \"#d8576b\"], [0.6666666666666666, \"#ed7953\"], [0.7777777777777778, \"#fb9f3a\"], [0.8888888888888888, \"#fdca26\"], [1.0, \"#f0f921\"]], \"type\": \"heatmapgl\"}], \"histogram\": [{\"marker\": {\"colorbar\": {\"outlinewidth\": 0, \"ticks\": \"\"}}, \"type\": \"histogram\"}], \"histogram2d\": [{\"colorbar\": {\"outlinewidth\": 0, \"ticks\": \"\"}, \"colorscale\": [[0.0, \"#0d0887\"], [0.1111111111111111, \"#46039f\"], [0.2222222222222222, \"#7201a8\"], [0.3333333333333333, \"#9c179e\"], [0.4444444444444444, \"#bd3786\"], [0.5555555555555556, \"#d8576b\"], [0.6666666666666666, \"#ed7953\"], [0.7777777777777778, \"#fb9f3a\"], [0.8888888888888888, \"#fdca26\"], [1.0, \"#f0f921\"]], \"type\": \"histogram2d\"}], \"histogram2dcontour\": [{\"colorbar\": {\"outlinewidth\": 0, \"ticks\": \"\"}, \"colorscale\": [[0.0, \"#0d0887\"], [0.1111111111111111, \"#46039f\"], [0.2222222222222222, \"#7201a8\"], [0.3333333333333333, \"#9c179e\"], [0.4444444444444444, \"#bd3786\"], [0.5555555555555556, \"#d8576b\"], [0.6666666666666666, \"#ed7953\"], [0.7777777777777778, \"#fb9f3a\"], [0.8888888888888888, \"#fdca26\"], [1.0, \"#f0f921\"]], \"type\": \"histogram2dcontour\"}], \"mesh3d\": [{\"colorbar\": {\"outlinewidth\": 0, \"ticks\": \"\"}, \"type\": \"mesh3d\"}], \"parcoords\": [{\"line\": {\"colorbar\": {\"outlinewidth\": 0, \"ticks\": \"\"}}, \"type\": \"parcoords\"}], \"pie\": [{\"automargin\": true, \"type\": \"pie\"}], \"scatter\": [{\"marker\": {\"colorbar\": {\"outlinewidth\": 0, \"ticks\": \"\"}}, \"type\": \"scatter\"}], \"scatter3d\": [{\"line\": {\"colorbar\": {\"outlinewidth\": 0, \"ticks\": \"\"}}, \"marker\": {\"colorbar\": {\"outlinewidth\": 0, \"ticks\": \"\"}}, \"type\": \"scatter3d\"}], \"scattercarpet\": [{\"marker\": {\"colorbar\": {\"outlinewidth\": 0, \"ticks\": \"\"}}, \"type\": \"scattercarpet\"}], \"scattergeo\": [{\"marker\": {\"colorbar\": {\"outlinewidth\": 0, \"ticks\": \"\"}}, \"type\": \"scattergeo\"}], \"scattergl\": [{\"marker\": {\"colorbar\": {\"outlinewidth\": 0, \"ticks\": \"\"}}, \"type\": \"scattergl\"}], \"scattermapbox\": [{\"marker\": {\"colorbar\": {\"outlinewidth\": 0, \"ticks\": \"\"}}, \"type\": \"scattermapbox\"}], \"scatterpolar\": [{\"marker\": {\"colorbar\": {\"outlinewidth\": 0, \"ticks\": \"\"}}, \"type\": \"scatterpolar\"}], \"scatterpolargl\": [{\"marker\": {\"colorbar\": {\"outlinewidth\": 0, \"ticks\": \"\"}}, \"type\": \"scatterpolargl\"}], \"scatterternary\": [{\"marker\": {\"colorbar\": {\"outlinewidth\": 0, \"ticks\": \"\"}}, \"type\": \"scatterternary\"}], \"surface\": [{\"colorbar\": {\"outlinewidth\": 0, \"ticks\": \"\"}, \"colorscale\": [[0.0, \"#0d0887\"], [0.1111111111111111, \"#46039f\"], [0.2222222222222222, \"#7201a8\"], [0.3333333333333333, \"#9c179e\"], [0.4444444444444444, \"#bd3786\"], [0.5555555555555556, \"#d8576b\"], [0.6666666666666666, \"#ed7953\"], [0.7777777777777778, \"#fb9f3a\"], [0.8888888888888888, \"#fdca26\"], [1.0, \"#f0f921\"]], \"type\": \"surface\"}], \"table\": [{\"cells\": {\"fill\": {\"color\": \"#EBF0F8\"}, \"line\": {\"color\": \"white\"}}, \"header\": {\"fill\": {\"color\": \"#C8D4E3\"}, \"line\": {\"color\": \"white\"}}, \"type\": \"table\"}]}, \"layout\": {\"annotationdefaults\": {\"arrowcolor\": \"#2a3f5f\", \"arrowhead\": 0, \"arrowwidth\": 1}, \"coloraxis\": {\"colorbar\": {\"outlinewidth\": 0, \"ticks\": \"\"}}, \"colorscale\": {\"diverging\": [[0, \"#8e0152\"], [0.1, \"#c51b7d\"], [0.2, \"#de77ae\"], [0.3, \"#f1b6da\"], [0.4, \"#fde0ef\"], [0.5, \"#f7f7f7\"], [0.6, \"#e6f5d0\"], [0.7, \"#b8e186\"], [0.8, \"#7fbc41\"], [0.9, \"#4d9221\"], [1, \"#276419\"]], \"sequential\": [[0.0, \"#0d0887\"], [0.1111111111111111, \"#46039f\"], [0.2222222222222222, \"#7201a8\"], [0.3333333333333333, \"#9c179e\"], [0.4444444444444444, \"#bd3786\"], [0.5555555555555556, \"#d8576b\"], [0.6666666666666666, \"#ed7953\"], [0.7777777777777778, \"#fb9f3a\"], [0.8888888888888888, \"#fdca26\"], [1.0, \"#f0f921\"]], \"sequentialminus\": [[0.0, \"#0d0887\"], [0.1111111111111111, \"#46039f\"], [0.2222222222222222, \"#7201a8\"], [0.3333333333333333, \"#9c179e\"], [0.4444444444444444, \"#bd3786\"], [0.5555555555555556, \"#d8576b\"], [0.6666666666666666, \"#ed7953\"], [0.7777777777777778, \"#fb9f3a\"], [0.8888888888888888, \"#fdca26\"], [1.0, \"#f0f921\"]]}, \"colorway\": [\"#636efa\", \"#EF553B\", \"#00cc96\", \"#ab63fa\", \"#FFA15A\", \"#19d3f3\", \"#FF6692\", \"#B6E880\", \"#FF97FF\", \"#FECB52\"], \"font\": {\"color\": \"#2a3f5f\"}, \"geo\": {\"bgcolor\": \"white\", \"lakecolor\": \"white\", \"landcolor\": \"#E5ECF6\", \"showlakes\": true, \"showland\": true, \"subunitcolor\": \"white\"}, \"hoverlabel\": {\"align\": \"left\"}, \"hovermode\": \"closest\", \"mapbox\": {\"style\": \"light\"}, \"paper_bgcolor\": \"white\", \"plot_bgcolor\": \"#E5ECF6\", \"polar\": {\"angularaxis\": {\"gridcolor\": \"white\", \"linecolor\": \"white\", \"ticks\": \"\"}, \"bgcolor\": \"#E5ECF6\", \"radialaxis\": {\"gridcolor\": \"white\", \"linecolor\": \"white\", \"ticks\": \"\"}}, \"scene\": {\"xaxis\": {\"backgroundcolor\": \"#E5ECF6\", \"gridcolor\": \"white\", \"gridwidth\": 2, \"linecolor\": \"white\", \"showbackground\": true, \"ticks\": \"\", \"zerolinecolor\": \"white\"}, \"yaxis\": {\"backgroundcolor\": \"#E5ECF6\", \"gridcolor\": \"white\", \"gridwidth\": 2, \"linecolor\": \"white\", \"showbackground\": true, \"ticks\": \"\", \"zerolinecolor\": \"white\"}, \"zaxis\": {\"backgroundcolor\": \"#E5ECF6\", \"gridcolor\": \"white\", \"gridwidth\": 2, \"linecolor\": \"white\", \"showbackground\": true, \"ticks\": \"\", \"zerolinecolor\": \"white\"}}, \"shapedefaults\": {\"line\": {\"color\": \"#2a3f5f\"}}, \"ternary\": {\"aaxis\": {\"gridcolor\": \"white\", \"linecolor\": \"white\", \"ticks\": \"\"}, \"baxis\": {\"gridcolor\": \"white\", \"linecolor\": \"white\", \"ticks\": \"\"}, \"bgcolor\": \"#E5ECF6\", \"caxis\": {\"gridcolor\": \"white\", \"linecolor\": \"white\", \"ticks\": \"\"}}, \"title\": {\"x\": 0.05}, \"xaxis\": {\"automargin\": true, \"gridcolor\": \"white\", \"linecolor\": \"white\", \"ticks\": \"\", \"title\": {\"standoff\": 15}, \"zerolinecolor\": \"white\", \"zerolinewidth\": 2}, \"yaxis\": {\"automargin\": true, \"gridcolor\": \"white\", \"linecolor\": \"white\", \"ticks\": \"\", \"title\": {\"standoff\": 15}, \"zerolinecolor\": \"white\", \"zerolinewidth\": 2}}}, \"title\": {\"text\": \"Confirmed vs Death\"}, \"xaxis\": {\"anchor\": \"y\", \"domain\": [0.0, 1.0], \"title\": {\"text\": \"Confirmed\"}, \"type\": \"log\"}, \"yaxis\": {\"anchor\": \"x\", \"domain\": [0.0, 1.0], \"title\": {\"text\": \"Deaths\"}}},\n",
       "                        {\"responsive\": true}\n",
       "                    ).then(function(){\n",
       "                            \n",
       "var gd = document.getElementById('17046e38-3a63-4e4a-b8d3-9102925e6028');\n",
       "var x = new MutationObserver(function (mutations, observer) {{\n",
       "        var display = window.getComputedStyle(gd).display;\n",
       "        if (!display || display === 'none') {{\n",
       "            console.log([gd, 'removed!']);\n",
       "            Plotly.purge(gd);\n",
       "            observer.disconnect();\n",
       "        }}\n",
       "}});\n",
       "\n",
       "// Listen for the removal of the full notebook cells\n",
       "var notebookContainer = gd.closest('#notebook-container');\n",
       "if (notebookContainer) {{\n",
       "    x.observe(notebookContainer, {childList: true});\n",
       "}}\n",
       "\n",
       "// Listen for the clearing of the current output cell\n",
       "var outputEl = gd.closest('.output');\n",
       "if (outputEl) {{\n",
       "    x.observe(outputEl, {childList: true});\n",
       "}}\n",
       "\n",
       "                        })\n",
       "                };\n",
       "                });\n",
       "            </script>\n",
       "        </div>"
      ]
     },
     "metadata": {},
     "output_type": "display_data"
    }
   ],
   "source": [
    "px.scatter(latest[latest['Confirmed']>10], x='Confirmed', y='Deaths', color='State/UT', size='Confirmed', \n",
    "           text='State/UT', log_x =True, title='Confirmed vs Death')"
   ]
  },
  {
   "cell_type": "code",
   "execution_count": null,
   "metadata": {},
   "outputs": [],
   "source": []
  }
 ],
 "metadata": {
  "kernelspec": {
   "display_name": "Python 3",
   "language": "python",
   "name": "python3"
  },
  "language_info": {
   "codemirror_mode": {
    "name": "ipython",
    "version": 3
   },
   "file_extension": ".py",
   "mimetype": "text/x-python",
   "name": "python",
   "nbconvert_exporter": "python",
   "pygments_lexer": "ipython3",
   "version": "3.6.5"
  }
 },
 "nbformat": 4,
 "nbformat_minor": 4
}
